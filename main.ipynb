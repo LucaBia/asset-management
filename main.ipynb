{
 "cells": [
  {
   "cell_type": "code",
   "execution_count": 120,
   "metadata": {},
   "outputs": [],
   "source": [
    "#!pip3 install statsmodels\n",
    "import pandas as pd\n",
    "import numpy as np\n",
    "import matplotlib.pyplot as plt\n",
    "from scipy.optimize import minimize\n",
    "import statsmodels.api as sm"
   ]
  },
  {
   "cell_type": "code",
   "execution_count": 194,
   "metadata": {},
   "outputs": [],
   "source": [
    "file_paths = [\n",
    "    './Data/BIIB.OQ.csv',\n",
    "    './Data/BIO.N.csv',\n",
    "    './Data/LKQ.OQ.csv',\n",
    "    './Data/TXT.N.csv',\n",
    "    './Data/VRSK.OQ.csv',\n",
    "    './Data/MKTX.OQ.csv'\n",
    "]\n",
    "\n",
    "# Si caricano i file\n",
    "dataframes = [pd.read_csv(file) for file in file_paths]\n"
   ]
  },
  {
   "cell_type": "code",
   "execution_count": 195,
   "metadata": {},
   "outputs": [],
   "source": [
    "# Count the NaN rows in each dataframe\n",
    "nan_counts = [df.isna().sum().max() for df in dataframes]\n",
    "\n",
    "# Find the maximum number of NaN rows across all datasets\n",
    "max_nan_count = max(nan_counts)"
   ]
  },
  {
   "cell_type": "code",
   "execution_count": 196,
   "metadata": {},
   "outputs": [],
   "source": [
    "processed_dfs = []\n",
    "for df in dataframes:\n",
    "    # Drop the top rows based on the maximum NaN count\n",
    "    df = df.iloc[max_nan_count:].copy()\n",
    "\n",
    "    # Conversione della colonna 'Date' in tipo di dato datetime\n",
    "    df['Date'] = pd.to_datetime(df['Date'])\n",
    "    df['1 Month Total Return'] = df['1 Month Total Return']/100\n",
    "\n",
    "    # Impostazione della data e ticker symbol come un indice multiplo (multi-index)\n",
    "    df.set_index(['Date', 'Instrument'], inplace=True)\n",
    "\n",
    "    # Keep only the '1 Month Total Return' column\n",
    "    df = df[['1 Month Total Return']]\n",
    "\n",
    "    processed_dfs.append(df)"
   ]
  },
  {
   "cell_type": "code",
   "execution_count": 197,
   "metadata": {},
   "outputs": [],
   "source": [
    "# Merge all dataframes on the multi-index\n",
    "merged_data = pd.concat(processed_dfs, axis=0)"
   ]
  },
  {
   "cell_type": "code",
   "execution_count": 198,
   "metadata": {},
   "outputs": [
    {
     "data": {
      "text/html": [
       "<div>\n",
       "<style scoped>\n",
       "    .dataframe tbody tr th:only-of-type {\n",
       "        vertical-align: middle;\n",
       "    }\n",
       "\n",
       "    .dataframe tbody tr th {\n",
       "        vertical-align: top;\n",
       "    }\n",
       "\n",
       "    .dataframe thead th {\n",
       "        text-align: right;\n",
       "    }\n",
       "</style>\n",
       "<table border=\"1\" class=\"dataframe\">\n",
       "  <thead>\n",
       "    <tr style=\"text-align: right;\">\n",
       "      <th>Instrument</th>\n",
       "      <th>BIIB.OQ</th>\n",
       "      <th>BIO.N</th>\n",
       "      <th>LKQ.OQ</th>\n",
       "      <th>MKTX.OQ</th>\n",
       "      <th>TXT.N</th>\n",
       "      <th>VRSK.OQ</th>\n",
       "    </tr>\n",
       "    <tr>\n",
       "      <th>Date</th>\n",
       "      <th></th>\n",
       "      <th></th>\n",
       "      <th></th>\n",
       "      <th></th>\n",
       "      <th></th>\n",
       "      <th></th>\n",
       "    </tr>\n",
       "  </thead>\n",
       "  <tbody>\n",
       "    <tr>\n",
       "      <th>2009-10-30 00:00:00+00:00</th>\n",
       "      <td>-0.166073</td>\n",
       "      <td>-0.027101</td>\n",
       "      <td>-0.068501</td>\n",
       "      <td>-0.014108</td>\n",
       "      <td>-0.063224</td>\n",
       "      <td>0.007715</td>\n",
       "    </tr>\n",
       "    <tr>\n",
       "      <th>2009-11-30 00:00:00+00:00</th>\n",
       "      <td>0.114170</td>\n",
       "      <td>0.081665</td>\n",
       "      <td>0.009265</td>\n",
       "      <td>0.053882</td>\n",
       "      <td>0.127672</td>\n",
       "      <td>-0.018957</td>\n",
       "    </tr>\n",
       "    <tr>\n",
       "      <th>2009-12-31 00:00:00+00:00</th>\n",
       "      <td>0.139753</td>\n",
       "      <td>-0.002379</td>\n",
       "      <td>0.123924</td>\n",
       "      <td>0.116466</td>\n",
       "      <td>-0.060889</td>\n",
       "      <td>0.125232</td>\n",
       "    </tr>\n",
       "    <tr>\n",
       "      <th>2010-01-29 00:00:00+00:00</th>\n",
       "      <td>0.004486</td>\n",
       "      <td>-0.034004</td>\n",
       "      <td>-0.042879</td>\n",
       "      <td>-0.019424</td>\n",
       "      <td>0.038278</td>\n",
       "      <td>-0.071334</td>\n",
       "    </tr>\n",
       "    <tr>\n",
       "      <th>2010-02-26 00:00:00+00:00</th>\n",
       "      <td>0.032664</td>\n",
       "      <td>-0.011223</td>\n",
       "      <td>0.010554</td>\n",
       "      <td>0.102802</td>\n",
       "      <td>0.017365</td>\n",
       "      <td>-0.016336</td>\n",
       "    </tr>\n",
       "    <tr>\n",
       "      <th>...</th>\n",
       "      <td>...</td>\n",
       "      <td>...</td>\n",
       "      <td>...</td>\n",
       "      <td>...</td>\n",
       "      <td>...</td>\n",
       "      <td>...</td>\n",
       "    </tr>\n",
       "    <tr>\n",
       "      <th>2023-07-31 00:00:00+00:00</th>\n",
       "      <td>-0.051466</td>\n",
       "      <td>0.069213</td>\n",
       "      <td>-0.059722</td>\n",
       "      <td>0.029837</td>\n",
       "      <td>0.149933</td>\n",
       "      <td>0.012874</td>\n",
       "    </tr>\n",
       "    <tr>\n",
       "      <th>2023-08-31 00:00:00+00:00</th>\n",
       "      <td>-0.010474</td>\n",
       "      <td>-0.012729</td>\n",
       "      <td>-0.036234</td>\n",
       "      <td>-0.102628</td>\n",
       "      <td>-0.000772</td>\n",
       "      <td>0.058006</td>\n",
       "    </tr>\n",
       "    <tr>\n",
       "      <th>2023-09-29 00:00:00+00:00</th>\n",
       "      <td>-0.038064</td>\n",
       "      <td>-0.096762</td>\n",
       "      <td>-0.074060</td>\n",
       "      <td>-0.121799</td>\n",
       "      <td>0.007613</td>\n",
       "      <td>-0.021131</td>\n",
       "    </tr>\n",
       "    <tr>\n",
       "      <th>2023-10-31 00:00:00+00:00</th>\n",
       "      <td>-0.075756</td>\n",
       "      <td>-0.232027</td>\n",
       "      <td>-0.112906</td>\n",
       "      <td>0.000515</td>\n",
       "      <td>-0.027387</td>\n",
       "      <td>-0.037589</td>\n",
       "    </tr>\n",
       "    <tr>\n",
       "      <th>2023-11-30 00:00:00+00:00</th>\n",
       "      <td>-0.013195</td>\n",
       "      <td>0.131975</td>\n",
       "      <td>0.033015</td>\n",
       "      <td>0.124999</td>\n",
       "      <td>0.011346</td>\n",
       "      <td>0.075460</td>\n",
       "    </tr>\n",
       "  </tbody>\n",
       "</table>\n",
       "<p>170 rows × 6 columns</p>\n",
       "</div>"
      ],
      "text/plain": [
       "Instrument                  BIIB.OQ     BIO.N    LKQ.OQ   MKTX.OQ     TXT.N  \\\n",
       "Date                                                                          \n",
       "2009-10-30 00:00:00+00:00 -0.166073 -0.027101 -0.068501 -0.014108 -0.063224   \n",
       "2009-11-30 00:00:00+00:00  0.114170  0.081665  0.009265  0.053882  0.127672   \n",
       "2009-12-31 00:00:00+00:00  0.139753 -0.002379  0.123924  0.116466 -0.060889   \n",
       "2010-01-29 00:00:00+00:00  0.004486 -0.034004 -0.042879 -0.019424  0.038278   \n",
       "2010-02-26 00:00:00+00:00  0.032664 -0.011223  0.010554  0.102802  0.017365   \n",
       "...                             ...       ...       ...       ...       ...   \n",
       "2023-07-31 00:00:00+00:00 -0.051466  0.069213 -0.059722  0.029837  0.149933   \n",
       "2023-08-31 00:00:00+00:00 -0.010474 -0.012729 -0.036234 -0.102628 -0.000772   \n",
       "2023-09-29 00:00:00+00:00 -0.038064 -0.096762 -0.074060 -0.121799  0.007613   \n",
       "2023-10-31 00:00:00+00:00 -0.075756 -0.232027 -0.112906  0.000515 -0.027387   \n",
       "2023-11-30 00:00:00+00:00 -0.013195  0.131975  0.033015  0.124999  0.011346   \n",
       "\n",
       "Instrument                  VRSK.OQ  \n",
       "Date                                 \n",
       "2009-10-30 00:00:00+00:00  0.007715  \n",
       "2009-11-30 00:00:00+00:00 -0.018957  \n",
       "2009-12-31 00:00:00+00:00  0.125232  \n",
       "2010-01-29 00:00:00+00:00 -0.071334  \n",
       "2010-02-26 00:00:00+00:00 -0.016336  \n",
       "...                             ...  \n",
       "2023-07-31 00:00:00+00:00  0.012874  \n",
       "2023-08-31 00:00:00+00:00  0.058006  \n",
       "2023-09-29 00:00:00+00:00 -0.021131  \n",
       "2023-10-31 00:00:00+00:00 -0.037589  \n",
       "2023-11-30 00:00:00+00:00  0.075460  \n",
       "\n",
       "[170 rows x 6 columns]"
      ]
     },
     "execution_count": 198,
     "metadata": {},
     "output_type": "execute_result"
    }
   ],
   "source": [
    "# Resetea el índice para convertir 'Date' y 'Instrument' en columnas\n",
    "merged_data_reset = merged_data.reset_index()\n",
    "\n",
    "# Realiza el pivot\n",
    "returns = merged_data_reset.pivot(index='Date', columns='Instrument', values='1 Month Total Return')\n",
    "returns"
   ]
  },
  {
   "cell_type": "code",
   "execution_count": 199,
   "metadata": {},
   "outputs": [
    {
     "data": {
      "text/plain": [
       "array([[-0.16607284, -0.02710057, -0.06850054, -0.01410788, -0.06322445,\n",
       "         0.00771492],\n",
       "       [ 0.11417042,  0.08166462,  0.00926462,  0.05388153,  0.12767154,\n",
       "        -0.01895735],\n",
       "       [ 0.13975288, -0.00237874,  0.12392427,  0.11646586, -0.06088906,\n",
       "         0.12523226],\n",
       "       ...,\n",
       "       [-0.03806423, -0.096762  , -0.07406022, -0.12179882,  0.00761267,\n",
       "        -0.02113113],\n",
       "       [-0.07575581, -0.23202678, -0.11290648,  0.00051488, -0.02738674,\n",
       "        -0.03758889],\n",
       "       [-0.01319506,  0.13197461,  0.03301478,  0.12499856,  0.01134565,\n",
       "         0.07545993]])"
      ]
     },
     "execution_count": 199,
     "metadata": {},
     "output_type": "execute_result"
    }
   ],
   "source": [
    "# Eliminando la columna de fecha y los nombres de los encabezados de los instrumentos\n",
    "df_sin_fecha_sin_header = returns.reset_index(drop=True)\n",
    "df_sin_fecha_sin_header.columns.name = None\n",
    "\n",
    "ret = df_sin_fecha_sin_header.to_numpy()\n",
    "ret"
   ]
  },
  {
   "cell_type": "code",
   "execution_count": 28,
   "metadata": {},
   "outputs": [],
   "source": [
    "# TODO: Grafici storici "
   ]
  },
  {
   "cell_type": "markdown",
   "metadata": {},
   "source": [
    "### 2. Estimate historical mean and variance covariance matrix of the stocks in your dataset with the methods described below. Estimate the variance covariance matrix with a Shrinkage toward Constant Correlation Approach (consider k=0.3). Estimate the vector of averages with an exponential average (lambda=0.01). Comment on the correlations among the stocks observed in your dataset."
   ]
  },
  {
   "cell_type": "markdown",
   "metadata": {},
   "source": [
    "#### 2.1"
   ]
  },
  {
   "cell_type": "code",
   "execution_count": 202,
   "metadata": {},
   "outputs": [
    {
     "data": {
      "text/html": [
       "<div>\n",
       "<style scoped>\n",
       "    .dataframe tbody tr th:only-of-type {\n",
       "        vertical-align: middle;\n",
       "    }\n",
       "\n",
       "    .dataframe tbody tr th {\n",
       "        vertical-align: top;\n",
       "    }\n",
       "\n",
       "    .dataframe thead th {\n",
       "        text-align: right;\n",
       "    }\n",
       "</style>\n",
       "<table border=\"1\" class=\"dataframe\">\n",
       "  <thead>\n",
       "    <tr style=\"text-align: right;\">\n",
       "      <th></th>\n",
       "      <th>1 Month Total Return</th>\n",
       "    </tr>\n",
       "    <tr>\n",
       "      <th>Instrument</th>\n",
       "      <th></th>\n",
       "    </tr>\n",
       "  </thead>\n",
       "  <tbody>\n",
       "    <tr>\n",
       "      <th>BIIB.OQ</th>\n",
       "      <td>0.014771</td>\n",
       "    </tr>\n",
       "    <tr>\n",
       "      <th>BIO.N</th>\n",
       "      <td>0.009851</td>\n",
       "    </tr>\n",
       "    <tr>\n",
       "      <th>LKQ.OQ</th>\n",
       "      <td>0.013838</td>\n",
       "    </tr>\n",
       "    <tr>\n",
       "      <th>MKTX.OQ</th>\n",
       "      <td>0.023264</td>\n",
       "    </tr>\n",
       "    <tr>\n",
       "      <th>TXT.N</th>\n",
       "      <td>0.011108</td>\n",
       "    </tr>\n",
       "    <tr>\n",
       "      <th>VRSK.OQ</th>\n",
       "      <td>0.015411</td>\n",
       "    </tr>\n",
       "  </tbody>\n",
       "</table>\n",
       "</div>"
      ],
      "text/plain": [
       "            1 Month Total Return\n",
       "Instrument                      \n",
       "BIIB.OQ                 0.014771\n",
       "BIO.N                   0.009851\n",
       "LKQ.OQ                  0.013838\n",
       "MKTX.OQ                 0.023264\n",
       "TXT.N                   0.011108\n",
       "VRSK.OQ                 0.015411"
      ]
     },
     "execution_count": 202,
     "metadata": {},
     "output_type": "execute_result"
    }
   ],
   "source": [
    "# Historical mean\n",
    "er = merged_data.groupby(level='Instrument').mean()\n",
    "er"
   ]
  },
  {
   "cell_type": "markdown",
   "metadata": {},
   "source": [
    "#### Variance-covariance matrix"
   ]
  },
  {
   "cell_type": "code",
   "execution_count": 203,
   "metadata": {},
   "outputs": [
    {
     "data": {
      "text/html": [
       "<div>\n",
       "<style scoped>\n",
       "    .dataframe tbody tr th:only-of-type {\n",
       "        vertical-align: middle;\n",
       "    }\n",
       "\n",
       "    .dataframe tbody tr th {\n",
       "        vertical-align: top;\n",
       "    }\n",
       "\n",
       "    .dataframe thead tr th {\n",
       "        text-align: left;\n",
       "    }\n",
       "\n",
       "    .dataframe thead tr:last-of-type th {\n",
       "        text-align: right;\n",
       "    }\n",
       "</style>\n",
       "<table border=\"1\" class=\"dataframe\">\n",
       "  <thead>\n",
       "    <tr>\n",
       "      <th></th>\n",
       "      <th></th>\n",
       "      <th colspan=\"6\" halign=\"left\">1 Month Total Return</th>\n",
       "    </tr>\n",
       "    <tr>\n",
       "      <th></th>\n",
       "      <th>Instrument</th>\n",
       "      <th>BIIB.OQ</th>\n",
       "      <th>BIO.N</th>\n",
       "      <th>LKQ.OQ</th>\n",
       "      <th>MKTX.OQ</th>\n",
       "      <th>TXT.N</th>\n",
       "      <th>VRSK.OQ</th>\n",
       "    </tr>\n",
       "    <tr>\n",
       "      <th></th>\n",
       "      <th>Instrument</th>\n",
       "      <th></th>\n",
       "      <th></th>\n",
       "      <th></th>\n",
       "      <th></th>\n",
       "      <th></th>\n",
       "      <th></th>\n",
       "    </tr>\n",
       "  </thead>\n",
       "  <tbody>\n",
       "    <tr>\n",
       "      <th rowspan=\"6\" valign=\"top\">1 Month Total Return</th>\n",
       "      <th>BIIB.OQ</th>\n",
       "      <td>0.009288</td>\n",
       "      <td>0.001343</td>\n",
       "      <td>0.001241</td>\n",
       "      <td>0.000955</td>\n",
       "      <td>0.001866</td>\n",
       "      <td>-0.000087</td>\n",
       "    </tr>\n",
       "    <tr>\n",
       "      <th>BIO.N</th>\n",
       "      <td>0.001343</td>\n",
       "      <td>0.006157</td>\n",
       "      <td>0.002277</td>\n",
       "      <td>0.003223</td>\n",
       "      <td>0.002680</td>\n",
       "      <td>0.001289</td>\n",
       "    </tr>\n",
       "    <tr>\n",
       "      <th>LKQ.OQ</th>\n",
       "      <td>0.001241</td>\n",
       "      <td>0.002277</td>\n",
       "      <td>0.006262</td>\n",
       "      <td>0.001790</td>\n",
       "      <td>0.003055</td>\n",
       "      <td>0.001232</td>\n",
       "    </tr>\n",
       "    <tr>\n",
       "      <th>MKTX.OQ</th>\n",
       "      <td>0.000955</td>\n",
       "      <td>0.003223</td>\n",
       "      <td>0.001790</td>\n",
       "      <td>0.008160</td>\n",
       "      <td>0.000713</td>\n",
       "      <td>0.000916</td>\n",
       "    </tr>\n",
       "    <tr>\n",
       "      <th>TXT.N</th>\n",
       "      <td>0.001866</td>\n",
       "      <td>0.002680</td>\n",
       "      <td>0.003055</td>\n",
       "      <td>0.000713</td>\n",
       "      <td>0.008447</td>\n",
       "      <td>0.001389</td>\n",
       "    </tr>\n",
       "    <tr>\n",
       "      <th>VRSK.OQ</th>\n",
       "      <td>-0.000087</td>\n",
       "      <td>0.001289</td>\n",
       "      <td>0.001232</td>\n",
       "      <td>0.000916</td>\n",
       "      <td>0.001389</td>\n",
       "      <td>0.003282</td>\n",
       "    </tr>\n",
       "  </tbody>\n",
       "</table>\n",
       "</div>"
      ],
      "text/plain": [
       "                                1 Month Total Return                      \\\n",
       "Instrument                                   BIIB.OQ     BIO.N    LKQ.OQ   \n",
       "                     Instrument                                            \n",
       "1 Month Total Return BIIB.OQ                0.009288  0.001343  0.001241   \n",
       "                     BIO.N                  0.001343  0.006157  0.002277   \n",
       "                     LKQ.OQ                 0.001241  0.002277  0.006262   \n",
       "                     MKTX.OQ                0.000955  0.003223  0.001790   \n",
       "                     TXT.N                  0.001866  0.002680  0.003055   \n",
       "                     VRSK.OQ               -0.000087  0.001289  0.001232   \n",
       "\n",
       "                                                               \n",
       "Instrument                        MKTX.OQ     TXT.N   VRSK.OQ  \n",
       "                     Instrument                                \n",
       "1 Month Total Return BIIB.OQ     0.000955  0.001866 -0.000087  \n",
       "                     BIO.N       0.003223  0.002680  0.001289  \n",
       "                     LKQ.OQ      0.001790  0.003055  0.001232  \n",
       "                     MKTX.OQ     0.008160  0.000713  0.000916  \n",
       "                     TXT.N       0.000713  0.008447  0.001389  \n",
       "                     VRSK.OQ     0.000916  0.001389  0.003282  "
      ]
     },
     "execution_count": 203,
     "metadata": {},
     "output_type": "execute_result"
    }
   ],
   "source": [
    "# Aggregate data to ensure unique entries for each stock per date\n",
    "aggregated_data = merged_data.groupby(level=['Date', 'Instrument']).mean()\n",
    "\n",
    "# Unstack the data after aggregation\n",
    "unstacked_data = aggregated_data.unstack(level='Instrument')\n",
    "\n",
    "# Calculate the historical variance-covariance matrix\n",
    "# TODO\n",
    "V = unstacked_data.cov()\n",
    "V"
   ]
  },
  {
   "cell_type": "markdown",
   "metadata": {},
   "source": [
    "#### 2.2"
   ]
  },
  {
   "cell_type": "markdown",
   "metadata": {},
   "source": [
    "<b>Variance-Covariance matrix with a Shrinkage toward Constant Correlation Approach</b><br>"
   ]
  },
  {
   "cell_type": "code",
   "execution_count": 51,
   "metadata": {},
   "outputs": [
    {
     "data": {
      "text/html": [
       "<div>\n",
       "<style scoped>\n",
       "    .dataframe tbody tr th:only-of-type {\n",
       "        vertical-align: middle;\n",
       "    }\n",
       "\n",
       "    .dataframe tbody tr th {\n",
       "        vertical-align: top;\n",
       "    }\n",
       "\n",
       "    .dataframe thead tr th {\n",
       "        text-align: left;\n",
       "    }\n",
       "\n",
       "    .dataframe thead tr:last-of-type th {\n",
       "        text-align: right;\n",
       "    }\n",
       "</style>\n",
       "<table border=\"1\" class=\"dataframe\">\n",
       "  <thead>\n",
       "    <tr>\n",
       "      <th></th>\n",
       "      <th></th>\n",
       "      <th colspan=\"6\" halign=\"left\">1 Month Total Return</th>\n",
       "    </tr>\n",
       "    <tr>\n",
       "      <th></th>\n",
       "      <th>Instrument</th>\n",
       "      <th>BIIB.OQ</th>\n",
       "      <th>BIO.N</th>\n",
       "      <th>LKQ.OQ</th>\n",
       "      <th>MKTX.OQ</th>\n",
       "      <th>TXT.N</th>\n",
       "      <th>VRSK.OQ</th>\n",
       "    </tr>\n",
       "    <tr>\n",
       "      <th></th>\n",
       "      <th>Instrument</th>\n",
       "      <th></th>\n",
       "      <th></th>\n",
       "      <th></th>\n",
       "      <th></th>\n",
       "      <th></th>\n",
       "      <th></th>\n",
       "    </tr>\n",
       "  </thead>\n",
       "  <tbody>\n",
       "    <tr>\n",
       "      <th rowspan=\"6\" valign=\"top\">1 Month Total Return</th>\n",
       "      <th>BIIB.OQ</th>\n",
       "      <td>1.000000</td>\n",
       "      <td>0.177609</td>\n",
       "      <td>0.162697</td>\n",
       "      <td>0.109708</td>\n",
       "      <td>0.210637</td>\n",
       "      <td>-0.015779</td>\n",
       "    </tr>\n",
       "    <tr>\n",
       "      <th>BIO.N</th>\n",
       "      <td>0.177609</td>\n",
       "      <td>1.000000</td>\n",
       "      <td>0.366721</td>\n",
       "      <td>0.454655</td>\n",
       "      <td>0.371576</td>\n",
       "      <td>0.286779</td>\n",
       "    </tr>\n",
       "    <tr>\n",
       "      <th>LKQ.OQ</th>\n",
       "      <td>0.162697</td>\n",
       "      <td>0.366721</td>\n",
       "      <td>1.000000</td>\n",
       "      <td>0.250358</td>\n",
       "      <td>0.420027</td>\n",
       "      <td>0.271829</td>\n",
       "    </tr>\n",
       "    <tr>\n",
       "      <th>MKTX.OQ</th>\n",
       "      <td>0.109708</td>\n",
       "      <td>0.454655</td>\n",
       "      <td>0.250358</td>\n",
       "      <td>1.000000</td>\n",
       "      <td>0.085887</td>\n",
       "      <td>0.176924</td>\n",
       "    </tr>\n",
       "    <tr>\n",
       "      <th>TXT.N</th>\n",
       "      <td>0.210637</td>\n",
       "      <td>0.371576</td>\n",
       "      <td>0.420027</td>\n",
       "      <td>0.085887</td>\n",
       "      <td>1.000000</td>\n",
       "      <td>0.263755</td>\n",
       "    </tr>\n",
       "    <tr>\n",
       "      <th>VRSK.OQ</th>\n",
       "      <td>-0.015779</td>\n",
       "      <td>0.286779</td>\n",
       "      <td>0.271829</td>\n",
       "      <td>0.176924</td>\n",
       "      <td>0.263755</td>\n",
       "      <td>1.000000</td>\n",
       "    </tr>\n",
       "  </tbody>\n",
       "</table>\n",
       "</div>"
      ],
      "text/plain": [
       "                                1 Month Total Return                      \\\n",
       "Instrument                                   BIIB.OQ     BIO.N    LKQ.OQ   \n",
       "                     Instrument                                            \n",
       "1 Month Total Return BIIB.OQ                1.000000  0.177609  0.162697   \n",
       "                     BIO.N                  0.177609  1.000000  0.366721   \n",
       "                     LKQ.OQ                 0.162697  0.366721  1.000000   \n",
       "                     MKTX.OQ                0.109708  0.454655  0.250358   \n",
       "                     TXT.N                  0.210637  0.371576  0.420027   \n",
       "                     VRSK.OQ               -0.015779  0.286779  0.271829   \n",
       "\n",
       "                                                               \n",
       "Instrument                        MKTX.OQ     TXT.N   VRSK.OQ  \n",
       "                     Instrument                                \n",
       "1 Month Total Return BIIB.OQ     0.109708  0.210637 -0.015779  \n",
       "                     BIO.N       0.454655  0.371576  0.286779  \n",
       "                     LKQ.OQ      0.250358  0.420027  0.271829  \n",
       "                     MKTX.OQ     1.000000  0.085887  0.176924  \n",
       "                     TXT.N       0.085887  1.000000  0.263755  \n",
       "                     VRSK.OQ     0.176924  0.263755  1.000000  "
      ]
     },
     "execution_count": 51,
     "metadata": {},
     "output_type": "execute_result"
    }
   ],
   "source": [
    "# Calculate the correlation matrix\n",
    "corr_matrix = unstacked_data.corr()\n",
    "corr_matrix"
   ]
  },
  {
   "cell_type": "code",
   "execution_count": 86,
   "metadata": {},
   "outputs": [
    {
     "data": {
      "text/plain": [
       "0.23955880968047474"
      ]
     },
     "execution_count": 86,
     "metadata": {},
     "output_type": "execute_result"
    }
   ],
   "source": [
    "rho = (corr_matrix.values.sum()-V.shape[0])/(V.shape[0]*(V.shape[0]-1))\n",
    "rho"
   ]
  },
  {
   "cell_type": "code",
   "execution_count": 87,
   "metadata": {},
   "outputs": [
    {
     "name": "stdout",
     "output_type": "stream",
     "text": [
      "[[0.09637565 0.         0.         0.         0.         0.        ]\n",
      " [0.         0.07846462 0.         0.         0.         0.        ]\n",
      " [0.         0.         0.07913552 0.         0.         0.        ]\n",
      " [0.         0.         0.         0.09033462 0.         0.        ]\n",
      " [0.         0.         0.         0.         0.09190981 0.        ]\n",
      " [0.         0.         0.         0.         0.         0.0572857 ]]\n"
     ]
    }
   ],
   "source": [
    "diag_v = np.sqrt(np.diag(V))\n",
    "\n",
    "inv_D = np.zeros((len(diag_v), len(diag_v)))\n",
    "np.fill_diagonal(inv_D, diag_v)\n",
    "\n",
    "print(inv_D)"
   ]
  },
  {
   "cell_type": "code",
   "execution_count": 80,
   "metadata": {},
   "outputs": [
    {
     "name": "stdout",
     "output_type": "stream",
     "text": [
      "[[1.         0.23955881 0.23955881 0.23955881 0.23955881 0.23955881]\n",
      " [0.23955881 1.         0.23955881 0.23955881 0.23955881 0.23955881]\n",
      " [0.23955881 0.23955881 1.         0.23955881 0.23955881 0.23955881]\n",
      " [0.23955881 0.23955881 0.23955881 1.         0.23955881 0.23955881]\n",
      " [0.23955881 0.23955881 0.23955881 0.23955881 1.         0.23955881]\n",
      " [0.23955881 0.23955881 0.23955881 0.23955881 0.23955881 1.        ]]\n"
     ]
    }
   ],
   "source": [
    "ones = [1,1,1,1,1,1]\n",
    "theta_cc = np.full((6,6), rho)\n",
    "np.fill_diagonal(theta_cc, ones)\n",
    "print(theta_cc)"
   ]
  },
  {
   "cell_type": "code",
   "execution_count": 219,
   "metadata": {},
   "outputs": [
    {
     "data": {
      "text/plain": [
       "array([[0.00928827, 0.00181156, 0.00182705, 0.00208561, 0.00212198,\n",
       "        0.00132259],\n",
       "       [0.00181156, 0.0061567 , 0.0014875 , 0.00169801, 0.00172762,\n",
       "        0.00107679],\n",
       "       [0.00182705, 0.0014875 , 0.00626243, 0.00171253, 0.00174239,\n",
       "        0.001086  ],\n",
       "       [0.00208561, 0.00169801, 0.00171253, 0.00816034, 0.00198897,\n",
       "        0.00123969],\n",
       "       [0.00212198, 0.00172762, 0.00174239, 0.00198897, 0.00844741,\n",
       "        0.00126131],\n",
       "       [0.00132259, 0.00107679, 0.001086  , 0.00123969, 0.00126131,\n",
       "        0.00328165]])"
      ]
     },
     "execution_count": 219,
     "metadata": {},
     "output_type": "execute_result"
    }
   ],
   "source": [
    "# TODO: Pandas dataframe\n",
    "V_cc = inv_D @ theta_cc @ inv_D\n",
    "V_cc"
   ]
  },
  {
   "cell_type": "code",
   "execution_count": 220,
   "metadata": {},
   "outputs": [
    {
     "data": {
      "text/html": [
       "<div>\n",
       "<style scoped>\n",
       "    .dataframe tbody tr th:only-of-type {\n",
       "        vertical-align: middle;\n",
       "    }\n",
       "\n",
       "    .dataframe tbody tr th {\n",
       "        vertical-align: top;\n",
       "    }\n",
       "\n",
       "    .dataframe thead tr th {\n",
       "        text-align: left;\n",
       "    }\n",
       "\n",
       "    .dataframe thead tr:last-of-type th {\n",
       "        text-align: right;\n",
       "    }\n",
       "</style>\n",
       "<table border=\"1\" class=\"dataframe\">\n",
       "  <thead>\n",
       "    <tr>\n",
       "      <th></th>\n",
       "      <th></th>\n",
       "      <th colspan=\"6\" halign=\"left\">1 Month Total Return</th>\n",
       "    </tr>\n",
       "    <tr>\n",
       "      <th></th>\n",
       "      <th>Instrument</th>\n",
       "      <th>BIIB.OQ</th>\n",
       "      <th>BIO.N</th>\n",
       "      <th>LKQ.OQ</th>\n",
       "      <th>MKTX.OQ</th>\n",
       "      <th>TXT.N</th>\n",
       "      <th>VRSK.OQ</th>\n",
       "    </tr>\n",
       "    <tr>\n",
       "      <th></th>\n",
       "      <th>Instrument</th>\n",
       "      <th></th>\n",
       "      <th></th>\n",
       "      <th></th>\n",
       "      <th></th>\n",
       "      <th></th>\n",
       "      <th></th>\n",
       "    </tr>\n",
       "  </thead>\n",
       "  <tbody>\n",
       "    <tr>\n",
       "      <th rowspan=\"6\" valign=\"top\">1 Month Total Return</th>\n",
       "      <th>BIIB.OQ</th>\n",
       "      <td>0.009288</td>\n",
       "      <td>0.001484</td>\n",
       "      <td>0.001417</td>\n",
       "      <td>0.001294</td>\n",
       "      <td>0.001943</td>\n",
       "      <td>0.000336</td>\n",
       "    </tr>\n",
       "    <tr>\n",
       "      <th>BIO.N</th>\n",
       "      <td>0.001484</td>\n",
       "      <td>0.006157</td>\n",
       "      <td>0.002040</td>\n",
       "      <td>0.002765</td>\n",
       "      <td>0.002394</td>\n",
       "      <td>0.001225</td>\n",
       "    </tr>\n",
       "    <tr>\n",
       "      <th>LKQ.OQ</th>\n",
       "      <td>0.001417</td>\n",
       "      <td>0.002040</td>\n",
       "      <td>0.006262</td>\n",
       "      <td>0.001767</td>\n",
       "      <td>0.002661</td>\n",
       "      <td>0.001188</td>\n",
       "    </tr>\n",
       "    <tr>\n",
       "      <th>MKTX.OQ</th>\n",
       "      <td>0.001294</td>\n",
       "      <td>0.002765</td>\n",
       "      <td>0.001767</td>\n",
       "      <td>0.008160</td>\n",
       "      <td>0.001096</td>\n",
       "      <td>0.001013</td>\n",
       "    </tr>\n",
       "    <tr>\n",
       "      <th>TXT.N</th>\n",
       "      <td>0.001943</td>\n",
       "      <td>0.002394</td>\n",
       "      <td>0.002661</td>\n",
       "      <td>0.001096</td>\n",
       "      <td>0.008447</td>\n",
       "      <td>0.001350</td>\n",
       "    </tr>\n",
       "    <tr>\n",
       "      <th>VRSK.OQ</th>\n",
       "      <td>0.000336</td>\n",
       "      <td>0.001225</td>\n",
       "      <td>0.001188</td>\n",
       "      <td>0.001013</td>\n",
       "      <td>0.001350</td>\n",
       "      <td>0.003282</td>\n",
       "    </tr>\n",
       "  </tbody>\n",
       "</table>\n",
       "</div>"
      ],
      "text/plain": [
       "                                1 Month Total Return                      \\\n",
       "Instrument                                   BIIB.OQ     BIO.N    LKQ.OQ   \n",
       "                     Instrument                                            \n",
       "1 Month Total Return BIIB.OQ                0.009288  0.001484  0.001417   \n",
       "                     BIO.N                  0.001484  0.006157  0.002040   \n",
       "                     LKQ.OQ                 0.001417  0.002040  0.006262   \n",
       "                     MKTX.OQ                0.001294  0.002765  0.001767   \n",
       "                     TXT.N                  0.001943  0.002394  0.002661   \n",
       "                     VRSK.OQ                0.000336  0.001225  0.001188   \n",
       "\n",
       "                                                               \n",
       "Instrument                        MKTX.OQ     TXT.N   VRSK.OQ  \n",
       "                     Instrument                                \n",
       "1 Month Total Return BIIB.OQ     0.001294  0.001943  0.000336  \n",
       "                     BIO.N       0.002765  0.002394  0.001225  \n",
       "                     LKQ.OQ      0.001767  0.002661  0.001188  \n",
       "                     MKTX.OQ     0.008160  0.001096  0.001013  \n",
       "                     TXT.N       0.001096  0.008447  0.001350  \n",
       "                     VRSK.OQ     0.001013  0.001350  0.003282  "
      ]
     },
     "execution_count": 220,
     "metadata": {},
     "output_type": "execute_result"
    }
   ],
   "source": [
    "k = 0.3\n",
    "V_scc = k * V_cc + (1 - k) * V\n",
    "V_scc"
   ]
  },
  {
   "cell_type": "markdown",
   "metadata": {},
   "source": [
    "#### 2.3"
   ]
  },
  {
   "cell_type": "code",
   "execution_count": 221,
   "metadata": {},
   "outputs": [
    {
     "data": {
      "text/plain": [
       "Instrument\n",
       "BIIB.OQ    0.008335\n",
       "BIO.N      0.007318\n",
       "LKQ.OQ     0.011252\n",
       "MKTX.OQ    0.015390\n",
       "TXT.N      0.010532\n",
       "VRSK.OQ    0.014967\n",
       "dtype: float64"
      ]
     },
     "execution_count": 221,
     "metadata": {},
     "output_type": "execute_result"
    }
   ],
   "source": [
    "λ = 0.01\n",
    "N = returns.shape[0]\n",
    "t = np.arange(1, N + 1)\n",
    "\n",
    "weights = np.exp(-λ * (N - t))\n",
    "\n",
    "weighted_returns_sum = (returns * weights[:, None]).sum()\n",
    "weights_sum = weights.sum()\n",
    "\n",
    "er_exp = weighted_returns_sum / weights_sum\n",
    "er_exp"
   ]
  },
  {
   "cell_type": "markdown",
   "metadata": {},
   "source": [
    "-----"
   ]
  },
  {
   "cell_type": "markdown",
   "metadata": {},
   "source": [
    "### 3. Plot the efficient portfolio frontier (in the standard deviation-mean space) with a risk-free asset (with annual return Rf=0.02). Comment on the obtained tangent portfolio (or risky asset portfolio)."
   ]
  },
  {
   "cell_type": "code",
   "execution_count": 230,
   "metadata": {},
   "outputs": [],
   "source": [
    "rf_mensile = 0.02/12"
   ]
  },
  {
   "cell_type": "code",
   "execution_count": 247,
   "metadata": {},
   "outputs": [
    {
     "data": {
      "text/plain": [
       "array([[116.11857529, -13.79341755, -10.54811027,  -6.60985162,\n",
       "        -20.69016041,  23.06119804],\n",
       "       [-13.79341755, 250.95913092, -31.96953067, -81.22879795,\n",
       "        -51.13437115, -42.6379405 ],\n",
       "       [-10.54811027, -31.96953067, 215.68268574, -24.20603369,\n",
       "        -57.28636819, -37.71790469],\n",
       "       [ -6.60985162, -81.22879795, -24.20603369, 160.14702689,\n",
       "         24.82387278, -14.36374857],\n",
       "       [-20.69016041, -51.13437115, -57.28636819,  24.82387278,\n",
       "        163.56104516, -35.09199635],\n",
       "       [ 23.06119804, -42.6379405 , -37.71790469, -14.36374857,\n",
       "        -35.09199635, 355.10588477]])"
      ]
     },
     "execution_count": 247,
     "metadata": {},
     "output_type": "execute_result"
    }
   ],
   "source": [
    "np.linalg.inv(V)"
   ]
  },
  {
   "cell_type": "code",
   "execution_count": 278,
   "metadata": {},
   "outputs": [],
   "source": [
    "# Markovitz Quantities\n",
    "number_stocks = 6\n",
    "Uno = pd.DataFrame({'A': np.ones(number_stocks)})\n",
    "\n",
    "# A = (Uno.T * np.linalg.inv(V)) * er\n",
    "er_np = er.to_numpy()\n",
    "A = Uno.T.to_numpy().dot(np.linalg.inv(V)).dot(er_np)\n",
    "B = er.T.to_numpy().dot(np.linalg.inv(V)).dot(er_np)\n",
    "C = Uno.T.to_numpy().dot(np.linalg.inv(V)).dot(Uno.to_numpy())\n",
    "D = B*C-A**2\n",
    "IV1 = np.linalg.inv(V).dot(Uno.to_numpy())\n",
    "IVE = np.linalg.inv(V).dot(er_np)\n",
    "g = (B*IV1-A*IVE)/D\n",
    "h = (C*IVE-A*IV1)/D\n"
   ]
  },
  {
   "cell_type": "markdown",
   "metadata": {},
   "source": [
    "#### FP: N Risky Asset"
   ]
  },
  {
   "cell_type": "code",
   "execution_count": 304,
   "metadata": {},
   "outputs": [
    {
     "data": {
      "image/png": "[encoded data removed]",
      "text/plain": [
       "<Figure size 640x480 with 1 Axes>"
      ]
     },
     "metadata": {},
     "output_type": "display_data"
    }
   ],
   "source": [
    "w_MVP = IV1/C\n",
    "er_min = A/C\n",
    "\n",
    "\n",
    "m = np.linspace(A/C, 0.1, 150)\n",
    "Var_w = (C / D) * ((m - A/C)) ** 2 + 1/C\n",
    "Var_w = Var_w.flatten()\n",
    "m = m.flatten()\n",
    "\n",
    "# Graficación de la parte eficiente de la frontera de portafolio\n",
    "plt.figure()\n",
    "plt.plot(np.sqrt(Var_w), m)\n",
    "plt.xlabel('Standard Deviation')\n",
    "plt.ylabel('Expected Return')\n",
    "plt.title('Efficient Frontier Risky Assets')\n",
    "plt.grid(True)\n",
    "# plt.xlim(0, 1)\n",
    "# plt.ylim(-1, 1)\n",
    "plt.show()\n"
   ]
  },
  {
   "cell_type": "markdown",
   "metadata": {},
   "source": [
    "#### FP*: N Risky Asset + RF"
   ]
  },
  {
   "cell_type": "code",
   "execution_count": 305,
   "metadata": {},
   "outputs": [
    {
     "data": {
      "image/png": "[encoded data removed]",
      "text/plain": [
       "<Figure size 640x480 with 1 Axes>"
      ]
     },
     "metadata": {},
     "output_type": "display_data"
    }
   ],
   "source": [
    "H = B-2 * A * rf_mensile + C * (rf_mensile)**2\n",
    "\n",
    "mr = np.linspace(rf_mensile, 0.1, 150)\n",
    "var_rf = ((mr-rf_mensile)**2)/H\n",
    "\n",
    "var_rf = var_rf.flatten()\n",
    "mr = mr.flatten()\n",
    "\n",
    "plt.figure()\n",
    "plt.plot(np.sqrt(var_rf), mr)\n",
    "plt.xlabel('Standard Deviation')\n",
    "plt.ylabel('Expected Return')\n",
    "plt.title('Efficient Frontier Risk Free Assets')\n",
    "plt.grid(True)\n",
    "plt.show()"
   ]
  },
  {
   "cell_type": "code",
   "execution_count": 306,
   "metadata": {},
   "outputs": [
    {
     "data": {
      "image/png": "[encoded data removed]",
      "text/plain": [
       "<Figure size 640x480 with 1 Axes>"
      ]
     },
     "metadata": {},
     "output_type": "display_data"
    }
   ],
   "source": [
    "plt.figure()\n",
    "\n",
    "plt.plot(np.sqrt(Var_w), m, label='Risky Assets')\n",
    "plt.plot(np.sqrt(var_rf), mr, label='Risk-Free Assets')\n",
    "\n",
    "plt.xlabel('Standard Deviation')\n",
    "plt.ylabel('Expected Return')\n",
    "plt.title('Efficient Frontier')\n",
    "\n",
    "plt.legend()\n",
    "\n",
    "# plt.xlim(0.029, 0.039)\n",
    "# plt.ylim(0.011, 0.0145)\n",
    "\n",
    "plt.grid(True)\n",
    "plt.show()\n"
   ]
  },
  {
   "cell_type": "code",
   "execution_count": 307,
   "metadata": {},
   "outputs": [
    {
     "data": {
      "application/vnd.plotly.v1+json": {
       "config": {
        "linkText": "Export to plot.ly",
        "plotlyServerURL": "https://plot.ly",
        "showLink": false
       },
       "data": [
        {
         "mode": "lines",
         "name": "Risky Assets",
         "type": "scatter",
         "x": [
          0.04459719420581604,
          0.044751624745822095,
          0.04521175153065507,
          0.04596839575477607,
          0.04700724106757328,
          0.04831008580018661,
          0.04985623772385,
          0.051623840061079396,
          0.05359098485795888,
          0.05573654838756396,
          0.05804074747099447,
          0.06048545511561808,
          0.06305433027805751,
          0.06573281696233989,
          0.06850805979966013,
          0.07136877231634539,
          0.07430508353464178,
          0.07730837981071038,
          0.08037115223476157,
          0.08348685529380416,
          0.0866497794277238,
          0.08985493818158788,
          0.09309796952178918,
          0.09637505027372074,
          0.09968282236254963,
          0.1030183294651212,
          0.1063789627234826,
          0.10976241427366273,
          0.11316663747307072,
          0.11658981284597247,
          0.12003031889766674,
          0.12348670706845924,
          0.1269576802059118,
          0.1304420740276728,
          0.13393884112808502,
          0.13744703715084997,
          0.1409658088086578,
          0.14449438348022464,
          0.14803206015691522,
          0.15157820154623203,
          0.1551322271689507,
          0.15869360731146956,
          0.16226185771577406,
          0.1658365349069393,
          0.16941723207285062,
          0.17300357542325806,
          0.17659522096578656,
          0.18019185164540108,
          0.18379317480135296,
          0.18739891990201638,
          0.19100883652345305,
          0.19462269254216813,
          0.19824027251646573,
          0.20186137623418973,
          0.20548581740752525,
          0.20911342249802073,
          0.2127440296571254,
          0.21637748776937774,
          0.22001365558696973,
          0.223652400945788,
          0.2272936000542217,
          0.23093713684706638,
          0.23458290239774948,
          0.23823079438288963,
          0.24188071659388735,
          0.24553257849084198,
          0.24918629479461685,
          0.25284178511333355,
          0.25649897359998103,
          0.2601577886381833,
          0.26381816255348056,
          0.26748003134776055,
          0.2711433344547169,
          0.2748080145144336,
          0.27847401716538484,
          0.28214129085231066,
          0.2858097866485829,
          0.2894794580918101,
          0.29315026103155145,
          0.2968221534881194,
          0.3004950955215441,
          0.304169049109863,
          0.3078439780359749,
          0.3115198477823662,
          0.315196625433082,
          0.31887427958237047,
          0.3225527802494782,
          0.32623209879912163,
          0.32991220786720016,
          0.33359308129135523,
          0.33727469404601046,
          0.3409570221815624,
          0.34464004276741567,
          0.34832373383858445,
          0.3520080743456024,
          0.35569304410750624,
          0.3593786237676761,
          0.36306479475233155,
          0.3667515392315015,
          0.37043884008229716,
          0.37412668085433176,
          0.3778150457371432,
          0.38150391952948454,
          0.38519328761036115,
          0.38888313591169854,
          0.3925734508925354,
          0.39626421951464474,
          0.3999554292194899,
          0.4036470679064341,
          0.40733912391212274,
          0.41103158599096623,
          0.4147244432966566,
          0.41841768536465285,
          0.42211130209557846,
          0.42580528373947524,
          0.4294996208808624,
          0.433194304424554,
          0.4368893255821903,
          0.4405846758594405,
          0.4442803470438396,
          0.4479763311932229,
          0.4516726206247229,
          0.45536920790429913,
          0.4590660858367693,
          0.46276324745631475,
          0.4664606860174349,
          0.4701583949863245,
          0.4738563680326527,
          0.47755459902172026,
          0.4812530820069773,
          0.4849518112228803,
          0.48865078107807103,
          0.4923499861488624,
          0.496049421173012,
          0.49974908104377214,
          0.5034489608041995,
          0.507149055641713,
          0.5108493608828862,
          0.514549871988464,
          0.51825058454859,
          0.5219514942782375,
          0.5256525970128312,
          0.5293538887040522,
          0.5330553654158163,
          0.5367570233204182,
          0.5404588586948333,
          0.5441608679171691,
          0.5478630474632606,
          0.5515653939034014,
          0.5552679038992052
         ],
         "y": [
          0.015504736583365193,
          0.016071818888174823,
          0.016638901192984452,
          0.01720598349779408,
          0.01777306580260371,
          0.018340148107413343,
          0.01890723041222297,
          0.0194743127170326,
          0.02004139502184223,
          0.02060847732665186,
          0.02117555963146149,
          0.021742641936271116,
          0.02230972424108075,
          0.022876806545890378,
          0.023443888850700006,
          0.02401097115550964,
          0.024578053460319264,
          0.025145135765128897,
          0.025712218069938526,
          0.026279300374748155,
          0.026846382679557787,
          0.027413464984367412,
          0.027980547289177045,
          0.028547629593986674,
          0.029114711898796303,
          0.02968179420360593,
          0.03024887650841556,
          0.030815958813225193,
          0.03138304111803482,
          0.03195012342284445,
          0.03251720572765408,
          0.03308428803246371,
          0.03365137033727334,
          0.03421845264208297,
          0.0347855349468926,
          0.03535261725170223,
          0.03591969955651186,
          0.03648678186132149,
          0.037053864166131115,
          0.03762094647094075,
          0.03818802877575038,
          0.038755111080560005,
          0.03932219338536964,
          0.03988927569017926,
          0.040456357994988895,
          0.04102344029979852,
          0.04159052260460815,
          0.042157604909417785,
          0.04272468721422741,
          0.04329176951903704,
          0.04385885182384667,
          0.0444259341286563,
          0.044993016433465934,
          0.04556009873827556,
          0.04612718104308519,
          0.04669426334789482,
          0.04726134565270445,
          0.04782842795751408,
          0.04839551026232371,
          0.04896259256713334,
          0.04952967487194297,
          0.0500967571767526,
          0.05066383948156223,
          0.051230921786371855,
          0.05179800409118149,
          0.05236508639599112,
          0.052932168700800745,
          0.05349925100561038,
          0.05406633331042,
          0.054633415615229636,
          0.05520049792003927,
          0.055767580224848894,
          0.056334662529658526,
          0.05690174483446815,
          0.057468827139277784,
          0.058035909444087416,
          0.05860299174889704,
          0.059170074053706674,
          0.0597371563585163,
          0.06030423866332593,
          0.060871320968135564,
          0.06143840327294519,
          0.06200548557775482,
          0.06257256788256445,
          0.06313965018737408,
          0.0637067324921837,
          0.06427381479699333,
          0.06484089710180296,
          0.0654079794066126,
          0.06597506171142223,
          0.06654214401623185,
          0.06710922632104148,
          0.06767630862585111,
          0.06824339093066074,
          0.06881047323547038,
          0.06937755554028,
          0.06994463784508963,
          0.07051172014989926,
          0.07107880245470889,
          0.07164588475951852,
          0.07221296706432814,
          0.07278004936913778,
          0.07334713167394741,
          0.07391421397875704,
          0.07448129628356667,
          0.07504837858837629,
          0.07561546089318592,
          0.07618254319799556,
          0.07674962550280519,
          0.07731670780761482,
          0.07788379011242444,
          0.07845087241723407,
          0.0790179547220437,
          0.07958503702685334,
          0.08015211933166297,
          0.0807192016364726,
          0.08128628394128222,
          0.08185336624609185,
          0.08242044855090148,
          0.08298753085571112,
          0.08355461316052075,
          0.08412169546533037,
          0.08468877777014,
          0.08525586007494963,
          0.08582294237975926,
          0.0863900246845689,
          0.08695710698937852,
          0.08752418929418815,
          0.08809127159899778,
          0.08865835390380741,
          0.08922543620861705,
          0.08979251851342666,
          0.0903596008182363,
          0.09092668312304593,
          0.09149376542785556,
          0.0920608477326652,
          0.09262793003747481,
          0.09319501234228444,
          0.09376209464709408,
          0.09432917695190371,
          0.09489625925671334,
          0.09546334156152296,
          0.09603042386633259,
          0.09659750617114223,
          0.09716458847595186,
          0.09773167078076149,
          0.09829875308557111,
          0.09886583539038074,
          0.09943291769519037,
          0.1
         ]
        },
        {
         "mode": "lines",
         "name": "Risk-Free Assets",
         "type": "scatter",
         "x": [
          0,
          0.001908420752668605,
          0.0038168415053372105,
          0.005725262258005814,
          0.00763368301067442,
          0.009542103763343026,
          0.011450524516011633,
          0.013358945268680238,
          0.015267366021348842,
          0.01717578677401745,
          0.01908420752668605,
          0.02099262827935466,
          0.022901049032023266,
          0.02480946978469187,
          0.026717890537360477,
          0.028626311290029082,
          0.030534732042697684,
          0.03244315279536629,
          0.0343515735480349,
          0.0362599943007035,
          0.0381684150533721,
          0.04007683580604071,
          0.04198525655870932,
          0.043893677311377916,
          0.04580209806404653,
          0.04771051881671513,
          0.04961893956938374,
          0.051527360322052344,
          0.05343578107472095,
          0.05534420182738956,
          0.057252622580058164,
          0.059161043332726766,
          0.06106946408539537,
          0.06297788483806398,
          0.06488630559073258,
          0.06679472634340118,
          0.0687031470960698,
          0.0706115678487384,
          0.072519988601407,
          0.0744284093540756,
          0.0763368301067442,
          0.07824525085941281,
          0.08015367161208142,
          0.08206209236475002,
          0.08397051311741864,
          0.08587893387008723,
          0.08778735462275584,
          0.08969577537542446,
          0.09160419612809306,
          0.09351261688076166,
          0.09542103763343027,
          0.09732945838609887,
          0.09923787913876748,
          0.10114629989143609,
          0.10305472064410469,
          0.10496314139677329,
          0.1068715621494419,
          0.10877998290211051,
          0.11068840365477912,
          0.11259682440744771,
          0.11450524516011633,
          0.11641366591278492,
          0.11832208666545353,
          0.12023050741812213,
          0.12213892817079074,
          0.12404734892345935,
          0.12595576967612795,
          0.12786419042879657,
          0.12977261118146516,
          0.13168103193413375,
          0.13358945268680236,
          0.13549787343947098,
          0.1374062941921396,
          0.13931471494480818,
          0.1412231356974768,
          0.1431315564501454,
          0.145039977202814,
          0.1469483979554826,
          0.1488568187081512,
          0.15076523946081982,
          0.1526736602134884,
          0.15458208096615703,
          0.15649050171882561,
          0.15839892247149423,
          0.16030734322416285,
          0.16221576397683146,
          0.16412418472950005,
          0.16603260548216867,
          0.16794102623483728,
          0.16984944698750587,
          0.17175786774017446,
          0.17366628849284307,
          0.1755747092455117,
          0.1774831299981803,
          0.17939155075084892,
          0.18129997150351748,
          0.18320839225618613,
          0.1851168130088547,
          0.18702523376152333,
          0.18893365451419195,
          0.19084207526686053,
          0.19275049601952915,
          0.19465891677219774,
          0.19656733752486635,
          0.19847575827753497,
          0.20038417903020356,
          0.20229259978287217,
          0.20420102053554076,
          0.20610944128820938,
          0.20801786204087797,
          0.20992628279354658,
          0.21183470354621517,
          0.2137431242988838,
          0.2156515450515524,
          0.21755996580422102,
          0.2194683865568896,
          0.22137680730955825,
          0.22328522806222684,
          0.22519364881489543,
          0.22710206956756404,
          0.22901049032023266,
          0.23091891107290122,
          0.23282733182556983,
          0.23473575257823845,
          0.23664417333090706,
          0.23855259408357565,
          0.24046101483624427,
          0.24236943558891288,
          0.24427785634158147,
          0.2461862770942501,
          0.2480946978469187,
          0.2500031185995873,
          0.2519115393522559,
          0.2538199601049245,
          0.25572838085759314,
          0.2576368016102617,
          0.2595452223629303,
          0.2614536431155989,
          0.2633620638682675,
          0.2652704846209361,
          0.2671789053736047,
          0.2690873261262734,
          0.27099574687894196,
          0.2729041676316106,
          0.2748125883842792,
          0.27672100913694775,
          0.27862942988961636,
          0.280537850642285,
          0.2824462713949536,
          0.28435469214762216
         ],
         "y": [
          0.0016666666666666668,
          0.0023266219239373603,
          0.002986577181208054,
          0.0036465324384787473,
          0.004306487695749441,
          0.004966442953020135,
          0.0056263982102908285,
          0.006286353467561522,
          0.006946308724832216,
          0.00760626398210291,
          0.008266219239373603,
          0.008926174496644297,
          0.00958612975391499,
          0.010246085011185685,
          0.010906040268456377,
          0.011565995525727072,
          0.012225950782997765,
          0.012885906040268458,
          0.013545861297539152,
          0.014205816554809845,
          0.01486577181208054,
          0.015525727069351233,
          0.016185682326621927,
          0.01684563758389262,
          0.017505592841163313,
          0.018165548098434008,
          0.018825503355704702,
          0.019485458612975393,
          0.020145413870246088,
          0.020805369127516782,
          0.021465324384787477,
          0.022125279642058168,
          0.022785234899328863,
          0.023445190156599557,
          0.02410514541387025,
          0.024765100671140943,
          0.025425055928411638,
          0.026085011185682332,
          0.026744966442953023,
          0.027404921700223718,
          0.028064876957494413,
          0.028724832214765104,
          0.0293847874720358,
          0.030044742729306493,
          0.030704697986577188,
          0.03136465324384788,
          0.03202460850111857,
          0.03268456375838927,
          0.033344519015659956,
          0.03400447427293065,
          0.034664429530201345,
          0.03532438478747204,
          0.035984340044742734,
          0.03664429530201343,
          0.037304250559284116,
          0.03796420581655481,
          0.038624161073825505,
          0.0392841163310962,
          0.039944071588366895,
          0.04060402684563759,
          0.041263982102908284,
          0.04192393736017897,
          0.042583892617449666,
          0.04324384787472036,
          0.043903803131991055,
          0.04456375838926175,
          0.045223713646532444,
          0.04588366890380314,
          0.04654362416107383,
          0.04720357941834452,
          0.047863534675615216,
          0.04852348993288591,
          0.049183445190156605,
          0.0498434004474273,
          0.050503355704697994,
          0.05116331096196868,
          0.051823266219239376,
          0.05248322147651007,
          0.053143176733780766,
          0.05380313199105146,
          0.054463087248322155,
          0.05512304250559285,
          0.05578299776286354,
          0.05644295302013423,
          0.057102908277404926,
          0.05776286353467562,
          0.058422818791946315,
          0.05908277404921701,
          0.059742729306487705,
          0.06040268456375839,
          0.06106263982102909,
          0.06172259507829978,
          0.062382550335570476,
          0.06304250559284118,
          0.06370246085011187,
          0.06436241610738255,
          0.06502237136465325,
          0.06568232662192394,
          0.06634228187919464,
          0.06700223713646533,
          0.06766219239373603,
          0.06832214765100672,
          0.06898210290827742,
          0.06964205816554811,
          0.0703020134228188,
          0.0709619686800895,
          0.0716219239373602,
          0.07228187919463087,
          0.07294183445190157,
          0.07360178970917226,
          0.07426174496644296,
          0.07492170022371365,
          0.07558165548098435,
          0.07624161073825504,
          0.07690156599552574,
          0.07756152125279643,
          0.07822147651006713,
          0.07888143176733782,
          0.07954138702460851,
          0.08020134228187921,
          0.0808612975391499,
          0.08152125279642058,
          0.08218120805369128,
          0.08284116331096197,
          0.08350111856823267,
          0.08416107382550336,
          0.08482102908277406,
          0.08548098434004475,
          0.08614093959731545,
          0.08680089485458614,
          0.08746085011185684,
          0.08812080536912753,
          0.08878076062639823,
          0.08944071588366892,
          0.09010067114093961,
          0.09076062639821031,
          0.09142058165548099,
          0.09208053691275168,
          0.09274049217002238,
          0.09340044742729307,
          0.09406040268456377,
          0.09472035794183446,
          0.09538031319910516,
          0.09604026845637585,
          0.09670022371364655,
          0.09736017897091724,
          0.09802013422818794,
          0.09868008948545863,
          0.09934004474272932,
          0.1
         ]
        }
       ],
       "layout": {
        "hovermode": "closest",
        "template": {
         "data": {
          "bar": [
           {
            "error_x": {
             "color": "#2a3f5f"
            },
            "error_y": {
             "color": "#2a3f5f"
            },
            "marker": {
             "line": {
              "color": "#E5ECF6",
              "width": 0.5
             },
             "pattern": {
              "fillmode": "overlay",
              "size": 10,
              "solidity": 0.2
             }
            },
            "type": "bar"
           }
          ],
          "barpolar": [
           {
            "marker": {
             "line": {
              "color": "#E5ECF6",
              "width": 0.5
             },
             "pattern": {
              "fillmode": "overlay",
              "size": 10,
              "solidity": 0.2
             }
            },
            "type": "barpolar"
           }
          ],
          "carpet": [
           {
            "aaxis": {
             "endlinecolor": "#2a3f5f",
             "gridcolor": "white",
             "linecolor": "white",
             "minorgridcolor": "white",
             "startlinecolor": "#2a3f5f"
            },
            "baxis": {
             "endlinecolor": "#2a3f5f",
             "gridcolor": "white",
             "linecolor": "white",
             "minorgridcolor": "white",
             "startlinecolor": "#2a3f5f"
            },
            "type": "carpet"
           }
          ],
          "choropleth": [
           {
            "colorbar": {
             "outlinewidth": 0,
             "ticks": ""
            },
            "type": "choropleth"
           }
          ],
          "contour": [
           {
            "colorbar": {
             "outlinewidth": 0,
             "ticks": ""
            },
            "colorscale": [
             [
              0,
              "#0d0887"
             ],
             [
              0.1111111111111111,
              "#46039f"
             ],
             [
              0.2222222222222222,
              "#7201a8"
             ],
             [
              0.3333333333333333,
              "#9c179e"
             ],
             [
              0.4444444444444444,
              "#bd3786"
             ],
             [
              0.5555555555555556,
              "#d8576b"
             ],
             [
              0.6666666666666666,
              "#ed7953"
             ],
             [
              0.7777777777777778,
              "#fb9f3a"
             ],
             [
              0.8888888888888888,
              "#fdca26"
             ],
             [
              1,
              "#f0f921"
             ]
            ],
            "type": "contour"
           }
          ],
          "contourcarpet": [
           {
            "colorbar": {
             "outlinewidth": 0,
             "ticks": ""
            },
            "type": "contourcarpet"
           }
          ],
          "heatmap": [
           {
            "colorbar": {
             "outlinewidth": 0,
             "ticks": ""
            },
            "colorscale": [
             [
              0,
              "#0d0887"
             ],
             [
              0.1111111111111111,
              "#46039f"
             ],
             [
              0.2222222222222222,
              "#7201a8"
             ],
             [
              0.3333333333333333,
              "#9c179e"
             ],
             [
              0.4444444444444444,
              "#bd3786"
             ],
             [
              0.5555555555555556,
              "#d8576b"
             ],
             [
              0.6666666666666666,
              "#ed7953"
             ],
             [
              0.7777777777777778,
              "#fb9f3a"
             ],
             [
              0.8888888888888888,
              "#fdca26"
             ],
             [
              1,
              "#f0f921"
             ]
            ],
            "type": "heatmap"
           }
          ],
          "heatmapgl": [
           {
            "colorbar": {
             "outlinewidth": 0,
             "ticks": ""
            },
            "colorscale": [
             [
              0,
              "#0d0887"
             ],
             [
              0.1111111111111111,
              "#46039f"
             ],
             [
              0.2222222222222222,
              "#7201a8"
             ],
             [
              0.3333333333333333,
              "#9c179e"
             ],
             [
              0.4444444444444444,
              "#bd3786"
             ],
             [
              0.5555555555555556,
              "#d8576b"
             ],
             [
              0.6666666666666666,
              "#ed7953"
             ],
             [
              0.7777777777777778,
              "#fb9f3a"
             ],
             [
              0.8888888888888888,
              "#fdca26"
             ],
             [
              1,
              "#f0f921"
             ]
            ],
            "type": "heatmapgl"
           }
          ],
          "histogram": [
           {
            "marker": {
             "pattern": {
              "fillmode": "overlay",
              "size": 10,
              "solidity": 0.2
             }
            },
            "type": "histogram"
           }
          ],
          "histogram2d": [
           {
            "colorbar": {
             "outlinewidth": 0,
             "ticks": ""
            },
            "colorscale": [
             [
              0,
              "#0d0887"
             ],
             [
              0.1111111111111111,
              "#46039f"
             ],
             [
              0.2222222222222222,
              "#7201a8"
             ],
             [
              0.3333333333333333,
              "#9c179e"
             ],
             [
              0.4444444444444444,
              "#bd3786"
             ],
             [
              0.5555555555555556,
              "#d8576b"
             ],
             [
              0.6666666666666666,
              "#ed7953"
             ],
             [
              0.7777777777777778,
              "#fb9f3a"
             ],
             [
              0.8888888888888888,
              "#fdca26"
             ],
             [
              1,
              "#f0f921"
             ]
            ],
            "type": "histogram2d"
           }
          ],
          "histogram2dcontour": [
           {
            "colorbar": {
             "outlinewidth": 0,
             "ticks": ""
            },
            "colorscale": [
             [
              0,
              "#0d0887"
             ],
             [
              0.1111111111111111,
              "#46039f"
             ],
             [
              0.2222222222222222,
              "#7201a8"
             ],
             [
              0.3333333333333333,
              "#9c179e"
             ],
             [
              0.4444444444444444,
              "#bd3786"
             ],
             [
              0.5555555555555556,
              "#d8576b"
             ],
             [
              0.6666666666666666,
              "#ed7953"
             ],
             [
              0.7777777777777778,
              "#fb9f3a"
             ],
             [
              0.8888888888888888,
              "#fdca26"
             ],
             [
              1,
              "#f0f921"
             ]
            ],
            "type": "histogram2dcontour"
           }
          ],
          "mesh3d": [
           {
            "colorbar": {
             "outlinewidth": 0,
             "ticks": ""
            },
            "type": "mesh3d"
           }
          ],
          "parcoords": [
           {
            "line": {
             "colorbar": {
              "outlinewidth": 0,
              "ticks": ""
             }
            },
            "type": "parcoords"
           }
          ],
          "pie": [
           {
            "automargin": true,
            "type": "pie"
           }
          ],
          "scatter": [
           {
            "fillpattern": {
             "fillmode": "overlay",
             "size": 10,
             "solidity": 0.2
            },
            "type": "scatter"
           }
          ],
          "scatter3d": [
           {
            "line": {
             "colorbar": {
              "outlinewidth": 0,
              "ticks": ""
             }
            },
            "marker": {
             "colorbar": {
              "outlinewidth": 0,
              "ticks": ""
             }
            },
            "type": "scatter3d"
           }
          ],
          "scattercarpet": [
           {
            "marker": {
             "colorbar": {
              "outlinewidth": 0,
              "ticks": ""
             }
            },
            "type": "scattercarpet"
           }
          ],
          "scattergeo": [
           {
            "marker": {
             "colorbar": {
              "outlinewidth": 0,
              "ticks": ""
             }
            },
            "type": "scattergeo"
           }
          ],
          "scattergl": [
           {
            "marker": {
             "colorbar": {
              "outlinewidth": 0,
              "ticks": ""
             }
            },
            "type": "scattergl"
           }
          ],
          "scattermapbox": [
           {
            "marker": {
             "colorbar": {
              "outlinewidth": 0,
              "ticks": ""
             }
            },
            "type": "scattermapbox"
           }
          ],
          "scatterpolar": [
           {
            "marker": {
             "colorbar": {
              "outlinewidth": 0,
              "ticks": ""
             }
            },
            "type": "scatterpolar"
           }
          ],
          "scatterpolargl": [
           {
            "marker": {
             "colorbar": {
              "outlinewidth": 0,
              "ticks": ""
             }
            },
            "type": "scatterpolargl"
           }
          ],
          "scatterternary": [
           {
            "marker": {
             "colorbar": {
              "outlinewidth": 0,
              "ticks": ""
             }
            },
            "type": "scatterternary"
           }
          ],
          "surface": [
           {
            "colorbar": {
             "outlinewidth": 0,
             "ticks": ""
            },
            "colorscale": [
             [
              0,
              "#0d0887"
             ],
             [
              0.1111111111111111,
              "#46039f"
             ],
             [
              0.2222222222222222,
              "#7201a8"
             ],
             [
              0.3333333333333333,
              "#9c179e"
             ],
             [
              0.4444444444444444,
              "#bd3786"
             ],
             [
              0.5555555555555556,
              "#d8576b"
             ],
             [
              0.6666666666666666,
              "#ed7953"
             ],
             [
              0.7777777777777778,
              "#fb9f3a"
             ],
             [
              0.8888888888888888,
              "#fdca26"
             ],
             [
              1,
              "#f0f921"
             ]
            ],
            "type": "surface"
           }
          ],
          "table": [
           {
            "cells": {
             "fill": {
              "color": "#EBF0F8"
             },
             "line": {
              "color": "white"
             }
            },
            "header": {
             "fill": {
              "color": "#C8D4E3"
             },
             "line": {
              "color": "white"
             }
            },
            "type": "table"
           }
          ]
         },
         "layout": {
          "annotationdefaults": {
           "arrowcolor": "#2a3f5f",
           "arrowhead": 0,
           "arrowwidth": 1
          },
          "autotypenumbers": "strict",
          "coloraxis": {
           "colorbar": {
            "outlinewidth": 0,
            "ticks": ""
           }
          },
          "colorscale": {
           "diverging": [
            [
             0,
             "#8e0152"
            ],
            [
             0.1,
             "#c51b7d"
            ],
            [
             0.2,
             "#de77ae"
            ],
            [
             0.3,
             "#f1b6da"
            ],
            [
             0.4,
             "#fde0ef"
            ],
            [
             0.5,
             "#f7f7f7"
            ],
            [
             0.6,
             "#e6f5d0"
            ],
            [
             0.7,
             "#b8e186"
            ],
            [
             0.8,
             "#7fbc41"
            ],
            [
             0.9,
             "#4d9221"
            ],
            [
             1,
             "#276419"
            ]
           ],
           "sequential": [
            [
             0,
             "#0d0887"
            ],
            [
             0.1111111111111111,
             "#46039f"
            ],
            [
             0.2222222222222222,
             "#7201a8"
            ],
            [
             0.3333333333333333,
             "#9c179e"
            ],
            [
             0.4444444444444444,
             "#bd3786"
            ],
            [
             0.5555555555555556,
             "#d8576b"
            ],
            [
             0.6666666666666666,
             "#ed7953"
            ],
            [
             0.7777777777777778,
             "#fb9f3a"
            ],
            [
             0.8888888888888888,
             "#fdca26"
            ],
            [
             1,
             "#f0f921"
            ]
           ],
           "sequentialminus": [
            [
             0,
             "#0d0887"
            ],
            [
             0.1111111111111111,
             "#46039f"
            ],
            [
             0.2222222222222222,
             "#7201a8"
            ],
            [
             0.3333333333333333,
             "#9c179e"
            ],
            [
             0.4444444444444444,
             "#bd3786"
            ],
            [
             0.5555555555555556,
             "#d8576b"
            ],
            [
             0.6666666666666666,
             "#ed7953"
            ],
            [
             0.7777777777777778,
             "#fb9f3a"
            ],
            [
             0.8888888888888888,
             "#fdca26"
            ],
            [
             1,
             "#f0f921"
            ]
           ]
          },
          "colorway": [
           "#636efa",
           "#EF553B",
           "#00cc96",
           "#ab63fa",
           "#FFA15A",
           "#19d3f3",
           "#FF6692",
           "#B6E880",
           "#FF97FF",
           "#FECB52"
          ],
          "font": {
           "color": "#2a3f5f"
          },
          "geo": {
           "bgcolor": "white",
           "lakecolor": "white",
           "landcolor": "#E5ECF6",
           "showlakes": true,
           "showland": true,
           "subunitcolor": "white"
          },
          "hoverlabel": {
           "align": "left"
          },
          "hovermode": "closest",
          "mapbox": {
           "style": "light"
          },
          "paper_bgcolor": "white",
          "plot_bgcolor": "#E5ECF6",
          "polar": {
           "angularaxis": {
            "gridcolor": "white",
            "linecolor": "white",
            "ticks": ""
           },
           "bgcolor": "#E5ECF6",
           "radialaxis": {
            "gridcolor": "white",
            "linecolor": "white",
            "ticks": ""
           }
          },
          "scene": {
           "xaxis": {
            "backgroundcolor": "#E5ECF6",
            "gridcolor": "white",
            "gridwidth": 2,
            "linecolor": "white",
            "showbackground": true,
            "ticks": "",
            "zerolinecolor": "white"
           },
           "yaxis": {
            "backgroundcolor": "#E5ECF6",
            "gridcolor": "white",
            "gridwidth": 2,
            "linecolor": "white",
            "showbackground": true,
            "ticks": "",
            "zerolinecolor": "white"
           },
           "zaxis": {
            "backgroundcolor": "#E5ECF6",
            "gridcolor": "white",
            "gridwidth": 2,
            "linecolor": "white",
            "showbackground": true,
            "ticks": "",
            "zerolinecolor": "white"
           }
          },
          "shapedefaults": {
           "line": {
            "color": "#2a3f5f"
           }
          },
          "ternary": {
           "aaxis": {
            "gridcolor": "white",
            "linecolor": "white",
            "ticks": ""
           },
           "baxis": {
            "gridcolor": "white",
            "linecolor": "white",
            "ticks": ""
           },
           "bgcolor": "#E5ECF6",
           "caxis": {
            "gridcolor": "white",
            "linecolor": "white",
            "ticks": ""
           }
          },
          "title": {
           "x": 0.05
          },
          "xaxis": {
           "automargin": true,
           "gridcolor": "white",
           "linecolor": "white",
           "ticks": "",
           "title": {
            "standoff": 15
           },
           "zerolinecolor": "white",
           "zerolinewidth": 2
          },
          "yaxis": {
           "automargin": true,
           "gridcolor": "white",
           "linecolor": "white",
           "ticks": "",
           "title": {
            "standoff": 15
           },
           "zerolinecolor": "white",
           "zerolinewidth": 2
          }
         }
        },
        "title": {
         "text": "Efficient Frontier"
        },
        "xaxis": {
         "title": {
          "text": "Standard Deviation"
         }
        },
        "yaxis": {
         "title": {
          "text": "Expected Return"
         }
        }
       }
      },
      "text/html": [
       "<div>                            <div id=\"9c1c699c-97e2-4352-ac67-aa10d2ab0a92\" class=\"plotly-graph-div\" style=\"height:525px; width:100%;\"></div>            <script type=\"text/javascript\">                require([\"plotly\"], function(Plotly) {                    window.PLOTLYENV=window.PLOTLYENV || {};                                    if (document.getElementById(\"9c1c699c-97e2-4352-ac67-aa10d2ab0a92\")) {                    Plotly.newPlot(                        \"9c1c699c-97e2-4352-ac67-aa10d2ab0a92\",                        [{\"mode\":\"lines\",\"name\":\"Risky Assets\",\"x\":[0.04459719420581604,0.044751624745822095,0.04521175153065507,0.04596839575477607,0.04700724106757328,0.04831008580018661,0.04985623772385,0.051623840061079396,0.05359098485795888,0.05573654838756396,0.05804074747099447,0.06048545511561808,0.06305433027805751,0.06573281696233989,0.06850805979966013,0.07136877231634539,0.07430508353464178,0.07730837981071038,0.08037115223476157,0.08348685529380416,0.0866497794277238,0.08985493818158788,0.09309796952178918,0.09637505027372074,0.09968282236254963,0.1030183294651212,0.1063789627234826,0.10976241427366273,0.11316663747307072,0.11658981284597247,0.12003031889766674,0.12348670706845924,0.1269576802059118,0.1304420740276728,0.13393884112808502,0.13744703715084997,0.1409658088086578,0.14449438348022464,0.14803206015691522,0.15157820154623203,0.1551322271689507,0.15869360731146956,0.16226185771577406,0.1658365349069393,0.16941723207285062,0.17300357542325806,0.17659522096578656,0.18019185164540108,0.18379317480135296,0.18739891990201638,0.19100883652345305,0.19462269254216813,0.19824027251646573,0.20186137623418973,0.20548581740752525,0.20911342249802073,0.2127440296571254,0.21637748776937774,0.22001365558696973,0.223652400945788,0.2272936000542217,0.23093713684706638,0.23458290239774948,0.23823079438288963,0.24188071659388735,0.24553257849084198,0.24918629479461685,0.25284178511333355,0.25649897359998103,0.2601577886381833,0.26381816255348056,0.26748003134776055,0.2711433344547169,0.2748080145144336,0.27847401716538484,0.28214129085231066,0.2858097866485829,0.2894794580918101,0.29315026103155145,0.2968221534881194,0.3004950955215441,0.304169049109863,0.3078439780359749,0.3115198477823662,0.315196625433082,0.31887427958237047,0.3225527802494782,0.32623209879912163,0.32991220786720016,0.33359308129135523,0.33727469404601046,0.3409570221815624,0.34464004276741567,0.34832373383858445,0.3520080743456024,0.35569304410750624,0.3593786237676761,0.36306479475233155,0.3667515392315015,0.37043884008229716,0.37412668085433176,0.3778150457371432,0.38150391952948454,0.38519328761036115,0.38888313591169854,0.3925734508925354,0.39626421951464474,0.3999554292194899,0.4036470679064341,0.40733912391212274,0.41103158599096623,0.4147244432966566,0.41841768536465285,0.42211130209557846,0.42580528373947524,0.4294996208808624,0.433194304424554,0.4368893255821903,0.4405846758594405,0.4442803470438396,0.4479763311932229,0.4516726206247229,0.45536920790429913,0.4590660858367693,0.46276324745631475,0.4664606860174349,0.4701583949863245,0.4738563680326527,0.47755459902172026,0.4812530820069773,0.4849518112228803,0.48865078107807103,0.4923499861488624,0.496049421173012,0.49974908104377214,0.5034489608041995,0.507149055641713,0.5108493608828862,0.514549871988464,0.51825058454859,0.5219514942782375,0.5256525970128312,0.5293538887040522,0.5330553654158163,0.5367570233204182,0.5404588586948333,0.5441608679171691,0.5478630474632606,0.5515653939034014,0.5552679038992052],\"y\":[0.015504736583365193,0.016071818888174823,0.016638901192984452,0.01720598349779408,0.01777306580260371,0.018340148107413343,0.01890723041222297,0.0194743127170326,0.02004139502184223,0.02060847732665186,0.02117555963146149,0.021742641936271116,0.02230972424108075,0.022876806545890378,0.023443888850700006,0.02401097115550964,0.024578053460319264,0.025145135765128897,0.025712218069938526,0.026279300374748155,0.026846382679557787,0.027413464984367412,0.027980547289177045,0.028547629593986674,0.029114711898796303,0.02968179420360593,0.03024887650841556,0.030815958813225193,0.03138304111803482,0.03195012342284445,0.03251720572765408,0.03308428803246371,0.03365137033727334,0.03421845264208297,0.0347855349468926,0.03535261725170223,0.03591969955651186,0.03648678186132149,0.037053864166131115,0.03762094647094075,0.03818802877575038,0.038755111080560005,0.03932219338536964,0.03988927569017926,0.040456357994988895,0.04102344029979852,0.04159052260460815,0.042157604909417785,0.04272468721422741,0.04329176951903704,0.04385885182384667,0.0444259341286563,0.044993016433465934,0.04556009873827556,0.04612718104308519,0.04669426334789482,0.04726134565270445,0.04782842795751408,0.04839551026232371,0.04896259256713334,0.04952967487194297,0.0500967571767526,0.05066383948156223,0.051230921786371855,0.05179800409118149,0.05236508639599112,0.052932168700800745,0.05349925100561038,0.05406633331042,0.054633415615229636,0.05520049792003927,0.055767580224848894,0.056334662529658526,0.05690174483446815,0.057468827139277784,0.058035909444087416,0.05860299174889704,0.059170074053706674,0.0597371563585163,0.06030423866332593,0.060871320968135564,0.06143840327294519,0.06200548557775482,0.06257256788256445,0.06313965018737408,0.0637067324921837,0.06427381479699333,0.06484089710180296,0.0654079794066126,0.06597506171142223,0.06654214401623185,0.06710922632104148,0.06767630862585111,0.06824339093066074,0.06881047323547038,0.06937755554028,0.06994463784508963,0.07051172014989926,0.07107880245470889,0.07164588475951852,0.07221296706432814,0.07278004936913778,0.07334713167394741,0.07391421397875704,0.07448129628356667,0.07504837858837629,0.07561546089318592,0.07618254319799556,0.07674962550280519,0.07731670780761482,0.07788379011242444,0.07845087241723407,0.0790179547220437,0.07958503702685334,0.08015211933166297,0.0807192016364726,0.08128628394128222,0.08185336624609185,0.08242044855090148,0.08298753085571112,0.08355461316052075,0.08412169546533037,0.08468877777014,0.08525586007494963,0.08582294237975926,0.0863900246845689,0.08695710698937852,0.08752418929418815,0.08809127159899778,0.08865835390380741,0.08922543620861705,0.08979251851342666,0.0903596008182363,0.09092668312304593,0.09149376542785556,0.0920608477326652,0.09262793003747481,0.09319501234228444,0.09376209464709408,0.09432917695190371,0.09489625925671334,0.09546334156152296,0.09603042386633259,0.09659750617114223,0.09716458847595186,0.09773167078076149,0.09829875308557111,0.09886583539038074,0.09943291769519037,0.1],\"type\":\"scatter\"},{\"mode\":\"lines\",\"name\":\"Risk-Free Assets\",\"x\":[0.0,0.001908420752668605,0.0038168415053372105,0.005725262258005814,0.00763368301067442,0.009542103763343026,0.011450524516011633,0.013358945268680238,0.015267366021348842,0.01717578677401745,0.01908420752668605,0.02099262827935466,0.022901049032023266,0.02480946978469187,0.026717890537360477,0.028626311290029082,0.030534732042697684,0.03244315279536629,0.0343515735480349,0.0362599943007035,0.0381684150533721,0.04007683580604071,0.04198525655870932,0.043893677311377916,0.04580209806404653,0.04771051881671513,0.04961893956938374,0.051527360322052344,0.05343578107472095,0.05534420182738956,0.057252622580058164,0.059161043332726766,0.06106946408539537,0.06297788483806398,0.06488630559073258,0.06679472634340118,0.0687031470960698,0.0706115678487384,0.072519988601407,0.0744284093540756,0.0763368301067442,0.07824525085941281,0.08015367161208142,0.08206209236475002,0.08397051311741864,0.08587893387008723,0.08778735462275584,0.08969577537542446,0.09160419612809306,0.09351261688076166,0.09542103763343027,0.09732945838609887,0.09923787913876748,0.10114629989143609,0.10305472064410469,0.10496314139677329,0.1068715621494419,0.10877998290211051,0.11068840365477912,0.11259682440744771,0.11450524516011633,0.11641366591278492,0.11832208666545353,0.12023050741812213,0.12213892817079074,0.12404734892345935,0.12595576967612795,0.12786419042879657,0.12977261118146516,0.13168103193413375,0.13358945268680236,0.13549787343947098,0.1374062941921396,0.13931471494480818,0.1412231356974768,0.1431315564501454,0.145039977202814,0.1469483979554826,0.1488568187081512,0.15076523946081982,0.1526736602134884,0.15458208096615703,0.15649050171882561,0.15839892247149423,0.16030734322416285,0.16221576397683146,0.16412418472950005,0.16603260548216867,0.16794102623483728,0.16984944698750587,0.17175786774017446,0.17366628849284307,0.1755747092455117,0.1774831299981803,0.17939155075084892,0.18129997150351748,0.18320839225618613,0.1851168130088547,0.18702523376152333,0.18893365451419195,0.19084207526686053,0.19275049601952915,0.19465891677219774,0.19656733752486635,0.19847575827753497,0.20038417903020356,0.20229259978287217,0.20420102053554076,0.20610944128820938,0.20801786204087797,0.20992628279354658,0.21183470354621517,0.2137431242988838,0.2156515450515524,0.21755996580422102,0.2194683865568896,0.22137680730955825,0.22328522806222684,0.22519364881489543,0.22710206956756404,0.22901049032023266,0.23091891107290122,0.23282733182556983,0.23473575257823845,0.23664417333090706,0.23855259408357565,0.24046101483624427,0.24236943558891288,0.24427785634158147,0.2461862770942501,0.2480946978469187,0.2500031185995873,0.2519115393522559,0.2538199601049245,0.25572838085759314,0.2576368016102617,0.2595452223629303,0.2614536431155989,0.2633620638682675,0.2652704846209361,0.2671789053736047,0.2690873261262734,0.27099574687894196,0.2729041676316106,0.2748125883842792,0.27672100913694775,0.27862942988961636,0.280537850642285,0.2824462713949536,0.28435469214762216],\"y\":[0.0016666666666666668,0.0023266219239373603,0.002986577181208054,0.0036465324384787473,0.004306487695749441,0.004966442953020135,0.0056263982102908285,0.006286353467561522,0.006946308724832216,0.00760626398210291,0.008266219239373603,0.008926174496644297,0.00958612975391499,0.010246085011185685,0.010906040268456377,0.011565995525727072,0.012225950782997765,0.012885906040268458,0.013545861297539152,0.014205816554809845,0.01486577181208054,0.015525727069351233,0.016185682326621927,0.01684563758389262,0.017505592841163313,0.018165548098434008,0.018825503355704702,0.019485458612975393,0.020145413870246088,0.020805369127516782,0.021465324384787477,0.022125279642058168,0.022785234899328863,0.023445190156599557,0.02410514541387025,0.024765100671140943,0.025425055928411638,0.026085011185682332,0.026744966442953023,0.027404921700223718,0.028064876957494413,0.028724832214765104,0.0293847874720358,0.030044742729306493,0.030704697986577188,0.03136465324384788,0.03202460850111857,0.03268456375838927,0.033344519015659956,0.03400447427293065,0.034664429530201345,0.03532438478747204,0.035984340044742734,0.03664429530201343,0.037304250559284116,0.03796420581655481,0.038624161073825505,0.0392841163310962,0.039944071588366895,0.04060402684563759,0.041263982102908284,0.04192393736017897,0.042583892617449666,0.04324384787472036,0.043903803131991055,0.04456375838926175,0.045223713646532444,0.04588366890380314,0.04654362416107383,0.04720357941834452,0.047863534675615216,0.04852348993288591,0.049183445190156605,0.0498434004474273,0.050503355704697994,0.05116331096196868,0.051823266219239376,0.05248322147651007,0.053143176733780766,0.05380313199105146,0.054463087248322155,0.05512304250559285,0.05578299776286354,0.05644295302013423,0.057102908277404926,0.05776286353467562,0.058422818791946315,0.05908277404921701,0.059742729306487705,0.06040268456375839,0.06106263982102909,0.06172259507829978,0.062382550335570476,0.06304250559284118,0.06370246085011187,0.06436241610738255,0.06502237136465325,0.06568232662192394,0.06634228187919464,0.06700223713646533,0.06766219239373603,0.06832214765100672,0.06898210290827742,0.06964205816554811,0.0703020134228188,0.0709619686800895,0.0716219239373602,0.07228187919463087,0.07294183445190157,0.07360178970917226,0.07426174496644296,0.07492170022371365,0.07558165548098435,0.07624161073825504,0.07690156599552574,0.07756152125279643,0.07822147651006713,0.07888143176733782,0.07954138702460851,0.08020134228187921,0.0808612975391499,0.08152125279642058,0.08218120805369128,0.08284116331096197,0.08350111856823267,0.08416107382550336,0.08482102908277406,0.08548098434004475,0.08614093959731545,0.08680089485458614,0.08746085011185684,0.08812080536912753,0.08878076062639823,0.08944071588366892,0.09010067114093961,0.09076062639821031,0.09142058165548099,0.09208053691275168,0.09274049217002238,0.09340044742729307,0.09406040268456377,0.09472035794183446,0.09538031319910516,0.09604026845637585,0.09670022371364655,0.09736017897091724,0.09802013422818794,0.09868008948545863,0.09934004474272932,0.1],\"type\":\"scatter\"}],                        {\"hovermode\":\"closest\",\"template\":{\"data\":{\"barpolar\":[{\"marker\":{\"line\":{\"color\":\"#E5ECF6\",\"width\":0.5},\"pattern\":{\"fillmode\":\"overlay\",\"size\":10,\"solidity\":0.2}},\"type\":\"barpolar\"}],\"bar\":[{\"error_x\":{\"color\":\"#2a3f5f\"},\"error_y\":{\"color\":\"#2a3f5f\"},\"marker\":{\"line\":{\"color\":\"#E5ECF6\",\"width\":0.5},\"pattern\":{\"fillmode\":\"overlay\",\"size\":10,\"solidity\":0.2}},\"type\":\"bar\"}],\"carpet\":[{\"aaxis\":{\"endlinecolor\":\"#2a3f5f\",\"gridcolor\":\"white\",\"linecolor\":\"white\",\"minorgridcolor\":\"white\",\"startlinecolor\":\"#2a3f5f\"},\"baxis\":{\"endlinecolor\":\"#2a3f5f\",\"gridcolor\":\"white\",\"linecolor\":\"white\",\"minorgridcolor\":\"white\",\"startlinecolor\":\"#2a3f5f\"},\"type\":\"carpet\"}],\"choropleth\":[{\"colorbar\":{\"outlinewidth\":0,\"ticks\":\"\"},\"type\":\"choropleth\"}],\"contourcarpet\":[{\"colorbar\":{\"outlinewidth\":0,\"ticks\":\"\"},\"type\":\"contourcarpet\"}],\"contour\":[{\"colorbar\":{\"outlinewidth\":0,\"ticks\":\"\"},\"colorscale\":[[0.0,\"#0d0887\"],[0.1111111111111111,\"#46039f\"],[0.2222222222222222,\"#7201a8\"],[0.3333333333333333,\"#9c179e\"],[0.4444444444444444,\"#bd3786\"],[0.5555555555555556,\"#d8576b\"],[0.6666666666666666,\"#ed7953\"],[0.7777777777777778,\"#fb9f3a\"],[0.8888888888888888,\"#fdca26\"],[1.0,\"#f0f921\"]],\"type\":\"contour\"}],\"heatmapgl\":[{\"colorbar\":{\"outlinewidth\":0,\"ticks\":\"\"},\"colorscale\":[[0.0,\"#0d0887\"],[0.1111111111111111,\"#46039f\"],[0.2222222222222222,\"#7201a8\"],[0.3333333333333333,\"#9c179e\"],[0.4444444444444444,\"#bd3786\"],[0.5555555555555556,\"#d8576b\"],[0.6666666666666666,\"#ed7953\"],[0.7777777777777778,\"#fb9f3a\"],[0.8888888888888888,\"#fdca26\"],[1.0,\"#f0f921\"]],\"type\":\"heatmapgl\"}],\"heatmap\":[{\"colorbar\":{\"outlinewidth\":0,\"ticks\":\"\"},\"colorscale\":[[0.0,\"#0d0887\"],[0.1111111111111111,\"#46039f\"],[0.2222222222222222,\"#7201a8\"],[0.3333333333333333,\"#9c179e\"],[0.4444444444444444,\"#bd3786\"],[0.5555555555555556,\"#d8576b\"],[0.6666666666666666,\"#ed7953\"],[0.7777777777777778,\"#fb9f3a\"],[0.8888888888888888,\"#fdca26\"],[1.0,\"#f0f921\"]],\"type\":\"heatmap\"}],\"histogram2dcontour\":[{\"colorbar\":{\"outlinewidth\":0,\"ticks\":\"\"},\"colorscale\":[[0.0,\"#0d0887\"],[0.1111111111111111,\"#46039f\"],[0.2222222222222222,\"#7201a8\"],[0.3333333333333333,\"#9c179e\"],[0.4444444444444444,\"#bd3786\"],[0.5555555555555556,\"#d8576b\"],[0.6666666666666666,\"#ed7953\"],[0.7777777777777778,\"#fb9f3a\"],[0.8888888888888888,\"#fdca26\"],[1.0,\"#f0f921\"]],\"type\":\"histogram2dcontour\"}],\"histogram2d\":[{\"colorbar\":{\"outlinewidth\":0,\"ticks\":\"\"},\"colorscale\":[[0.0,\"#0d0887\"],[0.1111111111111111,\"#46039f\"],[0.2222222222222222,\"#7201a8\"],[0.3333333333333333,\"#9c179e\"],[0.4444444444444444,\"#bd3786\"],[0.5555555555555556,\"#d8576b\"],[0.6666666666666666,\"#ed7953\"],[0.7777777777777778,\"#fb9f3a\"],[0.8888888888888888,\"#fdca26\"],[1.0,\"#f0f921\"]],\"type\":\"histogram2d\"}],\"histogram\":[{\"marker\":{\"pattern\":{\"fillmode\":\"overlay\",\"size\":10,\"solidity\":0.2}},\"type\":\"histogram\"}],\"mesh3d\":[{\"colorbar\":{\"outlinewidth\":0,\"ticks\":\"\"},\"type\":\"mesh3d\"}],\"parcoords\":[{\"line\":{\"colorbar\":{\"outlinewidth\":0,\"ticks\":\"\"}},\"type\":\"parcoords\"}],\"pie\":[{\"automargin\":true,\"type\":\"pie\"}],\"scatter3d\":[{\"line\":{\"colorbar\":{\"outlinewidth\":0,\"ticks\":\"\"}},\"marker\":{\"colorbar\":{\"outlinewidth\":0,\"ticks\":\"\"}},\"type\":\"scatter3d\"}],\"scattercarpet\":[{\"marker\":{\"colorbar\":{\"outlinewidth\":0,\"ticks\":\"\"}},\"type\":\"scattercarpet\"}],\"scattergeo\":[{\"marker\":{\"colorbar\":{\"outlinewidth\":0,\"ticks\":\"\"}},\"type\":\"scattergeo\"}],\"scattergl\":[{\"marker\":{\"colorbar\":{\"outlinewidth\":0,\"ticks\":\"\"}},\"type\":\"scattergl\"}],\"scattermapbox\":[{\"marker\":{\"colorbar\":{\"outlinewidth\":0,\"ticks\":\"\"}},\"type\":\"scattermapbox\"}],\"scatterpolargl\":[{\"marker\":{\"colorbar\":{\"outlinewidth\":0,\"ticks\":\"\"}},\"type\":\"scatterpolargl\"}],\"scatterpolar\":[{\"marker\":{\"colorbar\":{\"outlinewidth\":0,\"ticks\":\"\"}},\"type\":\"scatterpolar\"}],\"scatter\":[{\"fillpattern\":{\"fillmode\":\"overlay\",\"size\":10,\"solidity\":0.2},\"type\":\"scatter\"}],\"scatterternary\":[{\"marker\":{\"colorbar\":{\"outlinewidth\":0,\"ticks\":\"\"}},\"type\":\"scatterternary\"}],\"surface\":[{\"colorbar\":{\"outlinewidth\":0,\"ticks\":\"\"},\"colorscale\":[[0.0,\"#0d0887\"],[0.1111111111111111,\"#46039f\"],[0.2222222222222222,\"#7201a8\"],[0.3333333333333333,\"#9c179e\"],[0.4444444444444444,\"#bd3786\"],[0.5555555555555556,\"#d8576b\"],[0.6666666666666666,\"#ed7953\"],[0.7777777777777778,\"#fb9f3a\"],[0.8888888888888888,\"#fdca26\"],[1.0,\"#f0f921\"]],\"type\":\"surface\"}],\"table\":[{\"cells\":{\"fill\":{\"color\":\"#EBF0F8\"},\"line\":{\"color\":\"white\"}},\"header\":{\"fill\":{\"color\":\"#C8D4E3\"},\"line\":{\"color\":\"white\"}},\"type\":\"table\"}]},\"layout\":{\"annotationdefaults\":{\"arrowcolor\":\"#2a3f5f\",\"arrowhead\":0,\"arrowwidth\":1},\"autotypenumbers\":\"strict\",\"coloraxis\":{\"colorbar\":{\"outlinewidth\":0,\"ticks\":\"\"}},\"colorscale\":{\"diverging\":[[0,\"#8e0152\"],[0.1,\"#c51b7d\"],[0.2,\"#de77ae\"],[0.3,\"#f1b6da\"],[0.4,\"#fde0ef\"],[0.5,\"#f7f7f7\"],[0.6,\"#e6f5d0\"],[0.7,\"#b8e186\"],[0.8,\"#7fbc41\"],[0.9,\"#4d9221\"],[1,\"#276419\"]],\"sequential\":[[0.0,\"#0d0887\"],[0.1111111111111111,\"#46039f\"],[0.2222222222222222,\"#7201a8\"],[0.3333333333333333,\"#9c179e\"],[0.4444444444444444,\"#bd3786\"],[0.5555555555555556,\"#d8576b\"],[0.6666666666666666,\"#ed7953\"],[0.7777777777777778,\"#fb9f3a\"],[0.8888888888888888,\"#fdca26\"],[1.0,\"#f0f921\"]],\"sequentialminus\":[[0.0,\"#0d0887\"],[0.1111111111111111,\"#46039f\"],[0.2222222222222222,\"#7201a8\"],[0.3333333333333333,\"#9c179e\"],[0.4444444444444444,\"#bd3786\"],[0.5555555555555556,\"#d8576b\"],[0.6666666666666666,\"#ed7953\"],[0.7777777777777778,\"#fb9f3a\"],[0.8888888888888888,\"#fdca26\"],[1.0,\"#f0f921\"]]},\"colorway\":[\"#636efa\",\"#EF553B\",\"#00cc96\",\"#ab63fa\",\"#FFA15A\",\"#19d3f3\",\"#FF6692\",\"#B6E880\",\"#FF97FF\",\"#FECB52\"],\"font\":{\"color\":\"#2a3f5f\"},\"geo\":{\"bgcolor\":\"white\",\"lakecolor\":\"white\",\"landcolor\":\"#E5ECF6\",\"showlakes\":true,\"showland\":true,\"subunitcolor\":\"white\"},\"hoverlabel\":{\"align\":\"left\"},\"hovermode\":\"closest\",\"mapbox\":{\"style\":\"light\"},\"paper_bgcolor\":\"white\",\"plot_bgcolor\":\"#E5ECF6\",\"polar\":{\"angularaxis\":{\"gridcolor\":\"white\",\"linecolor\":\"white\",\"ticks\":\"\"},\"bgcolor\":\"#E5ECF6\",\"radialaxis\":{\"gridcolor\":\"white\",\"linecolor\":\"white\",\"ticks\":\"\"}},\"scene\":{\"xaxis\":{\"backgroundcolor\":\"#E5ECF6\",\"gridcolor\":\"white\",\"gridwidth\":2,\"linecolor\":\"white\",\"showbackground\":true,\"ticks\":\"\",\"zerolinecolor\":\"white\"},\"yaxis\":{\"backgroundcolor\":\"#E5ECF6\",\"gridcolor\":\"white\",\"gridwidth\":2,\"linecolor\":\"white\",\"showbackground\":true,\"ticks\":\"\",\"zerolinecolor\":\"white\"},\"zaxis\":{\"backgroundcolor\":\"#E5ECF6\",\"gridcolor\":\"white\",\"gridwidth\":2,\"linecolor\":\"white\",\"showbackground\":true,\"ticks\":\"\",\"zerolinecolor\":\"white\"}},\"shapedefaults\":{\"line\":{\"color\":\"#2a3f5f\"}},\"ternary\":{\"aaxis\":{\"gridcolor\":\"white\",\"linecolor\":\"white\",\"ticks\":\"\"},\"baxis\":{\"gridcolor\":\"white\",\"linecolor\":\"white\",\"ticks\":\"\"},\"bgcolor\":\"#E5ECF6\",\"caxis\":{\"gridcolor\":\"white\",\"linecolor\":\"white\",\"ticks\":\"\"}},\"title\":{\"x\":0.05},\"xaxis\":{\"automargin\":true,\"gridcolor\":\"white\",\"linecolor\":\"white\",\"ticks\":\"\",\"title\":{\"standoff\":15},\"zerolinecolor\":\"white\",\"zerolinewidth\":2},\"yaxis\":{\"automargin\":true,\"gridcolor\":\"white\",\"linecolor\":\"white\",\"ticks\":\"\",\"title\":{\"standoff\":15},\"zerolinecolor\":\"white\",\"zerolinewidth\":2}}},\"title\":{\"text\":\"Efficient Frontier\"},\"xaxis\":{\"title\":{\"text\":\"Standard Deviation\"}},\"yaxis\":{\"title\":{\"text\":\"Expected Return\"}}},                        {\"responsive\": true}                    ).then(function(){\n",
       "                            \n",
       "var gd = document.getElementById('9c1c699c-97e2-4352-ac67-aa10d2ab0a92');\n",
       "var x = new MutationObserver(function (mutations, observer) {{\n",
       "        var display = window.getComputedStyle(gd).display;\n",
       "        if (!display || display === 'none') {{\n",
       "            console.log([gd, 'removed!']);\n",
       "            Plotly.purge(gd);\n",
       "            observer.disconnect();\n",
       "        }}\n",
       "}});\n",
       "\n",
       "// Listen for the removal of the full notebook cells\n",
       "var notebookContainer = gd.closest('#notebook-container');\n",
       "if (notebookContainer) {{\n",
       "    x.observe(notebookContainer, {childList: true});\n",
       "}}\n",
       "\n",
       "// Listen for the clearing of the current output cell\n",
       "var outputEl = gd.closest('.output');\n",
       "if (outputEl) {{\n",
       "    x.observe(outputEl, {childList: true});\n",
       "}}\n",
       "\n",
       "                        })                };                });            </script>        </div>"
      ]
     },
     "metadata": {},
     "output_type": "display_data"
    }
   ],
   "source": [
    "import plotly.graph_objs as go\n",
    "from plotly.offline import iplot\n",
    "\n",
    "\n",
    "trace1 = go.Scatter(\n",
    "    x=np.sqrt(Var_w), y=m,\n",
    "    mode='lines', name='Risky Assets'\n",
    ")\n",
    "\n",
    "trace2 = go.Scatter(\n",
    "    x=np.sqrt(var_rf), y=mr,\n",
    "    mode='lines', name='Risk-Free Assets'\n",
    ")\n",
    "\n",
    "\n",
    "layout = go.Layout(\n",
    "    title='Efficient Frontier',\n",
    "    xaxis=dict(title='Standard Deviation'),\n",
    "    yaxis=dict(title='Expected Return'),\n",
    "    hovermode='closest'\n",
    ")\n",
    "\n",
    "\n",
    "fig = go.Figure(data=[trace1, trace2], layout=layout)\n",
    "\n",
    "iplot(fig)\n"
   ]
  },
  {
   "cell_type": "markdown",
   "metadata": {},
   "source": [
    "4. Compute and plot the efficient portfolio frontier with the same risk-free asset but imposing a no short-selling constraint. Comment on the differences on the portfolio with 0.5% monthly expected return with and without the short-selling constraint."
   ]
  },
  {
   "cell_type": "code",
   "execution_count": 20,
   "metadata": {},
   "outputs": [],
   "source": [
    "# Define the optimization function with no short-selling constraint\n",
    "def minimize_volatility_no_short_selling(target_return, returns, cov_matrix, num_assets):\n",
    "    constraints = ({'type': 'eq', 'fun': lambda x: np.sum(x * returns) - target_return},\n",
    "                   {'type': 'eq', 'fun': lambda x: np.sum(x) - 1})\n",
    "    bounds = tuple((0, 1) for asset in range(num_assets))\n",
    "    initial_guess = num_assets * [1./num_assets,]\n",
    "    result = minimize(lambda x: np.sqrt(np.dot(x.T, np.dot(cov_matrix, x))), initial_guess,\n",
    "                      method='SLSQP', bounds=bounds, constraints=constraints)\n",
    "    return result"
   ]
  },
  {
   "cell_type": "code",
   "execution_count": 21,
   "metadata": {},
   "outputs": [],
   "source": [
    "# Compute efficient frontier with no short-selling constraint\n",
    "target_returns_no_short = np.linspace(expected_returns_array.min(), expected_returns_array.max(), 50)\n",
    "efficient_portfolios_no_short = [minimize_volatility_no_short_selling(target, expected_returns_array, cov_matrix_array, num_assets) for target in target_returns_no_short]"
   ]
  },
  {
   "cell_type": "code",
   "execution_count": 22,
   "metadata": {},
   "outputs": [],
   "source": [
    "# Extract volatilities and returns for the efficient frontier with no short-selling\n",
    "frontier_volatility_no_short = [np.sqrt(np.dot(p['x'].T, np.dot(cov_matrix_array, p['x']))) for p in efficient_portfolios_no_short]\n",
    "frontier_returns_no_short = [np.sum(p['x'] * expected_returns_array) for p in efficient_portfolios_no_short]"
   ]
  },
  {
   "cell_type": "code",
   "execution_count": 23,
   "metadata": {},
   "outputs": [
    {
     "data": {
      "image/png": "[encoded data removed]",
      "text/plain": [
       "<Figure size 1000x600 with 1 Axes>"
      ]
     },
     "metadata": {},
     "output_type": "display_data"
    }
   ],
   "source": [
    "# Plot the efficient frontier with no short-selling constraint\n",
    "plt.figure(figsize=(10, 6))\n",
    "plt.plot(frontier_volatility_no_short, frontier_returns_no_short, 'g-', linewidth=2, label='Efficient Frontier (No Short-Selling)')\n",
    "plt.xlabel('Volatility')\n",
    "plt.ylabel('Return')\n",
    "plt.title('Efficient Frontier with No Short-Selling Constraint')\n",
    "plt.legend()\n",
    "plt.show()"
   ]
  },
  {
   "cell_type": "code",
   "execution_count": 24,
   "metadata": {},
   "outputs": [],
   "source": [
    "# Calculate portfolio weights with short-selling for a 0.5% monthly expected return\n",
    "target_return_05 = 0.005  # 0.5% monthly return\n",
    "portfolio_with_short_selling = minimize_volatility(target_return_05)\n",
    "portfolio_weights_with_short_selling = portfolio_with_short_selling['x']"
   ]
  },
  {
   "cell_type": "code",
   "execution_count": 25,
   "metadata": {},
   "outputs": [
    {
     "name": "stdout",
     "output_type": "stream",
     "text": [
      "Portfolio Weights with Short-Selling Constraint: [ 0.12671504  1.          0.23917525 -1.          0.34636738  0.28774233]\n",
      "Portfolio Weights without Short-Selling Constraint: [8.02971963e-14 1.00000000e+00 4.40897158e-14 0.00000000e+00\n",
      " 1.07703439e-12 1.43746333e-13]\n"
     ]
    }
   ],
   "source": [
    "# Compute the no short-selling portfolio for the same target return\n",
    "portfolio_no_short_selling = minimize_volatility_no_short_selling(target_return_05, expected_returns_array, cov_matrix_array, num_assets)\n",
    "portfolio_weights_no_short_selling = portfolio_no_short_selling['x']\n",
    "\n",
    "# Compare the weights\n",
    "print(\"Portfolio Weights with Short-Selling Constraint:\", portfolio_weights_with_short_selling)\n",
    "print(\"Portfolio Weights without Short-Selling Constraint:\", portfolio_weights_no_short_selling)"
   ]
  },
  {
   "cell_type": "markdown",
   "metadata": {},
   "source": [
    "5.\tEstimate CAPM alpha and beta for your stock, use the returns of the S&P 500 as proxy for the market returns. Comment on the results, which of the stocks have generated alpha in the previous years."
   ]
  },
  {
   "cell_type": "markdown",
   "metadata": {},
   "source": [
    "###  5. Estimate CAPM alpha and beta for your stocks, use the returns of the S&P 500 (you should obtain returns from S&P 500 prices) as proxy for the market returns. Comment on the results, which of the stocks has generated alpha in the previous years? Assume Rf=0.02."
   ]
  },
  {
   "cell_type": "code",
   "execution_count": 222,
   "metadata": {},
   "outputs": [],
   "source": [
    "# Load S&P 500 data\n",
    "sp500_data_path = './Data/SPX.csv'\n",
    "sp500_data = pd.read_csv(sp500_data_path)\n",
    "\n",
    "# Convert 'Date' to datetime and set as index\n",
    "sp500_data['Date'] = pd.to_datetime(sp500_data['Date'])\n",
    "sp500_data.set_index('Date', inplace=True)\n",
    "\n",
    "# Calculate monthly returns for S&P 500\n",
    "sp500_data['SPX_Returns'] = sp500_data['Price Close'].pct_change()"
   ]
  },
  {
   "cell_type": "code",
   "execution_count": 223,
   "metadata": {},
   "outputs": [],
   "source": [
    "# Aligning stock returns with S&P 500 returns\n",
    "aligned_data = unstacked_data['1 Month Total Return'].align(sp500_data['SPX_Returns'], axis=0, join='inner')\n",
    "stock_returns, market_returns = aligned_data[0], aligned_data[1]"
   ]
  },
  {
   "cell_type": "code",
   "execution_count": 224,
   "metadata": {},
   "outputs": [
    {
     "name": "stdout",
     "output_type": "stream",
     "text": [
      "Stock: BIIB.OQ\n",
      "Alpha (α): 0.008985761987752118, Beta (β): 0.6056533820665593\n",
      "\n",
      "Stock: BIO.N\n",
      "Alpha (α): -0.00028528017093178333, Beta (β): 1.0610530336947939\n",
      "\n",
      "Stock: LKQ.OQ\n",
      "Alpha (α): 0.002917216458923055, Beta (β): 1.1431666829306721\n",
      "\n",
      "Stock: MKTX.OQ\n",
      "Alpha (α): 0.015990517735754, Beta (β): 0.7614053177428972\n",
      "\n",
      "Stock: TXT.N\n",
      "Alpha (α): -0.0031056564387843565, Beta (β): 1.487895384891568\n",
      "\n",
      "Stock: VRSK.OQ\n",
      "Alpha (α): 0.009399226665716376, Beta (β): 0.6293362273439004\n",
      "\n"
     ]
    }
   ],
   "source": [
    "# Perform regression analysis for each stock\n",
    "for stock in stock_returns.columns:\n",
    "    # Prepare data for regression\n",
    "    X = sm.add_constant(market_returns)  # Market returns\n",
    "    y = stock_returns[stock]  # Stock returns\n",
    "\n",
    "    # Perform linear regression\n",
    "    model = sm.OLS(y, X, missing='drop').fit()\n",
    "    alpha, beta = model.params\n",
    "\n",
    "    # Output results\n",
    "    print(f\"Stock: {stock}\")\n",
    "    print(f\"Alpha (α): {alpha}, Beta (β): {beta}\\n\")"
   ]
  },
  {
   "cell_type": "markdown",
   "metadata": {},
   "source": [
    "6. Compute market implicit returns Π in a Black Litterman framework. And compute the market portfolio."
   ]
  },
  {
   "cell_type": "markdown",
   "metadata": {},
   "source": [
    "$$\n",
    "\\Pi = \\text{diag}(\\tau \\cdot \\Sigma) \\cdot \\text{W}_{\\text{market}}\n",
    "$$\n",
    "\n",
    "Where:\n",
    "- $\\Pi$ represents the market implicit returns,\n",
    "- $\\tau$ is a scalar representing the risk aversion coefficient,\n",
    "- $\\Sigma$ is the covariance matrix of the asset returns,\n",
    "- $\\text{W}_{\\text{market}}$ denotes the market capitalization weights of the assets."
   ]
  },
  {
   "cell_type": "code",
   "execution_count": 225,
   "metadata": {},
   "outputs": [],
   "source": [
    "# Load data including 'Company Market Cap'\n",
    "dataframes_market_cap = [pd.read_csv(file, usecols=['Instrument', 'Date', 'Company Market Cap']) for file in file_paths]\n",
    "\n",
    "# Process these dataframes\n",
    "processed_market_cap_dfs = []\n",
    "for df in dataframes_market_cap:\n",
    "    # Convert 'Date' to datetime and set as index with 'Instrument'\n",
    "    df['Date'] = pd.to_datetime(df['Date'])\n",
    "    df.set_index(['Date', 'Instrument'], inplace=True)\n",
    "    \n",
    "    # Keep only the 'Company Market Cap' column\n",
    "    processed_market_cap_dfs.append(df)\n",
    "\n",
    "# Merge all market cap dataframes on the multi-index\n",
    "merged_market_cap_data = pd.concat(processed_market_cap_dfs, axis=0)"
   ]
  },
  {
   "cell_type": "code",
   "execution_count": 226,
   "metadata": {},
   "outputs": [],
   "source": [
    "# Extracting and averaging market capitalization data\n",
    "market_caps = merged_market_cap_data.groupby(level='Instrument')['Company Market Cap'].mean()"
   ]
  },
  {
   "cell_type": "code",
   "execution_count": 227,
   "metadata": {},
   "outputs": [],
   "source": [
    "# Set the risk aversion coefficient (τ)\n",
    "tau = 0.05  # Adjust as needed\n",
    "\n",
    "# Calculate market weights\n",
    "total_market_cap = market_caps.sum()\n",
    "market_weights = market_caps / total_market_cap\n",
    "\n",
    "# Assuming 'var_cov_matrix' is your covariance matrix from earlier calculations\n",
    "# Calculate market implicit returns (Π)\n",
    "Pi = np.dot(np.diag(tau * var_cov_matrix), market_weights)"
   ]
  },
  {
   "cell_type": "code",
   "execution_count": 228,
   "metadata": {},
   "outputs": [],
   "source": [
    "# Objective function to minimize (Variance)\n",
    "def portfolio_variance(weights, covariance_matrix):\n",
    "    return np.dot(weights.T, np.dot(covariance_matrix, weights))\n",
    "\n",
    "# Constraints for optimization\n",
    "constraints = ({'type': 'eq', 'fun': lambda x: np.sum(x) - 1})  # Sum of weights is 1\n",
    "bounds = [(0, 1) for _ in range(len(market_weights))]  # No short selling\n",
    "\n",
    "# Initial guess (equal distribution)\n",
    "initial_weights = np.full(len(market_weights), 1/len(market_weights))\n",
    "\n",
    "# Perform the optimization\n",
    "optimized_result = minimize(portfolio_variance, initial_weights, args=(var_cov_matrix,), \n",
    "                            method='SLSQP', bounds=bounds, constraints=constraints)\n",
    "\n",
    "# Optimized market portfolio weights\n",
    "optimized_weights = optimized_result.x"
   ]
  },
  {
   "cell_type": "code",
   "execution_count": 229,
   "metadata": {},
   "outputs": [
    {
     "name": "stdout",
     "output_type": "stream",
     "text": [
      "Market Capitalization Weights:\n",
      "Instrument\n",
      "BIIB.OQ    0.459742\n",
      "BIO.N      0.071813\n",
      "LKQ.OQ     0.081056\n",
      "MKTX.OQ    0.062200\n",
      "TXT.N      0.124555\n",
      "VRSK.OQ    0.200634\n",
      "Name: Company Market Cap, dtype: float64\n",
      "\n",
      "Market Implicit Returns (Π):\n",
      "3.719047853749381\n",
      "\n",
      "Optimized Market Portfolio Weights:\n",
      "[0.17410965 0.06005538 0.10731056 0.11647239 0.04810037 0.49395167]\n"
     ]
    }
   ],
   "source": [
    "# Print Market Capitalization Weights\n",
    "print(\"Market Capitalization Weights:\")\n",
    "print(market_weights)\n",
    "\n",
    "# Print Market Implicit Returns (Π)\n",
    "print(\"\\nMarket Implicit Returns (Π):\")\n",
    "print(Pi)\n",
    "\n",
    "# Print Optimized Market Portfolio Weights\n",
    "print(\"\\nOptimized Market Portfolio Weights:\")\n",
    "print(optimized_weights)"
   ]
  },
  {
   "cell_type": "markdown",
   "metadata": {},
   "source": [
    "----"
   ]
  },
  {
   "cell_type": "markdown",
   "metadata": {},
   "source": [
    "7.\tFormulate at least two Black Litterman views for the returns of the stocks in your portfolio for January 2023 (for formulating the views you can use historical averages, news and or public balance sheet data). "
   ]
  },
  {
   "cell_type": "markdown",
   "metadata": {},
   "source": [
    "**BIIB.OQ (Biogen Inc.) - Views**\n",
    "\n",
    "**View 1:**\n",
    "- **Expected Return:** 7%\n",
    "- **Confidence Level:** High\n",
    "- **Rationale:** Strong results from new Alzheimer's drug trials.\n",
    "\n",
    "**View 2:**\n",
    "- **Expected Return:** 5%\n",
    "- **Confidence Level:** Moderate\n",
    "- **Rationale:** Potential regulatory challenges affecting drug approvals."
   ]
  },
  {
   "cell_type": "markdown",
   "metadata": {},
   "source": [
    "**BIO.N (Bio-Rad Laboratories) - Views**\n",
    "\n",
    "**View 1:**\n",
    "- **Expected Return:** 5%\n",
    "- **Confidence Level:** Moderate\n",
    "- **Rationale:** Consistent performance in diagnostics and research sectors.\n",
    "\n",
    "**View 2:**\n",
    "- **Expected Return:** 4%\n",
    "- **Confidence Level:** Low\n",
    "- **Rationale:** Potential market saturation in key product lines."
   ]
  },
  {
   "cell_type": "markdown",
   "metadata": {},
   "source": [
    "**LKQ.OQ (LKQ Corporation) - Views**\n",
    "\n",
    "**View 1:**\n",
    "- **Expected Return:** 3%\n",
    "- **Confidence Level:** Moderate\n",
    "- **Rationale:** Steady demand in the automotive parts industry.\n",
    "\n",
    "**View 2:**\n",
    "- **Expected Return:** 2%\n",
    "- **Confidence Level:** Low\n",
    "- **Rationale:** Global supply chain disruptions affecting inventory."
   ]
  },
  {
   "cell_type": "markdown",
   "metadata": {},
   "source": [
    "**TXT.N (Textron Inc.) - Views**\n",
    "\n",
    "**View 1:**\n",
    "- **Expected Return:** 4%\n",
    "- **Confidence Level:** Moderate\n",
    "- **Rationale:** New government contracts for defense equipment.\n",
    "\n",
    "**View 2:**\n",
    "- **Expected Return:** 3%\n",
    "- **Confidence Level:** Low\n",
    "- **Rationale:** Economic uncertainties affecting industrial sectors."
   ]
  },
  {
   "cell_type": "markdown",
   "metadata": {},
   "source": [
    "**VRSK.OQ (Verisk Analytics) - Views**\n",
    "\n",
    "**View 1:**\n",
    "- **Expected Return:** 6%\n",
    "- **Confidence Level:** High\n",
    "- **Rationale:** Growing demand for risk assessment and data analytics services.\n",
    "\n",
    "**View 2:**\n",
    "- **Expected Return:** 4%\n",
    "- **Confidence Level:** Moderate\n",
    "- **Rationale:** Competitive pressures in the data analytics market."
   ]
  },
  {
   "cell_type": "markdown",
   "metadata": {},
   "source": [
    "**MKTX.OQ (MarketAxess) - Views**\n",
    "\n",
    "**View 1:**\n",
    "- **Expected Return:** 2%\n",
    "- **Confidence Level:** Low\n",
    "- **Rationale:** Challenges from market volatility in the fintech sector.\n",
    "\n",
    "**View 2:**\n",
    "- **Expected Return:** 1%\n",
    "- **Confidence Level:** Low\n",
    "- **Rationale:** Regulatory changes potentially impacting operations."
   ]
  },
  {
   "cell_type": "markdown",
   "metadata": {},
   "source": [
    "-----"
   ]
  },
  {
   "cell_type": "markdown",
   "metadata": {},
   "source": []
  },
  {
   "cell_type": "code",
   "execution_count": 34,
   "metadata": {},
   "outputs": [
    {
     "ename": "ValueError",
     "evalue": "matmul: Input operand 1 does not have enough dimensions (has 0, gufunc core with signature (n?,k),(k,m?)->(n?,m?) requires 1)",
     "output_type": "error",
     "traceback": [
      "\u001b[0;31m---------------------------------------------------------------------------\u001b[0m",
      "\u001b[0;31mValueError\u001b[0m                                Traceback (most recent call last)",
      "Cell \u001b[0;32mIn[34], line 45\u001b[0m\n\u001b[1;32m     39\u001b[0m     \u001b[38;5;28;01mreturn\u001b[39;00m adjusted_returns\u001b[38;5;241m.\u001b[39mflatten()\n\u001b[1;32m     41\u001b[0m \u001b[38;5;66;03m### Calculate Adjusted Returns for Both Portfolios\u001b[39;00m\n\u001b[1;32m     42\u001b[0m \n\u001b[1;32m     43\u001b[0m \n\u001b[1;32m     44\u001b[0m \u001b[38;5;66;03m# Calculate adjusted returns for Portfolio A\u001b[39;00m\n\u001b[0;32m---> 45\u001b[0m adjusted_returns_A \u001b[38;5;241m=\u001b[39m \u001b[43mblack_litterman_adjusted_returns\u001b[49m\u001b[43m(\u001b[49m\u001b[43mviews_A\u001b[49m\u001b[43m,\u001b[49m\u001b[43m \u001b[49m\u001b[43mconfidence_A\u001b[49m\u001b[43m,\u001b[49m\u001b[43m \u001b[49m\u001b[43mP_A\u001b[49m\u001b[43m,\u001b[49m\u001b[43m \u001b[49m\u001b[43mtau_A\u001b[49m\u001b[43m,\u001b[49m\u001b[43m \u001b[49m\u001b[43mvar_cov_matrix\u001b[49m\u001b[43m,\u001b[49m\u001b[43m \u001b[49m\u001b[43mPi\u001b[49m\u001b[43m)\u001b[49m\n\u001b[1;32m     47\u001b[0m \u001b[38;5;66;03m# Calculate adjusted returns for Portfolio B\u001b[39;00m\n\u001b[1;32m     48\u001b[0m adjusted_returns_B \u001b[38;5;241m=\u001b[39m black_litterman_adjusted_returns(views_B, confidence_B, P_B, tau_B, var_cov_matrix, Pi)\n",
      "Cell \u001b[0;32mIn[34], line 36\u001b[0m, in \u001b[0;36mblack_litterman_adjusted_returns\u001b[0;34m(views, confidence, P, tau, Sigma, Pi)\u001b[0m\n\u001b[1;32m     34\u001b[0m \u001b[38;5;66;03m# Calculate the Black Litterman adjusted returns\u001b[39;00m\n\u001b[1;32m     35\u001b[0m middle_term \u001b[38;5;241m=\u001b[39m np\u001b[38;5;241m.\u001b[39mlinalg\u001b[38;5;241m.\u001b[39minv(P\u001b[38;5;241m.\u001b[39mT \u001b[38;5;241m@\u001b[39m np\u001b[38;5;241m.\u001b[39mlinalg\u001b[38;5;241m.\u001b[39minv(omega) \u001b[38;5;241m@\u001b[39m P \u001b[38;5;241m+\u001b[39m np\u001b[38;5;241m.\u001b[39mlinalg\u001b[38;5;241m.\u001b[39minv(tau \u001b[38;5;241m*\u001b[39m Sigma))\n\u001b[0;32m---> 36\u001b[0m adjusted_returns \u001b[38;5;241m=\u001b[39m middle_term \u001b[38;5;241m@\u001b[39m (P\u001b[38;5;241m.\u001b[39mT \u001b[38;5;241m@\u001b[39m np\u001b[38;5;241m.\u001b[39mlinalg\u001b[38;5;241m.\u001b[39minv(omega) \u001b[38;5;241m@\u001b[39m views \u001b[38;5;241m+\u001b[39m \u001b[43mnp\u001b[49m\u001b[38;5;241;43m.\u001b[39;49m\u001b[43mlinalg\u001b[49m\u001b[38;5;241;43m.\u001b[39;49m\u001b[43minv\u001b[49m\u001b[43m(\u001b[49m\u001b[43mtau\u001b[49m\u001b[43m \u001b[49m\u001b[38;5;241;43m*\u001b[39;49m\u001b[43m \u001b[49m\u001b[43mSigma\u001b[49m\u001b[43m)\u001b[49m\u001b[43m \u001b[49m\u001b[38;5;241;43m@\u001b[39;49m\u001b[43m \u001b[49m\u001b[43mPi\u001b[49m)\n\u001b[1;32m     38\u001b[0m \u001b[38;5;66;03m# Return adjusted returns as a flat array\u001b[39;00m\n\u001b[1;32m     39\u001b[0m \u001b[38;5;28;01mreturn\u001b[39;00m adjusted_returns\u001b[38;5;241m.\u001b[39mflatten()\n",
      "\u001b[0;31mValueError\u001b[0m: matmul: Input operand 1 does not have enough dimensions (has 0, gufunc core with signature (n?,k),(k,m?)->(n?,m?) requires 1)"
     ]
    }
   ],
   "source": [
    "### Portfolio A (Optimistic Scenario)\n",
    "\n",
    "# Portfolio A Views (Optimistic)\n",
    "views_A = np.array([0.07, 0.05, 0.04, 0.04, 0.06, 0.03])  \n",
    "confidence_A = np.array([0.1, 0.1, 0.1, 0.1, 0.1, 0.1])\n",
    "\n",
    "# Common parameters for Black Litterman model\n",
    "tau_A = 0.05\n",
    "P_A = np.eye(len(views_A))\n",
    "\n",
    "\n",
    "### Portfolio B (Conservative Scenario)\n",
    "# Portfolio B Views (Conservative)\n",
    "views_B = np.array([0.04, 0.02, 0.02, 0.03, 0.04, 0.01])  # Hypothetical expected returns for each stock\n",
    "confidence_B = np.array([0.05, 0.05, 0.05, 0.05, 0.05, 0.05])  # Lower confidence in each view\n",
    "\n",
    "# Common parameters for Black Litterman model\n",
    "tau_B = 0.05  # Adjust as needed for Portfolio B\n",
    "P_B = np.eye(len(views_B))  # Identity matrix for Pick matrix\n",
    "\n",
    "\n",
    "### Function for Black Litterman Adjusted Returns\n",
    "def black_litterman_adjusted_returns(views, confidence, P, tau, Sigma, Pi):\n",
    "    # Ensure Pi is a column vector\n",
    "    Pi = Pi.reshape(-1, 1) if Pi.ndim == 1 else Pi\n",
    "\n",
    "    # Convert views and confidence to column vectors\n",
    "    views = np.array(views).reshape(-1, 1)\n",
    "    confidence = np.array(confidence).reshape(-1, 1)\n",
    "\n",
    "    # Calculate Omega using the diagonal of confidence\n",
    "    omega = np.diagflat(confidence)\n",
    "\n",
    "    # Calculate the Black Litterman adjusted returns\n",
    "    middle_term = np.linalg.inv(P.T @ np.linalg.inv(omega) @ P + np.linalg.inv(tau * Sigma))\n",
    "    adjusted_returns = middle_term @ (P.T @ np.linalg.inv(omega) @ views + np.linalg.inv(tau * Sigma) @ Pi)\n",
    "\n",
    "    # Return adjusted returns as a flat array\n",
    "    return adjusted_returns.flatten()\n",
    "\n",
    "### Calculate Adjusted Returns for Both Portfolios\n",
    "\n",
    "\n",
    "# Calculate adjusted returns for Portfolio A\n",
    "adjusted_returns_A = black_litterman_adjusted_returns(views_A, confidence_A, P_A, tau_A, var_cov_matrix, Pi)\n",
    "\n",
    "# Calculate adjusted returns for Portfolio B\n",
    "adjusted_returns_B = black_litterman_adjusted_returns(views_B, confidence_B, P_B, tau_B, var_cov_matrix, Pi)\n"
   ]
  },
  {
   "cell_type": "code",
   "execution_count": null,
   "metadata": {},
   "outputs": [],
   "source": []
  }
 ],
 "metadata": {
  "kernelspec": {
   "display_name": "Python 3",
   "language": "python",
   "name": "python3"
  },
  "language_info": {
   "codemirror_mode": {
    "name": "ipython",
    "version": 3
   },
   "file_extension": ".py",
   "mimetype": "text/x-python",
   "name": "python",
   "nbconvert_exporter": "python",
   "pygments_lexer": "ipython3",
   "version": "3.10.13"
  }
 },
 "nbformat": 4,
 "nbformat_minor": 2
}
