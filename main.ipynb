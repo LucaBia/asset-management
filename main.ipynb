{
 "cells": [
  {
   "cell_type": "code",
   "execution_count": 2,
   "metadata": {},
   "outputs": [],
   "source": [
    "#!pip3 install statsmodels\n",
    "import pandas as pd\n",
    "import numpy as np\n",
    "import matplotlib.pyplot as plt\n",
    "import matplotlib.dates as mdates\n",
    "from scipy.optimize import minimize\n",
    "import statsmodels.api as sm\n",
    "import warnings"
   ]
  },
  {
   "cell_type": "code",
   "execution_count": 3,
   "metadata": {},
   "outputs": [],
   "source": [
    "file_paths = [\n",
    "    './Data/BIIB.OQ.csv',\n",
    "    './Data/BIO.N.csv',\n",
    "    './Data/LKQ.OQ.csv',\n",
    "    './Data/TXT.N.csv',\n",
    "    './Data/VRSK.OQ.csv',\n",
    "    './Data/MKTX.OQ.csv'\n",
    "]\n",
    "\n",
    "# Si caricano i file\n",
    "dataframes = [pd.read_csv(file) for file in file_paths]"
   ]
  },
  {
   "cell_type": "code",
   "execution_count": 4,
   "metadata": {},
   "outputs": [],
   "source": [
    "# Vengono contati i valori NaN per ogni dataframe\n",
    "nan_counts = [df.isna().sum().max() for df in dataframes]\n",
    "\n",
    "# Viene trovato il dataframe con il numero più alto di NaN\n",
    "max_nan_count = max(nan_counts)"
   ]
  },
  {
   "cell_type": "code",
   "execution_count": 5,
   "metadata": {},
   "outputs": [],
   "source": [
    "processed_dfs = []\n",
    "for df in dataframes:\n",
    "    # Le prime righe vengono rimosse in base al conteggio massimo di Nan\n",
    "    df = df.iloc[max_nan_count:].copy()\n",
    "\n",
    "    # Conversione della colonna 'Date' in tipo di dato datetime\n",
    "    df['Date'] = pd.to_datetime(df['Date'])\n",
    "    df['1 Month Total Return'] = df['1 Month Total Return']/100\n",
    "\n",
    "    # Impostazione della data e ticker symbol come un indice multiplo\n",
    "    df.set_index(['Date', 'Instrument'], inplace=True)\n",
    "\n",
    "    # Si conserva solo la colonna '1 Month Total Return'\n",
    "    df = df[['1 Month Total Return']]\n",
    "\n",
    "    processed_dfs.append(df)"
   ]
  },
  {
   "cell_type": "code",
   "execution_count": 6,
   "metadata": {},
   "outputs": [],
   "source": [
    "# Si uniscono tutti i dataframe\n",
    "merged_data = pd.concat(processed_dfs, axis=0)"
   ]
  },
  {
   "cell_type": "code",
   "execution_count": 7,
   "metadata": {},
   "outputs": [
    {
     "data": {
      "text/html": [
       "<div>\n",
       "<style scoped>\n",
       "    .dataframe tbody tr th:only-of-type {\n",
       "        vertical-align: middle;\n",
       "    }\n",
       "\n",
       "    .dataframe tbody tr th {\n",
       "        vertical-align: top;\n",
       "    }\n",
       "\n",
       "    .dataframe thead th {\n",
       "        text-align: right;\n",
       "    }\n",
       "</style>\n",
       "<table border=\"1\" class=\"dataframe\">\n",
       "  <thead>\n",
       "    <tr style=\"text-align: right;\">\n",
       "      <th>Instrument</th>\n",
       "      <th>BIIB.OQ</th>\n",
       "      <th>BIO.N</th>\n",
       "      <th>LKQ.OQ</th>\n",
       "      <th>MKTX.OQ</th>\n",
       "      <th>TXT.N</th>\n",
       "      <th>VRSK.OQ</th>\n",
       "    </tr>\n",
       "    <tr>\n",
       "      <th>Date</th>\n",
       "      <th></th>\n",
       "      <th></th>\n",
       "      <th></th>\n",
       "      <th></th>\n",
       "      <th></th>\n",
       "      <th></th>\n",
       "    </tr>\n",
       "  </thead>\n",
       "  <tbody>\n",
       "    <tr>\n",
       "      <th>2009-10-30 00:00:00+00:00</th>\n",
       "      <td>-0.166073</td>\n",
       "      <td>-0.027101</td>\n",
       "      <td>-0.068501</td>\n",
       "      <td>-0.014108</td>\n",
       "      <td>-0.063224</td>\n",
       "      <td>0.007715</td>\n",
       "    </tr>\n",
       "    <tr>\n",
       "      <th>2009-11-30 00:00:00+00:00</th>\n",
       "      <td>0.114170</td>\n",
       "      <td>0.081665</td>\n",
       "      <td>0.009265</td>\n",
       "      <td>0.053882</td>\n",
       "      <td>0.127672</td>\n",
       "      <td>-0.018957</td>\n",
       "    </tr>\n",
       "    <tr>\n",
       "      <th>2009-12-31 00:00:00+00:00</th>\n",
       "      <td>0.139753</td>\n",
       "      <td>-0.002379</td>\n",
       "      <td>0.123924</td>\n",
       "      <td>0.116466</td>\n",
       "      <td>-0.060889</td>\n",
       "      <td>0.125232</td>\n",
       "    </tr>\n",
       "    <tr>\n",
       "      <th>2010-01-29 00:00:00+00:00</th>\n",
       "      <td>0.004486</td>\n",
       "      <td>-0.034004</td>\n",
       "      <td>-0.042879</td>\n",
       "      <td>-0.019424</td>\n",
       "      <td>0.038278</td>\n",
       "      <td>-0.071334</td>\n",
       "    </tr>\n",
       "    <tr>\n",
       "      <th>2010-02-26 00:00:00+00:00</th>\n",
       "      <td>0.032664</td>\n",
       "      <td>-0.011223</td>\n",
       "      <td>0.010554</td>\n",
       "      <td>0.102802</td>\n",
       "      <td>0.017365</td>\n",
       "      <td>-0.016336</td>\n",
       "    </tr>\n",
       "    <tr>\n",
       "      <th>...</th>\n",
       "      <td>...</td>\n",
       "      <td>...</td>\n",
       "      <td>...</td>\n",
       "      <td>...</td>\n",
       "      <td>...</td>\n",
       "      <td>...</td>\n",
       "    </tr>\n",
       "    <tr>\n",
       "      <th>2023-08-31 00:00:00+00:00</th>\n",
       "      <td>-0.010474</td>\n",
       "      <td>-0.012729</td>\n",
       "      <td>-0.036234</td>\n",
       "      <td>-0.102628</td>\n",
       "      <td>-0.000772</td>\n",
       "      <td>0.058006</td>\n",
       "    </tr>\n",
       "    <tr>\n",
       "      <th>2023-09-29 00:00:00+00:00</th>\n",
       "      <td>-0.038064</td>\n",
       "      <td>-0.096762</td>\n",
       "      <td>-0.074060</td>\n",
       "      <td>-0.121799</td>\n",
       "      <td>0.007613</td>\n",
       "      <td>-0.021131</td>\n",
       "    </tr>\n",
       "    <tr>\n",
       "      <th>2023-10-31 00:00:00+00:00</th>\n",
       "      <td>-0.075756</td>\n",
       "      <td>-0.232027</td>\n",
       "      <td>-0.112906</td>\n",
       "      <td>0.000515</td>\n",
       "      <td>-0.027387</td>\n",
       "      <td>-0.037589</td>\n",
       "    </tr>\n",
       "    <tr>\n",
       "      <th>2023-11-30 00:00:00+00:00</th>\n",
       "      <td>-0.013195</td>\n",
       "      <td>0.131975</td>\n",
       "      <td>0.033015</td>\n",
       "      <td>0.124999</td>\n",
       "      <td>0.011346</td>\n",
       "      <td>0.075460</td>\n",
       "    </tr>\n",
       "    <tr>\n",
       "      <th>2023-12-29 00:00:00+00:00</th>\n",
       "      <td>0.105500</td>\n",
       "      <td>0.058933</td>\n",
       "      <td>0.073200</td>\n",
       "      <td>0.219500</td>\n",
       "      <td>0.049040</td>\n",
       "      <td>-0.010640</td>\n",
       "    </tr>\n",
       "  </tbody>\n",
       "</table>\n",
       "<p>171 rows × 6 columns</p>\n",
       "</div>"
      ],
      "text/plain": [
       "Instrument                  BIIB.OQ     BIO.N    LKQ.OQ   MKTX.OQ     TXT.N  \\\n",
       "Date                                                                          \n",
       "2009-10-30 00:00:00+00:00 -0.166073 -0.027101 -0.068501 -0.014108 -0.063224   \n",
       "2009-11-30 00:00:00+00:00  0.114170  0.081665  0.009265  0.053882  0.127672   \n",
       "2009-12-31 00:00:00+00:00  0.139753 -0.002379  0.123924  0.116466 -0.060889   \n",
       "2010-01-29 00:00:00+00:00  0.004486 -0.034004 -0.042879 -0.019424  0.038278   \n",
       "2010-02-26 00:00:00+00:00  0.032664 -0.011223  0.010554  0.102802  0.017365   \n",
       "...                             ...       ...       ...       ...       ...   \n",
       "2023-08-31 00:00:00+00:00 -0.010474 -0.012729 -0.036234 -0.102628 -0.000772   \n",
       "2023-09-29 00:00:00+00:00 -0.038064 -0.096762 -0.074060 -0.121799  0.007613   \n",
       "2023-10-31 00:00:00+00:00 -0.075756 -0.232027 -0.112906  0.000515 -0.027387   \n",
       "2023-11-30 00:00:00+00:00 -0.013195  0.131975  0.033015  0.124999  0.011346   \n",
       "2023-12-29 00:00:00+00:00  0.105500  0.058933  0.073200  0.219500  0.049040   \n",
       "\n",
       "Instrument                  VRSK.OQ  \n",
       "Date                                 \n",
       "2009-10-30 00:00:00+00:00  0.007715  \n",
       "2009-11-30 00:00:00+00:00 -0.018957  \n",
       "2009-12-31 00:00:00+00:00  0.125232  \n",
       "2010-01-29 00:00:00+00:00 -0.071334  \n",
       "2010-02-26 00:00:00+00:00 -0.016336  \n",
       "...                             ...  \n",
       "2023-08-31 00:00:00+00:00  0.058006  \n",
       "2023-09-29 00:00:00+00:00 -0.021131  \n",
       "2023-10-31 00:00:00+00:00 -0.037589  \n",
       "2023-11-30 00:00:00+00:00  0.075460  \n",
       "2023-12-29 00:00:00+00:00 -0.010640  \n",
       "\n",
       "[171 rows x 6 columns]"
      ]
     },
     "execution_count": 7,
     "metadata": {},
     "output_type": "execute_result"
    }
   ],
   "source": [
    "# 'Date' e 'Instrument' diventano colonne normali senza index\n",
    "merged_data_reset = merged_data.reset_index()\n",
    "\n",
    "returns = merged_data_reset.pivot(index='Date', columns='Instrument', values='1 Month Total Return')\n",
    "returns"
   ]
  },
  {
   "cell_type": "code",
   "execution_count": 8,
   "metadata": {},
   "outputs": [
    {
     "data": {
      "text/plain": [
       "array([[-0.16607284, -0.02710057, -0.06850054, -0.01410788, -0.06322445,\n",
       "         0.00771492],\n",
       "       [ 0.11417042,  0.08166462,  0.00926462,  0.05388153,  0.12767154,\n",
       "        -0.01895735],\n",
       "       [ 0.13975288, -0.00237874,  0.12392427,  0.11646586, -0.06088906,\n",
       "         0.12523226],\n",
       "       ...,\n",
       "       [-0.07575581, -0.23202678, -0.11290648,  0.00051488, -0.02738674,\n",
       "        -0.03758889],\n",
       "       [-0.01319506,  0.13197461,  0.03301478,  0.12499856,  0.01134565,\n",
       "         0.07545993],\n",
       "       [ 0.1055    ,  0.0589335 ,  0.0732    ,  0.2195    ,  0.04904   ,\n",
       "        -0.01064   ]])"
      ]
     },
     "execution_count": 8,
     "metadata": {},
     "output_type": "execute_result"
    }
   ],
   "source": [
    "df_without_header = returns.reset_index(drop=True) # Si rimuovono l'indice basato sulle date\n",
    "df_without_header.columns.name = None # Si rimuovono i nomi delle colonne\n",
    "\n",
    "ret = df_without_header.to_numpy()\n",
    "ret"
   ]
  },
  {
   "cell_type": "markdown",
   "metadata": {},
   "source": [
    "### 2. Estimate historical mean and variance covariance matrix of the stocks in your dataset with the methods described below. Estimate the variance covariance matrix with a Shrinkage toward Constant Correlation Approach (consider k=0.3). Estimate the vector of averages with an exponential average (lambda=0.01). Comment on the correlations among the stocks observed in your dataset."
   ]
  },
  {
   "cell_type": "markdown",
   "metadata": {},
   "source": [
    "#### 2.1"
   ]
  },
  {
   "cell_type": "code",
   "execution_count": 9,
   "metadata": {},
   "outputs": [
    {
     "data": {
      "text/html": [
       "<div>\n",
       "<style scoped>\n",
       "    .dataframe tbody tr th:only-of-type {\n",
       "        vertical-align: middle;\n",
       "    }\n",
       "\n",
       "    .dataframe tbody tr th {\n",
       "        vertical-align: top;\n",
       "    }\n",
       "\n",
       "    .dataframe thead th {\n",
       "        text-align: right;\n",
       "    }\n",
       "</style>\n",
       "<table border=\"1\" class=\"dataframe\">\n",
       "  <thead>\n",
       "    <tr style=\"text-align: right;\">\n",
       "      <th></th>\n",
       "      <th>1 Month Total Return</th>\n",
       "    </tr>\n",
       "    <tr>\n",
       "      <th>Instrument</th>\n",
       "      <th></th>\n",
       "    </tr>\n",
       "  </thead>\n",
       "  <tbody>\n",
       "    <tr>\n",
       "      <th>BIIB.OQ</th>\n",
       "      <td>0.015302</td>\n",
       "    </tr>\n",
       "    <tr>\n",
       "      <th>BIO.N</th>\n",
       "      <td>0.010138</td>\n",
       "    </tr>\n",
       "    <tr>\n",
       "      <th>LKQ.OQ</th>\n",
       "      <td>0.014185</td>\n",
       "    </tr>\n",
       "    <tr>\n",
       "      <th>MKTX.OQ</th>\n",
       "      <td>0.024412</td>\n",
       "    </tr>\n",
       "    <tr>\n",
       "      <th>TXT.N</th>\n",
       "      <td>0.011330</td>\n",
       "    </tr>\n",
       "    <tr>\n",
       "      <th>VRSK.OQ</th>\n",
       "      <td>0.015259</td>\n",
       "    </tr>\n",
       "  </tbody>\n",
       "</table>\n",
       "</div>"
      ],
      "text/plain": [
       "            1 Month Total Return\n",
       "Instrument                      \n",
       "BIIB.OQ                 0.015302\n",
       "BIO.N                   0.010138\n",
       "LKQ.OQ                  0.014185\n",
       "MKTX.OQ                 0.024412\n",
       "TXT.N                   0.011330\n",
       "VRSK.OQ                 0.015259"
      ]
     },
     "execution_count": 9,
     "metadata": {},
     "output_type": "execute_result"
    }
   ],
   "source": [
    "# Historical mean\n",
    "er = merged_data.groupby(level='Instrument').mean()\n",
    "er"
   ]
  },
  {
   "cell_type": "markdown",
   "metadata": {},
   "source": [
    "#### Variance-covariance matrix"
   ]
  },
  {
   "cell_type": "code",
   "execution_count": 10,
   "metadata": {},
   "outputs": [
    {
     "data": {
      "text/html": [
       "<div>\n",
       "<style scoped>\n",
       "    .dataframe tbody tr th:only-of-type {\n",
       "        vertical-align: middle;\n",
       "    }\n",
       "\n",
       "    .dataframe tbody tr th {\n",
       "        vertical-align: top;\n",
       "    }\n",
       "\n",
       "    .dataframe thead tr th {\n",
       "        text-align: left;\n",
       "    }\n",
       "\n",
       "    .dataframe thead tr:last-of-type th {\n",
       "        text-align: right;\n",
       "    }\n",
       "</style>\n",
       "<table border=\"1\" class=\"dataframe\">\n",
       "  <thead>\n",
       "    <tr>\n",
       "      <th></th>\n",
       "      <th></th>\n",
       "      <th colspan=\"6\" halign=\"left\">1 Month Total Return</th>\n",
       "    </tr>\n",
       "    <tr>\n",
       "      <th></th>\n",
       "      <th>Instrument</th>\n",
       "      <th>BIIB.OQ</th>\n",
       "      <th>BIO.N</th>\n",
       "      <th>LKQ.OQ</th>\n",
       "      <th>MKTX.OQ</th>\n",
       "      <th>TXT.N</th>\n",
       "      <th>VRSK.OQ</th>\n",
       "    </tr>\n",
       "    <tr>\n",
       "      <th></th>\n",
       "      <th>Instrument</th>\n",
       "      <th></th>\n",
       "      <th></th>\n",
       "      <th></th>\n",
       "      <th></th>\n",
       "      <th></th>\n",
       "      <th></th>\n",
       "    </tr>\n",
       "  </thead>\n",
       "  <tbody>\n",
       "    <tr>\n",
       "      <th rowspan=\"6\" valign=\"top\">1 Month Total Return</th>\n",
       "      <th>BIIB.OQ</th>\n",
       "      <td>0.009282</td>\n",
       "      <td>0.001361</td>\n",
       "      <td>0.001265</td>\n",
       "      <td>0.001054</td>\n",
       "      <td>0.001875</td>\n",
       "      <td>-0.000100</td>\n",
       "    </tr>\n",
       "    <tr>\n",
       "      <th>BIO.N</th>\n",
       "      <td>0.001361</td>\n",
       "      <td>0.006135</td>\n",
       "      <td>0.002281</td>\n",
       "      <td>0.003260</td>\n",
       "      <td>0.002675</td>\n",
       "      <td>0.001274</td>\n",
       "    </tr>\n",
       "    <tr>\n",
       "      <th>LKQ.OQ</th>\n",
       "      <td>0.001265</td>\n",
       "      <td>0.002281</td>\n",
       "      <td>0.006246</td>\n",
       "      <td>0.001847</td>\n",
       "      <td>0.003050</td>\n",
       "      <td>0.001216</td>\n",
       "    </tr>\n",
       "    <tr>\n",
       "      <th>MKTX.OQ</th>\n",
       "      <td>0.001054</td>\n",
       "      <td>0.003260</td>\n",
       "      <td>0.001847</td>\n",
       "      <td>0.008338</td>\n",
       "      <td>0.000752</td>\n",
       "      <td>0.000880</td>\n",
       "    </tr>\n",
       "    <tr>\n",
       "      <th>TXT.N</th>\n",
       "      <td>0.001875</td>\n",
       "      <td>0.002675</td>\n",
       "      <td>0.003050</td>\n",
       "      <td>0.000752</td>\n",
       "      <td>0.008406</td>\n",
       "      <td>0.001375</td>\n",
       "    </tr>\n",
       "    <tr>\n",
       "      <th>VRSK.OQ</th>\n",
       "      <td>-0.000100</td>\n",
       "      <td>0.001274</td>\n",
       "      <td>0.001216</td>\n",
       "      <td>0.000880</td>\n",
       "      <td>0.001375</td>\n",
       "      <td>0.003266</td>\n",
       "    </tr>\n",
       "  </tbody>\n",
       "</table>\n",
       "</div>"
      ],
      "text/plain": [
       "                                1 Month Total Return                      \\\n",
       "Instrument                                   BIIB.OQ     BIO.N    LKQ.OQ   \n",
       "                     Instrument                                            \n",
       "1 Month Total Return BIIB.OQ                0.009282  0.001361  0.001265   \n",
       "                     BIO.N                  0.001361  0.006135  0.002281   \n",
       "                     LKQ.OQ                 0.001265  0.002281  0.006246   \n",
       "                     MKTX.OQ                0.001054  0.003260  0.001847   \n",
       "                     TXT.N                  0.001875  0.002675  0.003050   \n",
       "                     VRSK.OQ               -0.000100  0.001274  0.001216   \n",
       "\n",
       "                                                               \n",
       "Instrument                        MKTX.OQ     TXT.N   VRSK.OQ  \n",
       "                     Instrument                                \n",
       "1 Month Total Return BIIB.OQ     0.001054  0.001875 -0.000100  \n",
       "                     BIO.N       0.003260  0.002675  0.001274  \n",
       "                     LKQ.OQ      0.001847  0.003050  0.001216  \n",
       "                     MKTX.OQ     0.008338  0.000752  0.000880  \n",
       "                     TXT.N       0.000752  0.008406  0.001375  \n",
       "                     VRSK.OQ     0.000880  0.001375  0.003266  "
      ]
     },
     "execution_count": 10,
     "metadata": {},
     "output_type": "execute_result"
    }
   ],
   "source": [
    "# Si raggruppano i dati seconodo 'Date' e 'Instrument'\n",
    "aggregated_data = merged_data.groupby(level=['Date', 'Instrument']).mean()\n",
    "\n",
    "# Si separa la colonna 'Instrument'\n",
    "unstacked_data = aggregated_data.unstack(level='Instrument')\n",
    "\n",
    "# Si calcola la matrice varianza-covarianza\n",
    "V = unstacked_data.cov()\n",
    "V"
   ]
  },
  {
   "cell_type": "markdown",
   "metadata": {},
   "source": [
    "#### 2.2"
   ]
  },
  {
   "cell_type": "markdown",
   "metadata": {},
   "source": [
    "<b>Variance-Covariance matrix with a Shrinkage toward Constant Correlation Approach</b><br>"
   ]
  },
  {
   "cell_type": "code",
   "execution_count": 11,
   "metadata": {},
   "outputs": [
    {
     "data": {
      "text/html": [
       "<div>\n",
       "<style scoped>\n",
       "    .dataframe tbody tr th:only-of-type {\n",
       "        vertical-align: middle;\n",
       "    }\n",
       "\n",
       "    .dataframe tbody tr th {\n",
       "        vertical-align: top;\n",
       "    }\n",
       "\n",
       "    .dataframe thead tr th {\n",
       "        text-align: left;\n",
       "    }\n",
       "\n",
       "    .dataframe thead tr:last-of-type th {\n",
       "        text-align: right;\n",
       "    }\n",
       "</style>\n",
       "<table border=\"1\" class=\"dataframe\">\n",
       "  <thead>\n",
       "    <tr>\n",
       "      <th></th>\n",
       "      <th></th>\n",
       "      <th colspan=\"6\" halign=\"left\">1 Month Total Return</th>\n",
       "    </tr>\n",
       "    <tr>\n",
       "      <th></th>\n",
       "      <th>Instrument</th>\n",
       "      <th>BIIB.OQ</th>\n",
       "      <th>BIO.N</th>\n",
       "      <th>LKQ.OQ</th>\n",
       "      <th>MKTX.OQ</th>\n",
       "      <th>TXT.N</th>\n",
       "      <th>VRSK.OQ</th>\n",
       "    </tr>\n",
       "    <tr>\n",
       "      <th></th>\n",
       "      <th>Instrument</th>\n",
       "      <th></th>\n",
       "      <th></th>\n",
       "      <th></th>\n",
       "      <th></th>\n",
       "      <th></th>\n",
       "      <th></th>\n",
       "    </tr>\n",
       "  </thead>\n",
       "  <tbody>\n",
       "    <tr>\n",
       "      <th rowspan=\"6\" valign=\"top\">1 Month Total Return</th>\n",
       "      <th>BIIB.OQ</th>\n",
       "      <td>1.000000</td>\n",
       "      <td>0.180396</td>\n",
       "      <td>0.166144</td>\n",
       "      <td>0.119771</td>\n",
       "      <td>0.212263</td>\n",
       "      <td>-0.018239</td>\n",
       "    </tr>\n",
       "    <tr>\n",
       "      <th>BIO.N</th>\n",
       "      <td>0.180396</td>\n",
       "      <td>1.000000</td>\n",
       "      <td>0.368448</td>\n",
       "      <td>0.455833</td>\n",
       "      <td>0.372479</td>\n",
       "      <td>0.284605</td>\n",
       "    </tr>\n",
       "    <tr>\n",
       "      <th>LKQ.OQ</th>\n",
       "      <td>0.166144</td>\n",
       "      <td>0.368448</td>\n",
       "      <td>1.000000</td>\n",
       "      <td>0.255986</td>\n",
       "      <td>0.420941</td>\n",
       "      <td>0.269213</td>\n",
       "    </tr>\n",
       "    <tr>\n",
       "      <th>MKTX.OQ</th>\n",
       "      <td>0.119771</td>\n",
       "      <td>0.455833</td>\n",
       "      <td>0.255986</td>\n",
       "      <td>1.000000</td>\n",
       "      <td>0.089876</td>\n",
       "      <td>0.168684</td>\n",
       "    </tr>\n",
       "    <tr>\n",
       "      <th>TXT.N</th>\n",
       "      <td>0.212263</td>\n",
       "      <td>0.372479</td>\n",
       "      <td>0.420941</td>\n",
       "      <td>0.089876</td>\n",
       "      <td>1.000000</td>\n",
       "      <td>0.262360</td>\n",
       "    </tr>\n",
       "    <tr>\n",
       "      <th>VRSK.OQ</th>\n",
       "      <td>-0.018239</td>\n",
       "      <td>0.284605</td>\n",
       "      <td>0.269213</td>\n",
       "      <td>0.168684</td>\n",
       "      <td>0.262360</td>\n",
       "      <td>1.000000</td>\n",
       "    </tr>\n",
       "  </tbody>\n",
       "</table>\n",
       "</div>"
      ],
      "text/plain": [
       "                                1 Month Total Return                      \\\n",
       "Instrument                                   BIIB.OQ     BIO.N    LKQ.OQ   \n",
       "                     Instrument                                            \n",
       "1 Month Total Return BIIB.OQ                1.000000  0.180396  0.166144   \n",
       "                     BIO.N                  0.180396  1.000000  0.368448   \n",
       "                     LKQ.OQ                 0.166144  0.368448  1.000000   \n",
       "                     MKTX.OQ                0.119771  0.455833  0.255986   \n",
       "                     TXT.N                  0.212263  0.372479  0.420941   \n",
       "                     VRSK.OQ               -0.018239  0.284605  0.269213   \n",
       "\n",
       "                                                               \n",
       "Instrument                        MKTX.OQ     TXT.N   VRSK.OQ  \n",
       "                     Instrument                                \n",
       "1 Month Total Return BIIB.OQ     0.119771  0.212263 -0.018239  \n",
       "                     BIO.N       0.455833  0.372479  0.284605  \n",
       "                     LKQ.OQ      0.255986  0.420941  0.269213  \n",
       "                     MKTX.OQ     1.000000  0.089876  0.168684  \n",
       "                     TXT.N       0.089876  1.000000  0.262360  \n",
       "                     VRSK.OQ     0.168684  0.262360  1.000000  "
      ]
     },
     "execution_count": 11,
     "metadata": {},
     "output_type": "execute_result"
    }
   ],
   "source": [
    "# Si calcola la matrice di correlazione\n",
    "corr_matrix = unstacked_data.corr()\n",
    "corr_matrix"
   ]
  },
  {
   "cell_type": "code",
   "execution_count": 12,
   "metadata": {},
   "outputs": [
    {
     "data": {
      "text/plain": [
       "0.24058389134021438"
      ]
     },
     "execution_count": 12,
     "metadata": {},
     "output_type": "execute_result"
    }
   ],
   "source": [
    "# Media delle correlazioni off-diagonal nella matrice di correlazione\n",
    "rho = (corr_matrix.values.sum()-V.shape[0])/(V.shape[0]*(V.shape[0]-1)) # correlazione media tra gli strumenti \n",
    "rho"
   ]
  },
  {
   "cell_type": "code",
   "execution_count": 13,
   "metadata": {},
   "outputs": [
    {
     "name": "stdout",
     "output_type": "stream",
     "text": [
      "[[0.09634193 0.         0.         0.         0.         0.        ]\n",
      " [0.         0.07832349 0.         0.         0.         0.        ]\n",
      " [0.         0.         0.0790329  0.         0.         0.        ]\n",
      " [0.         0.         0.         0.09131011 0.         0.        ]\n",
      " [0.         0.         0.         0.         0.09168499 0.        ]\n",
      " [0.         0.         0.         0.         0.         0.0571517 ]]\n"
     ]
    }
   ],
   "source": [
    "diag_v = np.sqrt(np.diag(V)) # Calcolo deviazione standard\n",
    "\n",
    "inv_D = np.zeros((len(diag_v), len(diag_v))) # Crea una matrice di zeri con la stessa dimensione della diagonale di V\n",
    "np.fill_diagonal(inv_D, diag_v) # Si riempie la diagonale della matrice con i valori delle deviazioni standard \n",
    "\n",
    "print(inv_D)"
   ]
  },
  {
   "cell_type": "code",
   "execution_count": 14,
   "metadata": {},
   "outputs": [
    {
     "name": "stdout",
     "output_type": "stream",
     "text": [
      "[[1.         0.24058389 0.24058389 0.24058389 0.24058389 0.24058389]\n",
      " [0.24058389 1.         0.24058389 0.24058389 0.24058389 0.24058389]\n",
      " [0.24058389 0.24058389 1.         0.24058389 0.24058389 0.24058389]\n",
      " [0.24058389 0.24058389 0.24058389 1.         0.24058389 0.24058389]\n",
      " [0.24058389 0.24058389 0.24058389 0.24058389 1.         0.24058389]\n",
      " [0.24058389 0.24058389 0.24058389 0.24058389 0.24058389 1.        ]]\n"
     ]
    }
   ],
   "source": [
    "ones = [1,1,1,1,1,1] # Vettore di uni\n",
    "theta_cc = np.full((6,6), rho) # Si crea una matrice 6x6 in cui ogni elemento è impostato al valore di rho\n",
    "np.fill_diagonal(theta_cc, ones) # Si impostano gli elementi sulla diagonale con uni\n",
    "print(theta_cc)"
   ]
  },
  {
   "cell_type": "code",
   "execution_count": 15,
   "metadata": {},
   "outputs": [],
   "source": [
    "V_cc = inv_D @ theta_cc @ inv_D # Matrice di covarianza calcolata moltiplicando la matrice di correlazione per le deviazioni standard degli strumenti due volte"
   ]
  },
  {
   "cell_type": "code",
   "execution_count": 16,
   "metadata": {},
   "outputs": [
    {
     "data": {
      "text/html": [
       "<div>\n",
       "<style scoped>\n",
       "    .dataframe tbody tr th:only-of-type {\n",
       "        vertical-align: middle;\n",
       "    }\n",
       "\n",
       "    .dataframe tbody tr th {\n",
       "        vertical-align: top;\n",
       "    }\n",
       "\n",
       "    .dataframe thead tr th {\n",
       "        text-align: left;\n",
       "    }\n",
       "\n",
       "    .dataframe thead tr:last-of-type th {\n",
       "        text-align: right;\n",
       "    }\n",
       "</style>\n",
       "<table border=\"1\" class=\"dataframe\">\n",
       "  <thead>\n",
       "    <tr>\n",
       "      <th></th>\n",
       "      <th></th>\n",
       "      <th colspan=\"6\" halign=\"left\">1 Month Total Return</th>\n",
       "    </tr>\n",
       "    <tr>\n",
       "      <th></th>\n",
       "      <th>Instrument</th>\n",
       "      <th>BIIB.OQ</th>\n",
       "      <th>BIO.N</th>\n",
       "      <th>LKQ.OQ</th>\n",
       "      <th>MKTX.OQ</th>\n",
       "      <th>TXT.N</th>\n",
       "      <th>VRSK.OQ</th>\n",
       "    </tr>\n",
       "    <tr>\n",
       "      <th></th>\n",
       "      <th>Instrument</th>\n",
       "      <th></th>\n",
       "      <th></th>\n",
       "      <th></th>\n",
       "      <th></th>\n",
       "      <th></th>\n",
       "      <th></th>\n",
       "    </tr>\n",
       "  </thead>\n",
       "  <tbody>\n",
       "    <tr>\n",
       "      <th rowspan=\"6\" valign=\"top\">1 Month Total Return</th>\n",
       "      <th>BIIB.OQ</th>\n",
       "      <td>0.009282</td>\n",
       "      <td>0.001497</td>\n",
       "      <td>0.001435</td>\n",
       "      <td>0.001372</td>\n",
       "      <td>0.001950</td>\n",
       "      <td>0.000327</td>\n",
       "    </tr>\n",
       "    <tr>\n",
       "      <th>BIO.N</th>\n",
       "      <td>0.001497</td>\n",
       "      <td>0.006135</td>\n",
       "      <td>0.002043</td>\n",
       "      <td>0.002798</td>\n",
       "      <td>0.002391</td>\n",
       "      <td>0.001215</td>\n",
       "    </tr>\n",
       "    <tr>\n",
       "      <th>LKQ.OQ</th>\n",
       "      <td>0.001435</td>\n",
       "      <td>0.002043</td>\n",
       "      <td>0.006246</td>\n",
       "      <td>0.001814</td>\n",
       "      <td>0.002658</td>\n",
       "      <td>0.001177</td>\n",
       "    </tr>\n",
       "    <tr>\n",
       "      <th>MKTX.OQ</th>\n",
       "      <td>0.001372</td>\n",
       "      <td>0.002798</td>\n",
       "      <td>0.001814</td>\n",
       "      <td>0.008338</td>\n",
       "      <td>0.001131</td>\n",
       "      <td>0.000993</td>\n",
       "    </tr>\n",
       "    <tr>\n",
       "      <th>TXT.N</th>\n",
       "      <td>0.001950</td>\n",
       "      <td>0.002391</td>\n",
       "      <td>0.002658</td>\n",
       "      <td>0.001131</td>\n",
       "      <td>0.008406</td>\n",
       "      <td>0.001341</td>\n",
       "    </tr>\n",
       "    <tr>\n",
       "      <th>VRSK.OQ</th>\n",
       "      <td>0.000327</td>\n",
       "      <td>0.001215</td>\n",
       "      <td>0.001177</td>\n",
       "      <td>0.000993</td>\n",
       "      <td>0.001341</td>\n",
       "      <td>0.003266</td>\n",
       "    </tr>\n",
       "  </tbody>\n",
       "</table>\n",
       "</div>"
      ],
      "text/plain": [
       "                                1 Month Total Return                      \\\n",
       "Instrument                                   BIIB.OQ     BIO.N    LKQ.OQ   \n",
       "                     Instrument                                            \n",
       "1 Month Total Return BIIB.OQ                0.009282  0.001497  0.001435   \n",
       "                     BIO.N                  0.001497  0.006135  0.002043   \n",
       "                     LKQ.OQ                 0.001435  0.002043  0.006246   \n",
       "                     MKTX.OQ                0.001372  0.002798  0.001814   \n",
       "                     TXT.N                  0.001950  0.002391  0.002658   \n",
       "                     VRSK.OQ                0.000327  0.001215  0.001177   \n",
       "\n",
       "                                                               \n",
       "Instrument                        MKTX.OQ     TXT.N   VRSK.OQ  \n",
       "                     Instrument                                \n",
       "1 Month Total Return BIIB.OQ     0.001372  0.001950  0.000327  \n",
       "                     BIO.N       0.002798  0.002391  0.001215  \n",
       "                     LKQ.OQ      0.001814  0.002658  0.001177  \n",
       "                     MKTX.OQ     0.008338  0.001131  0.000993  \n",
       "                     TXT.N       0.001131  0.008406  0.001341  \n",
       "                     VRSK.OQ     0.000993  0.001341  0.003266  "
      ]
     },
     "execution_count": 16,
     "metadata": {},
     "output_type": "execute_result"
    }
   ],
   "source": [
    "k = 0.3\n",
    "V_scc = k * V_cc + (1 - k) * V #  Matrice di covarianza combinata\n",
    "V_scc"
   ]
  },
  {
   "cell_type": "markdown",
   "metadata": {},
   "source": [
    "#### 2.3"
   ]
  },
  {
   "cell_type": "code",
   "execution_count": 17,
   "metadata": {},
   "outputs": [
    {
     "data": {
      "text/plain": [
       "Instrument\n",
       "BIIB.OQ    0.009515\n",
       "BIO.N      0.007945\n",
       "LKQ.OQ     0.012005\n",
       "MKTX.OQ    0.017870\n",
       "TXT.N      0.011000\n",
       "VRSK.OQ    0.014656\n",
       "dtype: float64"
      ]
     },
     "execution_count": 17,
     "metadata": {},
     "output_type": "execute_result"
    }
   ],
   "source": [
    "λ = 0.01\n",
    "N = returns.shape[0]\n",
    "t = np.arange(1, N + 1)\n",
    "\n",
    "weights = np.exp(-λ * (N - t)) # Calcolo deii pesi esponenziali per ciascuna osservazione\n",
    "\n",
    "weighted_returns_sum = (returns * weights[:, None]).sum() # Somma ponderata dei rendimenti\n",
    "weights_sum = weights.sum() #  Somma totale dei pesi esponenziali\n",
    "\n",
    "er_exp = weighted_returns_sum / weights_sum # Rendimenti attesi esponenzialmente ponderati\n",
    "er_exp"
   ]
  },
  {
   "cell_type": "markdown",
   "metadata": {},
   "source": [
    "-----"
   ]
  },
  {
   "cell_type": "markdown",
   "metadata": {},
   "source": [
    "### 3. Plot the efficient portfolio frontier (in the standard deviation-mean space) with a risk-free asset (with annual return Rf=0.02). Comment on the obtained tangent portfolio (or risky asset portfolio)."
   ]
  },
  {
   "cell_type": "code",
   "execution_count": 18,
   "metadata": {},
   "outputs": [],
   "source": [
    "rf_mensile = 0.02/12"
   ]
  },
  {
   "cell_type": "code",
   "execution_count": 19,
   "metadata": {},
   "outputs": [],
   "source": [
    "# Markovitz\n",
    "number_stocks = 6\n",
    "Uno = pd.DataFrame({'A': np.ones(number_stocks)}) #DataFrame che contiene una sola colonna di uni, vettore di uni\n",
    "\n",
    "# Calcolo dei diversi parametri chiave (A, B, C, D, g, h) usati nella formulazione di Markowitz\n",
    "er_np = er.to_numpy()\n",
    "A = Uno.T.to_numpy().dot(np.linalg.inv(V)).dot(er_np)\n",
    "B = er.T.to_numpy().dot(np.linalg.inv(V)).dot(er_np)\n",
    "C = Uno.T.to_numpy().dot(np.linalg.inv(V)).dot(Uno.to_numpy())\n",
    "D = B*C-A**2\n",
    "IV1 = np.linalg.inv(V).dot(Uno.to_numpy()) # Prodotto della matrice di covarianza inversa e il vettore di uno\n",
    "IVE = np.linalg.inv(V).dot(er_np) # Prodotto della matrice di covarianza inversa e il vettore dei rendimenti attes\n",
    "g = (B*IV1-A*IVE)/D\n",
    "h = (C*IVE-A*IV1)/D\n"
   ]
  },
  {
   "cell_type": "markdown",
   "metadata": {},
   "source": [
    "#### FP: N Risky Asset"
   ]
  },
  {
   "cell_type": "code",
   "execution_count": 20,
   "metadata": {},
   "outputs": [
    {
     "data": {
      "image/png": "[encoded data removed]",
      "text/plain": [
       "<Figure size 640x480 with 1 Axes>"
      ]
     },
     "metadata": {},
     "output_type": "display_data"
    }
   ],
   "source": [
    "w_MVP = IV1/C # Calcolo dei pesi del portafoglio\n",
    "er_min = A/C # Rendimento atteso del Minimum Variance Portfolio\n",
    "\n",
    "\n",
    "m = np.linspace(A/C, 0.1, 150) # Vettore di 50 punti equidistanti che vanno dal rendimento atteso del MVP (A/C) a 0.1\n",
    "Var_w = (C / D) * ((m - A/C)) ** 2 + 1/C # Calcolo della varianza del portafoglio per ogni valore di rendimento atteso\n",
    "Var_w = Var_w.flatten()\n",
    "m = m.flatten()\n",
    "\n",
    "# Rappresentazione grafica della parte efficiente della frontiera del portafoglio\n",
    "plt.figure()\n",
    "plt.plot(np.sqrt(Var_w), m)\n",
    "plt.xlabel('Standard Deviation')\n",
    "plt.ylabel('Expected Return')\n",
    "plt.title('Efficient Frontier Risky Assets')\n",
    "plt.grid(True)\n",
    "plt.show()\n"
   ]
  },
  {
   "cell_type": "markdown",
   "metadata": {},
   "source": [
    "#### FP*: N Risky Asset + RF"
   ]
  },
  {
   "cell_type": "code",
   "execution_count": 21,
   "metadata": {},
   "outputs": [
    {
     "data": {
      "image/png": "[encoded data removed]",
      "text/plain": [
       "<Figure size 640x480 with 1 Axes>"
      ]
     },
     "metadata": {},
     "output_type": "display_data"
    }
   ],
   "source": [
    "H = B-2 * A * rf_mensile + C * (rf_mensile)**2 # Calcolo di H che descrive la relazione tra il rendimento atteso e la varianza di un portafoglio che include un asset senza rischio\n",
    "\n",
    "mr = np.linspace(rf_mensile, 0.1, 150) # Vettore di 50 punti equidistanti che vanno dal rendimento atteso del MVP (A/C) a 0.1\n",
    "var_rf = ((mr-rf_mensile)**2)/H # Calcolo della varianza del portafoglio per ogni valore di rendimento atteso in mr quando è incluso un asset senza rischio\n",
    "\n",
    "var_rf = var_rf.flatten()\n",
    "mr = mr.flatten()\n",
    "\n",
    "# Grafico della frontiera efficiente che include l'asset senza rischio\n",
    "plt.figure()\n",
    "plt.plot(np.sqrt(var_rf), mr)\n",
    "plt.xlabel('Standard Deviation')\n",
    "plt.ylabel('Expected Return')\n",
    "plt.title('Efficient Frontier Risk Free Assets')\n",
    "plt.grid(True)\n",
    "plt.show()"
   ]
  },
  {
   "cell_type": "code",
   "execution_count": 22,
   "metadata": {},
   "outputs": [],
   "source": [
    "# Calcolo dei pesi del portafoglio tangenziale\n",
    "step1 = er_np-rf_mensile * Uno # Calcolo del rendimento in eccesso per ogni azione\n",
    "step2 = Uno.T.to_numpy().dot(np.linalg.inv(V)) # Calcolo del prodotto del vettore di uni trasposto e la matrice di covarianza inversa\n",
    "step3 = step2.dot(step1) # Normalizzazione dei pesi del portafoglio tangenziale\n",
    "step4 = step1/step3 # Normalizzazione del vettore di rendimenti in eccesso in modo che la loro somma ponderata sia uguale a 1"
   ]
  },
  {
   "cell_type": "code",
   "execution_count": 23,
   "metadata": {},
   "outputs": [
    {
     "data": {
      "text/plain": [
       "array([[ 0.18232841],\n",
       "       [-0.19415011],\n",
       "       [ 0.09353203],\n",
       "       [ 0.36051183],\n",
       "       [ 0.03187048],\n",
       "       [ 0.52590736]])"
      ]
     },
     "execution_count": 23,
     "metadata": {},
     "output_type": "execute_result"
    }
   ],
   "source": [
    "w_tan = np.linalg.inv(V).dot(step4) # Calcolo dei pesi del portafoglio tangenziale moltiplicando la matrice di covarianza inversa per il vettore normalizzato di rendimenti in eccesso\n",
    "w_tan"
   ]
  },
  {
   "cell_type": "code",
   "execution_count": 24,
   "metadata": {},
   "outputs": [],
   "source": [
    "std_w_tan = np.sqrt(w_tan.T.dot(V).dot(w_tan)) # Calcolo della deviazione standard, volatilità, del portafoglio tangenziale\n",
    "er_w_tan = w_tan.T.dot(er_np) # Calcolo del rendimento atteso del portafoglio tangenziale"
   ]
  },
  {
   "cell_type": "code",
   "execution_count": 25,
   "metadata": {},
   "outputs": [
    {
     "data": {
      "text/plain": [
       "array([[0.0500492]])"
      ]
     },
     "execution_count": 25,
     "metadata": {},
     "output_type": "execute_result"
    }
   ],
   "source": [
    "std_w_tan"
   ]
  },
  {
   "cell_type": "code",
   "execution_count": 26,
   "metadata": {},
   "outputs": [
    {
     "data": {
      "text/plain": [
       "array([[0.019335]])"
      ]
     },
     "execution_count": 26,
     "metadata": {},
     "output_type": "execute_result"
    }
   ],
   "source": [
    "er_w_tan"
   ]
  },
  {
   "cell_type": "code",
   "execution_count": 27,
   "metadata": {},
   "outputs": [
    {
     "data": {
      "image/png": "[encoded data removed]",
      "text/plain": [
       "<Figure size 640x480 with 1 Axes>"
      ]
     },
     "metadata": {},
     "output_type": "display_data"
    }
   ],
   "source": [
    "# Rappresentazione grafica dell'intera frontiera efficiente \n",
    "plt.figure()\n",
    "\n",
    "plt.plot(np.sqrt(Var_w), m, label='Risky Assets') # Frontiera efficiente per gli asset rischiosi\n",
    "plt.plot(np.sqrt(var_rf), mr, label='Risk-Free Assets') # Frontiera efficiente per gli asset senza rischio\n",
    "plt.scatter(std_w_tan, er_w_tan, color='red', label='Tangent Portfolio', s=100) # Punto che rappresenta il portafoglio tangenziale\n",
    "\n",
    "plt.xlabel('Standard Deviation')\n",
    "plt.ylabel('Expected Return')\n",
    "\n",
    "plt.title('Efficient Frontier')\n",
    "plt.legend()\n",
    "\n",
    "plt.xlim(0.02, 0.15)\n",
    "plt.ylim(0.01, 0.04)\n",
    "\n",
    "plt.grid(True)\n",
    "plt.show()\n"
   ]
  },
  {
   "cell_type": "markdown",
   "metadata": {},
   "source": [
    "---"
   ]
  },
  {
   "cell_type": "markdown",
   "metadata": {},
   "source": [
    "### 4. Compute and plot the efficient portfolio frontier with the same risk-free asset but imposing a no short-selling constraint. Comment on the differences on the portfolio with 0.5% monthly expected return with and without the short-selling constraint."
   ]
  },
  {
   "cell_type": "markdown",
   "metadata": {},
   "source": [
    "#### Linear Optimizer N risky assets"
   ]
  },
  {
   "cell_type": "code",
   "execution_count": 28,
   "metadata": {},
   "outputs": [],
   "source": [
    "w_MVP = w_MVP.flatten().tolist()\n"
   ]
  },
  {
   "cell_type": "code",
   "execution_count": 29,
   "metadata": {},
   "outputs": [
    {
     "data": {
      "image/png": "[encoded data removed]",
      "text/plain": [
       "<Figure size 640x480 with 1 Axes>"
      ]
     },
     "metadata": {},
     "output_type": "display_data"
    }
   ],
   "source": [
    "ones_row = np.ones((1, er.values.shape[0])) # Vettore di uni con la stessa lunghezza del numero di asset nel portafoglio\n",
    "Aeq = np.vstack((er.values.T, ones_row))\n",
    "\n",
    "# Calcolo della varianza del portafoglio per un dato vettore di pesi w e una matrice di covarianza Sigma. \n",
    "# L'obiettivo è minimizzare questa varianza.\n",
    "def objective(w, Sigma):\n",
    "    return w @ Sigma @ w\n",
    "\n",
    "var_w_num_list=[]\n",
    "\n",
    "\n",
    "for target_return in m: # m contiene i diversi rendimenti attesi target per i quali si desidera ottimizzare i pesi del portafoglio\n",
    "    beq = np.array([target_return]) # Definisce il rendimento atteso target per l'attuale iterazione del ciclo\n",
    "    \n",
    "    # Vincoli di uguaglianza\n",
    "    constraints = [\n",
    "        {'type': 'eq', 'fun': lambda w: w @ er - beq},  # Vincolo che assicura il rendimento atteso del portafoglio, calcolato come prodotto scalare dei pesi del portafoglio e il vettore dei rendimenti attesi, sia uguale al rendimento atteso target\n",
    "        {'type': 'eq', 'fun': lambda w: np.sum(w) - 1},   # Vincolo che garantisce che la somma dei pesi del portafoglio w sia uguale a 1\n",
    "    ]\n",
    "    \n",
    "    # Impostazione dei pesi del MVP come il punto di partenza, guess iniziale, per l'ottimizzazione\n",
    "    w0 = w_MVP\n",
    "    \n",
    "    # Ottimizzazione dei pesi del portafoglio utilizzando il metodo Sequential Least SQuares Programming (SLSQP)\n",
    "    result = minimize(fun=objective, x0=w0, args=(V,), method='SLSQP', constraints=constraints)\n",
    "    \n",
    "    # Dopo aver eseguito l'ottimizzazione si controlla che sia stata completata con successo\n",
    "    if not result.success:\n",
    "        raise ValueError(result.message)\n",
    "    \n",
    "    ww = result.x # Estrarre i pesi ottimizzati del portafoglio dal risultato dell'ottimizzazione\n",
    "    \n",
    "    var_w_num = ww @ V @ ww # Calcolo della varianza del portafoglio utilizzando i pesi ottimizzati e la matrice di covarianza\n",
    "    \n",
    "    # print(f\"Target return: {target_return}, Variance: {var_w_num}\")\n",
    "    var_w_num_list.append(var_w_num)\n",
    "\n",
    "\n",
    "# Conversione dei risultati in array NumPy per la rappresentazione grafica\n",
    "var_w_num_array = np.array(var_w_num_list)\n",
    "m_array = np.array(m)\n",
    "\n",
    "# Grafica\n",
    "plt.plot(np.sqrt(var_w_num_array), m_array, 'o') # Calcolo della deviazione standard del portafoglio per ciascun rendimento target\n",
    "plt.xlabel('Standard Deviation of Portfolio Return')\n",
    "plt.ylabel('Expected Return of Portfolio')\n",
    "plt.title('Efficient Frontier')\n",
    "plt.show()\n"
   ]
  },
  {
   "cell_type": "code",
   "execution_count": 30,
   "metadata": {},
   "outputs": [
    {
     "data": {
      "image/png": "[encoded data removed]",
      "text/plain": [
       "<Figure size 640x480 with 1 Axes>"
      ]
     },
     "metadata": {},
     "output_type": "display_data"
    }
   ],
   "source": [
    "# Grafico della frontiera efficiente e l'ottinizzatore\n",
    "plt.figure()\n",
    "\n",
    "plt.plot(np.sqrt(Var_w), m, label='Risky Assets') # Frontiera efficiente per gli asset rischiosi\n",
    "plt.plot(np.sqrt(var_w_num_array), m_array, 'o', alpha=0.2, label='Linear Optimizer Risky Assets') #Ffrontiera efficiente ottenuta tramite l'ottimizzazione lineare\n",
    "\n",
    "plt.xlabel('Standard Deviation')\n",
    "plt.ylabel('Expected Return')\n",
    "plt.title('Efficient Frontier')\n",
    "\n",
    "plt.legend()\n",
    "plt.grid(True)\n",
    "plt.show()\n"
   ]
  },
  {
   "cell_type": "markdown",
   "metadata": {},
   "source": [
    "#### Linear Optimizer Risk Free"
   ]
  },
  {
   "cell_type": "code",
   "execution_count": 31,
   "metadata": {},
   "outputs": [],
   "source": [
    "Aeq = np.vstack((er.values.T-rf_mensile)) # Calcolo del rendimento in eccesso sottraendo il tasso di rendimento senza rischio\n",
    "\n",
    "# Calcolo della varianza del portafoglio per un dato vettore di pesi w e una matrice di covarianza Sigma. \n",
    "# L'obiettivo è minimizzare questa varianza.\n",
    "def objective(w, Sigma):\n",
    "    return w @ Sigma @ w\n",
    "\n",
    "var_w_num_list=[]\n",
    "\n",
    "\n",
    "for target_return in mr: # mr contiene i diversi rendimenti attesi target (dopo aver sottratto il rendimento senza rischio) per i quali si desidera ottimizzare i pesi del portafoglio\n",
    "    beq = np.array([target_return-rf_mensile])  # Definisce il rendimento atteso target per l'attuale iterazione del ciclo\n",
    "    \n",
    "    constraints = [\n",
    "        {'type': 'eq', 'fun': lambda w: w @ (er-rf_mensile) - beq},  # Calcola il rendimento atteso del portafoglio aggiustato per il rendimento senza rischio\n",
    "    ]\n",
    "    \n",
    "\n",
    "    # Impostazione dei pesi del MVP come il punto di partenza, guess iniziale, per l'ottimizzazione\n",
    "    w0 = w_MVP\n",
    "    \n",
    "    # Ottimizzazione dei pesi del portafoglio utilizzando il metodo Sequential Least SQuares Programming (SLSQP)\n",
    "    result = minimize(fun=objective, x0=w0, args=(V,), method='SLSQP', constraints=constraints)\n",
    "    \n",
    "    # Dopo aver eseguito l'ottimizzazione si controlla che sia stata completata con successo\n",
    "    if not result.success:\n",
    "        raise ValueError(result.message)\n",
    "    \n",
    "    \n",
    "    ww = result.x # Estrarre i pesi ottimizzati del portafoglio dal risultato dell'ottimizzazione\n",
    "    \n",
    "    \n",
    "    var_w_num = ww @ V @ ww # Calcolo della varianza del portafoglio utilizzando i pesi ottimizzati e la matrice di covarianza\n",
    "    \n",
    "    # print(f\"Target return: {target_return}, Variance: {var_w_num}\")\n",
    "    var_w_num_list.append(var_w_num)\n",
    "\n",
    "# Conversione dei risultati in array NumPy per la rappresentazione grafica\n",
    "var_w_num_array = np.array(var_w_num_list)\n",
    "m_array = np.array(mr)"
   ]
  },
  {
   "cell_type": "markdown",
   "metadata": {},
   "source": [
    "##### Linear optimizer risk free 1st Constraint"
   ]
  },
  {
   "cell_type": "code",
   "execution_count": 32,
   "metadata": {},
   "outputs": [],
   "source": [
    "Aeq = np.vstack((er.values.T-rf_mensile)) # Calcolo del rendimento in eccesso sottraendo il tasso di rendimento senza rischio\n",
    "\n",
    "# Calcolo della varianza del portafoglio per un dato vettore di pesi w e una matrice di covarianza Sigma. \n",
    "# L'obiettivo è minimizzare questa varianza.\n",
    "def objective(w, Sigma):\n",
    "    return w @ Sigma @ w\n",
    "\n",
    "var_w_num_list=[]\n",
    "\n",
    "\n",
    "for target_return in mr: # mr contiene i diversi rendimenti attesi target (dopo aver sottratto il rendimento senza rischio) per i quali si desidera ottimizzare i pesi del portafoglio\n",
    "    beq = np.array([target_return-rf_mensile]) # Definisce il rendimento atteso target per l'attuale iterazione del ciclo\n",
    "    \n",
    "    \n",
    "    constraints = [\n",
    "        {'type': 'eq', 'fun': lambda w: w @ (er-rf_mensile) - beq},  # Expected return constraint\n",
    "        {'type': 'eq', 'fun': lambda w: w[0] + w[1] - 0.5}  # First two weights sum to 50%\n",
    "    ]\n",
    "    \n",
    "    # Impostazione dei pesi del MVP come il punto di partenza, guess iniziale, per l'ottimizzazione\n",
    "    w0 = w_MVP\n",
    "    \n",
    "    # Ottimizzazione dei pesi del portafoglio utilizzando il metodo Sequential Least SQuares Programming (SLSQP)\n",
    "    result = minimize(fun=objective, x0=w0, args=(V,), method='SLSQP', constraints=constraints)\n",
    "    \n",
    "    \n",
    "    # Dopo aver eseguito l'ottimizzazione si controlla che sia stata completata con successo\n",
    "    if not result.success:\n",
    "        raise ValueError(result.message)\n",
    "    \n",
    "    \n",
    "    ww = result.x # Estrarre i pesi ottimizzati del portafoglio dal risultato dell'ottimizzazione\n",
    "    \n",
    "    \n",
    "    var_w_num = ww @ V @ ww # Calcolo della varianza del portafoglio utilizzando i pesi ottimizzati e la matrice di covarianza\n",
    "    \n",
    "    # print(f\"Target return: {target_return}, Variance: {var_w_num}\")\n",
    "    var_w_num_list.append(var_w_num)\n",
    "\n",
    "# Conversione dei risultati in array NumPy per la rappresentazione grafica\n",
    "var_w_num_array = np.array(var_w_num_list)\n",
    "m_array = np.array(mr)\n",
    "\n"
   ]
  },
  {
   "cell_type": "markdown",
   "metadata": {},
   "source": [
    "##### Linear optimizer risk free 2nd Constraint"
   ]
  },
  {
   "cell_type": "code",
   "execution_count": 33,
   "metadata": {},
   "outputs": [],
   "source": [
    "# Calcolo della varianza del portafoglio per un dato vettore di pesi w e una matrice di covarianza Sigma. \n",
    "# L'obiettivo è minimizzare questa varianza.\n",
    "def objective(w, V):\n",
    "    return w.T @ V @ w\n",
    "\n",
    "warnings.filterwarnings('ignore')\n",
    "\n",
    "var_w_num_list = []\n",
    "# Array utilizzate per memorizzare i risultati delle ottimizzazioni riuscite\n",
    "successful_m = [] \n",
    "successful_weights = []\n",
    "# Array utilizzate per memorizzare i risultati delle ottimizzazioni falite\n",
    "failed_m = []  \n",
    "failed_details = [] \n",
    "\n",
    "\n",
    "lower_bound = 0.10 # Variabile utilizzata per stabilire un limite inferiore, del 10%, per il peso di ogni titolo nel portafoglio (ogni titolo può essere 10% o più)\n",
    "\n",
    "bounds = [(lower_bound, None) for _ in range(number_stocks)] # Crea una lista di tuple che definiscono i limiti (inferiore e superiore) per i pesi di ciascun titolo\n",
    "\n",
    "options = {'maxiter': 1000, 'disp': False}\n",
    "\n",
    "for target_return in mr:\n",
    "    \n",
    "    constraints = [\n",
    "        {'type': 'eq', 'fun': lambda w: w @ (er-rf_mensile) -  np.array([target_return-rf_mensile])}, # Assicura che il rendimento atteso del portafoglio, dopo aver sottratto il rendimento senza rischio, sia esattamente uguale al rendimento target desiderato\n",
    "        # Questo vincolo è di tipo 'ineq', che sta per disuguaglianza (10% o più)\n",
    "        {'type': 'ineq', 'fun': lambda w: w - lower_bound} #  Assicura che ciascun asset nel portafoglio deve avere un peso di almeno il 10%\n",
    "    ]\n",
    "\n",
    "    # Punto di partenza per l'ottimizzazione, basato sui pesi del portafoglio di minima varianza\n",
    "    w0 = w_MVP\n",
    "\n",
    "    # Ottimizzazione dei pesi del portafoglio utilizzando il metodo Sequential Least SQuares Programming (SLSQP)\n",
    "    result = minimize(fun=objective, x0=w0, args=(V,), method='SLSQP', constraints=constraints, bounds=bounds, options=options)\n",
    "    \n",
    "    # Dopo aver eseguito l'ottimizzazione si controlla che sia stata completata con successo, o si vede se falisce\n",
    "    if result.success:\n",
    "        ww = result.x\n",
    "        var_w_num = ww.T @ V @ ww\n",
    "        var_w_num_list.append(var_w_num)\n",
    "        successful_m.append(target_return)\n",
    "        successful_weights.append(ww) \n",
    "    else:\n",
    "        # print(f\"Optimization failed for target return {target_return}: {result.message}\")\n",
    "        failed_m.append(target_return)\n",
    "        failed_details.append((target_return, result.x, result.message)) \n",
    "\n",
    "# Conversione dei risultati in array NumPy per la rappresentazione grafica\n",
    "var_w_num_array_2 = np.array(var_w_num_list)\n",
    "successful_m_array_2 = np.array(successful_m)\n"
   ]
  },
  {
   "cell_type": "code",
   "execution_count": 34,
   "metadata": {},
   "outputs": [
    {
     "data": {
      "image/png": "[encoded data removed]",
      "text/plain": [
       "<Figure size 640x480 with 1 Axes>"
      ]
     },
     "metadata": {},
     "output_type": "display_data"
    }
   ],
   "source": [
    "# Grafico della frontiera efficiente risk free assets e i 2 constraints\n",
    "plt.figure()\n",
    "\n",
    "plt.plot(np.sqrt(var_rf), mr, label='Risk-Free Assets')\n",
    "plt.plot(np.sqrt(var_w_num_array), m_array,  label='1st Constraint')\n",
    "plt.plot(np.sqrt(var_w_num_array_2), successful_m_array_2, label='2nd Constraint')\n",
    "plt.axhline(y = 0.05, color = 'b', linestyle = ':', label='Target Return: 0.005') \n",
    "\n",
    "plt.xlabel('Standard Deviation')\n",
    "plt.ylabel('Expected Return')\n",
    "plt.title('Efficient Frontier')\n",
    "\n",
    "plt.xlim(0.10, 0.20)\n",
    "plt.ylim(0.04, 0.06)\n",
    "\n",
    "plt.legend()\n",
    "plt.grid(True)\n",
    "plt.show()\n"
   ]
  },
  {
   "cell_type": "code",
   "execution_count": 35,
   "metadata": {},
   "outputs": [
    {
     "name": "stdout",
     "output_type": "stream",
     "text": [
      "Intersection with Risk-Free Assets: 0.1369141123879904\n",
      "Intersection with 1st constraint: 0.13999451158594073\n",
      "Intersection with 2nd constraint: 0.14338789263976165\n"
     ]
    }
   ],
   "source": [
    "def find_intersection(x_values, y_values, target_y):\n",
    "    for i in range(len(y_values) - 1):\n",
    "        if y_values[i] <= target_y <= y_values[i + 1] or y_values[i] >= target_y >= y_values[i + 1]:\n",
    "            x1, x2 = x_values[i], x_values[i + 1]\n",
    "            y1, y2 = y_values[i], y_values[i + 1]\n",
    "            return x1 + (target_y - y1) * (x2 - x1) / (y2 - y1)\n",
    "    return None\n",
    "\n",
    "target_y = 0.05\n",
    "\n",
    "# Trova i punti di intersezioni\n",
    "σ_FPrf = find_intersection(np.sqrt(var_rf), mr, target_y) # Asset senza rischio\n",
    "σ_1stC = find_intersection(np.sqrt(var_w_num_array), m_array, target_y) # Primo vincolo\n",
    "σ_2ndC = find_intersection(np.sqrt(var_w_num_array_2), successful_m_array_2, target_y) # Secondo vincolo\n",
    "\n",
    "print(\"Intersection with Risk-Free Assets:\", σ_FPrf)\n",
    "print(\"Intersection with 1st constraint:\", σ_1stC)\n",
    "print(\"Intersection with 2nd constraint:\", σ_2ndC)\n"
   ]
  },
  {
   "cell_type": "markdown",
   "metadata": {},
   "source": [
    "---"
   ]
  },
  {
   "cell_type": "markdown",
   "metadata": {},
   "source": [
    "###  5. Estimate CAPM alpha and beta for your stocks, use the returns of the S&P 500 (you should obtain returns from S&P 500 prices) as proxy for the market returns. Comment on the results, which of the stocks has generated alpha in the previous years? Assume Rf=0.02."
   ]
  },
  {
   "cell_type": "code",
   "execution_count": 36,
   "metadata": {},
   "outputs": [],
   "source": [
    "# Si caricano i dati del S&P 500 \n",
    "sp500_data_path = './Data/SPX.csv'\n",
    "sp500_data = pd.read_csv(sp500_data_path)\n",
    "\n",
    "# La colonna 'Date' viene convertita in un formato di data e ora\n",
    "sp500_data['Date'] = pd.to_datetime(sp500_data['Date'])\n",
    "sp500_data.set_index('Date', inplace=True)\n",
    "\n",
    "# Calcolo dei rendimenti percentuali del S&P 500\n",
    "sp500_data['SPX_Returns'] = sp500_data['Price Close'].pct_change()"
   ]
  },
  {
   "cell_type": "code",
   "execution_count": 37,
   "metadata": {},
   "outputs": [],
   "source": [
    "# Si allineano i due set di dati dove solo le date presenti in entrambi i set saranno mantenute\n",
    "aligned_data = unstacked_data['1 Month Total Return'].align(sp500_data['SPX_Returns'], axis=0, join='inner')\n",
    "stock_returns, market_returns = aligned_data[0], aligned_data[1]"
   ]
  },
  {
   "cell_type": "code",
   "execution_count": 38,
   "metadata": {},
   "outputs": [],
   "source": [
    "rp_stock = stock_returns-rf_mensile # Calcolo del rendimento in eccesso delle azioni\n",
    "rp_mkt = market_returns-rf_mensile # Calcolo del rendimento in eccesso del mercato"
   ]
  },
  {
   "cell_type": "code",
   "execution_count": 39,
   "metadata": {},
   "outputs": [
    {
     "name": "stdout",
     "output_type": "stream",
     "text": [
      "Stock: BIIB.OQ\n",
      "Alpha (α): 0.008673342952396254, Beta (β): 0.6134364039378843\n",
      "\n",
      "Stock: BIO.N\n",
      "Alpha (α): -0.00012271887266981452, Beta (β): 1.062425485988645\n",
      "\n",
      "Stock: LKQ.OQ\n",
      "Alpha (α): 0.003253389424089446, Beta (β): 1.1453687422679177\n",
      "\n",
      "Stock: MKTX.OQ\n",
      "Alpha (α): 0.016432727077954325, Beta (β): 0.7803618845544887\n",
      "\n",
      "Stock: TXT.N\n",
      "Alpha (α): -0.002360012697490936, Beta (β): 1.48637150454777\n",
      "\n",
      "Stock: VRSK.OQ\n",
      "Alpha (α): 0.008544731088086097, Beta (β): 0.6239931820251903\n",
      "\n"
     ]
    }
   ],
   "source": [
    "\n",
    "for stock in rp_stock.columns: # Itera attraverso ogni colonna (ogni stock) in rp_stock\n",
    "    # Prepare data for regression\n",
    "    X = sm.add_constant(rp_mkt)  # Aggiunge una colonna di costanti\n",
    "    y = rp_stock[stock]  # Impostazione dei rendimenti in eccesso dell'azione corrente come variabile dipendente\n",
    "\n",
    "    # Si utilizza il metodo dei minimi quadrati ordinari (OLS) per adattare un modello lineare\n",
    "    model = sm.OLS(y, X, missing='drop').fit() \n",
    "    alpha, beta = model.params # Estrae i parametri della regressione dal modello\n",
    "\n",
    "    print(f\"Stock: {stock}\")\n",
    "    print(f\"Alpha (α): {alpha}, Beta (β): {beta}\\n\")\n"
   ]
  },
  {
   "cell_type": "markdown",
   "metadata": {},
   "source": [
    "---"
   ]
  },
  {
   "cell_type": "markdown",
   "metadata": {},
   "source": [
    "### 6. Compute market implicit returns Π in a Black Litterman framework. And compute the market portfolio."
   ]
  },
  {
   "cell_type": "code",
   "execution_count": 40,
   "metadata": {},
   "outputs": [],
   "source": [
    "# Si aggiunge la colonna di 'Company Market Cap'\n",
    "dataframes_market_cap = [pd.read_csv(file, usecols=['Instrument', 'Date', 'Company Market Cap']) for file in file_paths]\n",
    "\n",
    "processed_market_cap_dfs = []\n",
    "for df in dataframes_market_cap:\n",
    "    # Conversione della colonna 'Date' in tipo di dato datetime\n",
    "    df['Date'] = pd.to_datetime(df['Date'])\n",
    "    # Impostazione della data e instrument come un indice multiplo\n",
    "    df.set_index(['Date', 'Instrument'], inplace=True)\n",
    "    processed_market_cap_dfs.append(df)\n",
    "\n",
    "# Unione di tutti i dataframe\n",
    "merged_market_cap_data = pd.concat(processed_market_cap_dfs, axis=0)"
   ]
  },
  {
   "cell_type": "code",
   "execution_count": 41,
   "metadata": {},
   "outputs": [],
   "source": [
    "# Calcolo dell'ultima capitalizzazione di mercato registrata per ciascuno strumento finanziario\n",
    "market_caps = merged_market_cap_data.groupby(level='Instrument')['Company Market Cap'].last()"
   ]
  },
  {
   "cell_type": "code",
   "execution_count": 42,
   "metadata": {},
   "outputs": [
    {
     "name": "stdout",
     "output_type": "stream",
     "text": [
      "\n",
      "Market Implicit Returns (Π):\n",
      "[0.00342307 0.00214873 0.00214073 0.00188716 0.00266465 0.00138894]\n",
      "\n",
      "Market weights:\n",
      "Instrument\n",
      "BIIB.OQ    0.309454\n",
      "BIO.N      0.077661\n",
      "LKQ.OQ     0.105462\n",
      "MKTX.OQ    0.091599\n",
      "TXT.N      0.130053\n",
      "VRSK.OQ    0.285771\n",
      "Name: Company Market Cap, dtype: float64\n"
     ]
    }
   ],
   "source": [
    "# Variabile che definisce il coefficiente di avversione al rischio\n",
    "tau = 1\n",
    "\n",
    "total_market_cap = market_caps.sum() # Calcolo della capitalizzazione di mercato totale sommando le capitalizzazioni di mercato di tutti gli strumenti\n",
    "market_weights = market_caps / total_market_cap # Calcolao dei pesi di mercato per ciascun strumento \n",
    "\n",
    "#  Calcolo dei rendimenti impliciti del mercato\n",
    "Pi = np.dot(tau * V, market_weights)\n",
    "\n",
    "print(\"\\nMarket Implicit Returns (Π):\")\n",
    "print(Pi)\n",
    "\n",
    "print(\"\\nMarket weights:\")\n",
    "print(market_weights)"
   ]
  },
  {
   "cell_type": "code",
   "execution_count": 43,
   "metadata": {},
   "outputs": [
    {
     "data": {
      "text/plain": [
       "array([[0.30945445],\n",
       "       [0.07766069],\n",
       "       [0.10546208],\n",
       "       [0.09159852],\n",
       "       [0.13005339],\n",
       "       [0.28577087]])"
      ]
     },
     "execution_count": 43,
     "metadata": {},
     "output_type": "execute_result"
    }
   ],
   "source": [
    "w_BL = np.linalg.inv(V)@Pi # Pesi ottimali del portafoglio secondo il modello Black-Litterman.\n",
    "w_BL = w_BL.reshape(6,1) # Transformazione del vettore a 6x1\n",
    "w_BL"
   ]
  },
  {
   "cell_type": "markdown",
   "metadata": {},
   "source": [
    "----"
   ]
  },
  {
   "cell_type": "markdown",
   "metadata": {},
   "source": [
    "### 7.\tFormulate at least two Black Litterman views for the returns of the stocks in your portfolio for January 2024 (for formulating the views you can use historical averages, news and or public balance sheet data). Comment on the Black Litterman portfolio obtained when considering your views."
   ]
  },
  {
   "cell_type": "markdown",
   "metadata": {},
   "source": [
    "**BIIB.OQ (Biogen Inc.) - Views**\n",
    "\n",
    "**View 1:**\n",
    "- **Expected Return:** 7%\n",
    "- **Confidence Level:** High (70%)\n",
    "- **Rationale:** Strong results from new Alzheimer's drug trials."
   ]
  },
  {
   "cell_type": "markdown",
   "metadata": {},
   "source": [
    "**MKTX.OQ (MarketAxess) - Views**\n",
    "\n",
    "**View 2:**\n",
    "- **Expected Return:** 1%\n",
    "- **Confidence Level:** Low (30%)\n",
    "- **Rationale:** Regulatory changes potentially impacting operations."
   ]
  },
  {
   "cell_type": "code",
   "execution_count": 44,
   "metadata": {},
   "outputs": [],
   "source": [
    "k = 2 # Numero di viste, views\n",
    "m = number_stocks\n",
    "coef_1 = (1-0.07)/0.07\n",
    "coef_2 = (1-0.03)/0.03\n",
    "\n",
    "# Matrice che definisce le viste \n",
    "P = np.matrix([[1,0,0,0,0,0],\n",
    "               [0,0,0,1,0,0]]) \n",
    "P1 = np.array(P[0])\n",
    "P2 = np.array(P[1])\n",
    "\n",
    "# Vettore che rappresenta i rendimenti attesi associati a ciascuna vista\n",
    "Q = np.matrix([[0.07],\n",
    "               [0.01]])\n"
   ]
  },
  {
   "cell_type": "code",
   "execution_count": 45,
   "metadata": {},
   "outputs": [
    {
     "data": {
      "text/plain": [
       "matrix([[0.12331492, 0.        ],\n",
       "        [0.        , 0.26958036]])"
      ]
     },
     "execution_count": 45,
     "metadata": {},
     "output_type": "execute_result"
    }
   ],
   "source": [
    "# Calcolo della varianza di ciascuna vista\n",
    "Ω_11 = (P1@V).dot(P1.T)*coef_1\n",
    "Ω_22 = (P2@V).dot(P2.T)*coef_2\n",
    "\n",
    "# Calcolo della matrice di incertezza\n",
    "Ω = np.matrix([[Ω_11.iloc[0, 0], 0],[0, Ω_22.iloc[0, 0]]])\n",
    "Ω\n"
   ]
  },
  {
   "cell_type": "code",
   "execution_count": 46,
   "metadata": {},
   "outputs": [],
   "source": [
    "step1 = P.T.dot(np.linalg.inv(Ω)).dot(P)\n",
    "step2 = np.array(P.T.dot(np.linalg.inv(Ω)).dot(Q))\n",
    "\n",
    "Pi_new_1 = (np.linalg.inv(np.linalg.inv(V)+step1)) # Aggiustamento della matrice di covarianza originale, incorporando l'informazione delle viste e della loro incertezza\n",
    "Pi_new_2 = (np.linalg.inv(V)@Pi+step2.flatten()) # Calcola un termine che aggiunge l'effetto delle viste agli originali rendimenti impliciti del mercato\n",
    "\n",
    "Pi_new = np.array(Pi_new_1@Pi_new_2) # Nuovi rendimenti attesi \n",
    "Pi_new = Pi_new.reshape((6, 1)) # Vettore 6x1\n",
    "\n",
    "V_new = Pi_new_1 # Impostazione della nuova matrice di covarianza\n",
    "W_BL_new = np.linalg.inv(V_new)@Pi_new # Calcolo dei nuovi pesi del portafoglio\n",
    "\n"
   ]
  },
  {
   "cell_type": "code",
   "execution_count": 47,
   "metadata": {},
   "outputs": [
    {
     "data": {
      "text/plain": [
       "matrix([[ 8.62858940e-03,  1.25449253e-03,  1.17001659e-03,\n",
       "          9.50503975e-04,  1.74109545e-03, -9.65039894e-05],\n",
       "        [ 1.25449253e-03,  6.08260719e-03,  2.24627163e-03,\n",
       "          3.15179664e-03,  2.64693397e-03,  1.26471352e-03],\n",
       "        [ 1.17001659e-03,  2.24627163e-03,  6.22198399e-03,\n",
       "          1.78220597e-03,  3.02743173e-03,  1.21113261e-03],\n",
       "        [ 9.50503975e-04,  3.15179664e-03,  1.78220597e-03,\n",
       "          8.07953310e-03,  7.15418769e-04,  8.54671279e-04],\n",
       "        [ 1.74109545e-03,  2.64693397e-03,  3.02743173e-03,\n",
       "          7.15418769e-04,  8.37766763e-03,  1.37383540e-03],\n",
       "        [-9.65039894e-05,  1.26471352e-03,  1.21113261e-03,\n",
       "          8.54671279e-04,  1.37383540e-03,  3.26344734e-03]])"
      ]
     },
     "execution_count": 47,
     "metadata": {},
     "output_type": "execute_result"
    }
   ],
   "source": [
    "V_new"
   ]
  },
  {
   "cell_type": "code",
   "execution_count": 48,
   "metadata": {},
   "outputs": [
    {
     "data": {
      "text/plain": [
       "(matrix([[0.87710678],\n",
       "         [0.07766069],\n",
       "         [0.10546208],\n",
       "         [0.12869321],\n",
       "         [0.13005339],\n",
       "         [0.28577087]]),\n",
       " array([[0.30945445],\n",
       "        [0.07766069],\n",
       "        [0.10546208],\n",
       "        [0.09159852],\n",
       "        [0.13005339],\n",
       "        [0.28577087]]))"
      ]
     },
     "execution_count": 48,
     "metadata": {},
     "output_type": "execute_result"
    }
   ],
   "source": [
    "W_BL_new, w_BL"
   ]
  },
  {
   "cell_type": "code",
   "execution_count": 49,
   "metadata": {},
   "outputs": [
    {
     "name": "stdout",
     "output_type": "stream",
     "text": [
      "[[0.09401893]] [[0.02468045]]\n"
     ]
    }
   ],
   "source": [
    "std_W_BL_new = np.sqrt(W_BL_new.T.dot(V_new).dot(W_BL_new)) # Calcolo della deviazione standard, volatilità, del portafoglio W_BL_new\n",
    "er_W_BL_new = W_BL_new.T.dot(er_np) # Calcolo del rendimento atteso del portafoglio W_BL_new\n",
    "print(std_W_BL_new,er_W_BL_new)"
   ]
  }
 ],
 "metadata": {
  "kernelspec": {
   "display_name": "Python 3",
   "language": "python",
   "name": "python3"
  },
  "language_info": {
   "codemirror_mode": {
    "name": "ipython",
    "version": 3
   },
   "file_extension": ".py",
   "mimetype": "text/x-python",
   "name": "python",
   "nbconvert_exporter": "python",
   "pygments_lexer": "ipython3",
   "version": "3.10.13"
  }
 },
 "nbformat": 4,
 "nbformat_minor": 2
}
