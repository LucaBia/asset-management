{
 "cells": [
  {
   "cell_type": "code",
   "execution_count": 2,
   "metadata": {},
   "outputs": [],
   "source": [
    "import pandas as pd\n",
    "import numpy as np"
   ]
  },
  {
   "cell_type": "code",
   "execution_count": 5,
   "metadata": {},
   "outputs": [],
   "source": [
    "biib = pd.read_csv('./Data/BIIB.OQ.csv')\n",
    "bio = pd.read_csv('./Data/BIO.N.csv')\n",
    "lkq = pd.read_csv('./Data/LKQ.OQ.csv')\n",
    "mktx = pd.read_csv('./Data/MKTX.OQ.csv')\n",
    "txt = pd.read_csv('./Data/TXT.N.csv')\n",
    "vrsk = pd.read_csv('./Data/VRSK.OQ.csv')"
   ]
  },
  {
   "cell_type": "code",
   "execution_count": 9,
   "metadata": {},
   "outputs": [
    {
     "data": {
      "text/plain": [
       "Unnamed: 0               0\n",
       "Instrument               0\n",
       "Date                    69\n",
       "1 Month Total Return    69\n",
       "Company Market Cap      69\n",
       "Price Close             69\n",
       "dtype: int64"
      ]
     },
     "execution_count": 9,
     "metadata": {},
     "output_type": "execute_result"
    }
   ],
   "source": [
    "vrsk.isna().sum()"
   ]
  },
  {
   "cell_type": "markdown",
   "metadata": {},
   "source": [
    "Estimate historical mean and variance covariance matrix of the stocks in your dataset\n",
    "with the methods described below. Estimate the variance covariance matrix with a\n",
    "Shrinkage toward Constant Correlation Approach (consider k=0.3). Estimate the vector\n",
    "of averages with an exponential average (lambda=0.01). Comment on the correlations\n",
    "among the stocks observed in your dataset."
   ]
  },
  {
   "cell_type": "code",
   "execution_count": null,
   "metadata": {},
   "outputs": [],
   "source": []
  },
  {
   "cell_type": "markdown",
   "metadata": {},
   "source": [
    "Plot the efficient portfolio frontier (in the standard deviation-mean space) with a risk-\n",
    "free asset (with annual return Rf=0.02). Comment on the obtained tangent portfolio (or\n",
    "risky asset portfolio)."
   ]
  },
  {
   "cell_type": "code",
   "execution_count": null,
   "metadata": {},
   "outputs": [],
   "source": []
  },
  {
   "cell_type": "markdown",
   "metadata": {},
   "source": [
    "Plot the efficient portfolio frontier (in the standard deviation-mean space) with the\n",
    "same risky and risk-free assets but imposing two different constraints:\n",
    "\n",
    "    - the sum of portfolios weights of the first and second stock in your dataset is\n",
    "    equal to 50%.\n",
    "    - the portfolio weights are above 10% for each stocks.\n",
    "\n",
    "Comment on the differences on the frontier portfolio with 0.5% monthly expected\n",
    "return with and without the two constraints (you should consider three different\n",
    "frontiers: no constraint, constraint 1 and constraint 2)."
   ]
  },
  {
   "cell_type": "code",
   "execution_count": null,
   "metadata": {},
   "outputs": [],
   "source": []
  },
  {
   "cell_type": "markdown",
   "metadata": {},
   "source": [
    "Estimate CAPM alpha and beta for your stocks, use the returns of the S&P 500 (you\n",
    "should obtain returns from S&P 500 prices) as proxy for the market returns. Comment\n",
    "on the results, which of the stocks has generated alpha in the previous years? Assume\n",
    "Rf=0.02."
   ]
  },
  {
   "cell_type": "code",
   "execution_count": null,
   "metadata": {},
   "outputs": [],
   "source": []
  },
  {
   "cell_type": "markdown",
   "metadata": {},
   "source": [
    "Compute market implicit return π in a Black Litterman framework and compute the market portfolio (assuming that the market comprises only 6 stocks)"
   ]
  },
  {
   "cell_type": "code",
   "execution_count": null,
   "metadata": {},
   "outputs": [],
   "source": []
  },
  {
   "cell_type": "markdown",
   "metadata": {},
   "source": [
    "Formulate at least two Black Litterman views for the returns of the stocks in your\n",
    "portfolio for January 2024 (for formulating the views you can use historical averages,\n",
    "news and or public balance sheet data). Comment on the Black Litterman portfolio\n",
    "obtained when considering your views."
   ]
  },
  {
   "cell_type": "code",
   "execution_count": null,
   "metadata": {},
   "outputs": [],
   "source": []
  }
 ],
 "metadata": {
  "kernelspec": {
   "display_name": "Python 3",
   "language": "python",
   "name": "python3"
  },
  "language_info": {
   "codemirror_mode": {
    "name": "ipython",
    "version": 3
   },
   "file_extension": ".py",
   "mimetype": "text/x-python",
   "name": "python",
   "nbconvert_exporter": "python",
   "pygments_lexer": "ipython3",
   "version": "3.10.13"
  }
 },
 "nbformat": 4,
 "nbformat_minor": 2
}
